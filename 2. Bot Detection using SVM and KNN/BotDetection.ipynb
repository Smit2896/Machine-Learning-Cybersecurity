{
 "cells": [
  {
   "cell_type": "markdown",
   "metadata": {},
   "source": [
    "## Classifying the type of Twitter accounts (Bots or Humans) using KNN, Cross validation and SVM\n",
    "#### Hyperparameter tuning using GridSearchCV"
   ]
  },
  {
   "cell_type": "markdown",
   "metadata": {},
   "source": [
    "<div style=\"text-align: right\"> By Smit Doshi (001475186) </div>"
   ]
  },
  {
   "cell_type": "markdown",
   "metadata": {},
   "source": [
    "#### Importing Required Libraries"
   ]
  },
  {
   "cell_type": "code",
   "execution_count": 1,
   "metadata": {},
   "outputs": [],
   "source": [
    "import pandas as pd\n",
    "import numpy as np\n",
    "import matplotlib.pyplot as plt\n",
    "import seaborn as sns\n",
    "import time\n",
    "%matplotlib inline\n",
    "plt.rcParams['figure.figsize'] = (12,8)\n",
    "pd.set_option(\"display.min_rows\", 10)"
   ]
  },
  {
   "cell_type": "markdown",
   "metadata": {},
   "source": [
    "#### Importing Dataset"
   ]
  },
  {
   "cell_type": "code",
   "execution_count": 2,
   "metadata": {},
   "outputs": [],
   "source": [
    "data = pd.read_csv(\"Dataset.csv\",index_col=False)"
   ]
  },
  {
   "cell_type": "markdown",
   "metadata": {},
   "source": [
    "### Exploratory Data Analysis and Feature Engineering / Selection"
   ]
  },
  {
   "cell_type": "code",
   "execution_count": 3,
   "metadata": {},
   "outputs": [
    {
     "data": {
      "text/html": [
       "<div>\n",
       "<style scoped>\n",
       "    .dataframe tbody tr th:only-of-type {\n",
       "        vertical-align: middle;\n",
       "    }\n",
       "\n",
       "    .dataframe tbody tr th {\n",
       "        vertical-align: top;\n",
       "    }\n",
       "\n",
       "    .dataframe thead th {\n",
       "        text-align: right;\n",
       "    }\n",
       "</style>\n",
       "<table border=\"1\" class=\"dataframe\">\n",
       "  <thead>\n",
       "    <tr style=\"text-align: right;\">\n",
       "      <th></th>\n",
       "      <th>default_profile</th>\n",
       "      <th>default_profile_image</th>\n",
       "      <th>favorites_count</th>\n",
       "      <th>followers_count</th>\n",
       "      <th>friends_count</th>\n",
       "      <th>geo_enabled</th>\n",
       "      <th>id</th>\n",
       "      <th>lang</th>\n",
       "      <th>location</th>\n",
       "      <th>statuses_count</th>\n",
       "      <th>verified</th>\n",
       "      <th>average_tweets_per_day</th>\n",
       "      <th>account_age_days</th>\n",
       "      <th>account_type</th>\n",
       "    </tr>\n",
       "  </thead>\n",
       "  <tbody>\n",
       "    <tr>\n",
       "      <th>0</th>\n",
       "      <td>False</td>\n",
       "      <td>False</td>\n",
       "      <td>4</td>\n",
       "      <td>1589</td>\n",
       "      <td>4</td>\n",
       "      <td>False</td>\n",
       "      <td>7.870000e+17</td>\n",
       "      <td>en</td>\n",
       "      <td>unknown</td>\n",
       "      <td>11041</td>\n",
       "      <td>False</td>\n",
       "      <td>7.870</td>\n",
       "      <td>1403</td>\n",
       "      <td>bot</td>\n",
       "    </tr>\n",
       "    <tr>\n",
       "      <th>1</th>\n",
       "      <td>False</td>\n",
       "      <td>False</td>\n",
       "      <td>536</td>\n",
       "      <td>860</td>\n",
       "      <td>880</td>\n",
       "      <td>False</td>\n",
       "      <td>7.960000e+17</td>\n",
       "      <td>en</td>\n",
       "      <td>Estados Unidos</td>\n",
       "      <td>252</td>\n",
       "      <td>False</td>\n",
       "      <td>0.183</td>\n",
       "      <td>1379</td>\n",
       "      <td>human</td>\n",
       "    </tr>\n",
       "    <tr>\n",
       "      <th>2</th>\n",
       "      <td>False</td>\n",
       "      <td>False</td>\n",
       "      <td>3307</td>\n",
       "      <td>172</td>\n",
       "      <td>594</td>\n",
       "      <td>True</td>\n",
       "      <td>8.760000e+17</td>\n",
       "      <td>en</td>\n",
       "      <td>Los Angeles, CA</td>\n",
       "      <td>1001</td>\n",
       "      <td>False</td>\n",
       "      <td>0.864</td>\n",
       "      <td>1159</td>\n",
       "      <td>human</td>\n",
       "    </tr>\n",
       "    <tr>\n",
       "      <th>3</th>\n",
       "      <td>True</td>\n",
       "      <td>False</td>\n",
       "      <td>8433</td>\n",
       "      <td>517</td>\n",
       "      <td>633</td>\n",
       "      <td>True</td>\n",
       "      <td>7.560000e+17</td>\n",
       "      <td>en</td>\n",
       "      <td>Birmingham, AL</td>\n",
       "      <td>1324</td>\n",
       "      <td>False</td>\n",
       "      <td>0.889</td>\n",
       "      <td>1489</td>\n",
       "      <td>human</td>\n",
       "    </tr>\n",
       "    <tr>\n",
       "      <th>4</th>\n",
       "      <td>False</td>\n",
       "      <td>False</td>\n",
       "      <td>88</td>\n",
       "      <td>753678</td>\n",
       "      <td>116</td>\n",
       "      <td>True</td>\n",
       "      <td>4.647813e+08</td>\n",
       "      <td>en</td>\n",
       "      <td>England, United Kingdom</td>\n",
       "      <td>4202</td>\n",
       "      <td>True</td>\n",
       "      <td>1.339</td>\n",
       "      <td>3138</td>\n",
       "      <td>human</td>\n",
       "    </tr>\n",
       "  </tbody>\n",
       "</table>\n",
       "</div>"
      ],
      "text/plain": [
       "   default_profile  default_profile_image  favorites_count  followers_count  \\\n",
       "0            False                  False                4             1589   \n",
       "1            False                  False              536              860   \n",
       "2            False                  False             3307              172   \n",
       "3             True                  False             8433              517   \n",
       "4            False                  False               88           753678   \n",
       "\n",
       "   friends_count  geo_enabled            id lang                 location  \\\n",
       "0              4        False  7.870000e+17   en                  unknown   \n",
       "1            880        False  7.960000e+17   en           Estados Unidos   \n",
       "2            594         True  8.760000e+17   en          Los Angeles, CA   \n",
       "3            633         True  7.560000e+17   en           Birmingham, AL   \n",
       "4            116         True  4.647813e+08   en  England, United Kingdom   \n",
       "\n",
       "   statuses_count  verified  average_tweets_per_day  account_age_days  \\\n",
       "0           11041     False                   7.870              1403   \n",
       "1             252     False                   0.183              1379   \n",
       "2            1001     False                   0.864              1159   \n",
       "3            1324     False                   0.889              1489   \n",
       "4            4202      True                   1.339              3138   \n",
       "\n",
       "  account_type  \n",
       "0          bot  \n",
       "1        human  \n",
       "2        human  \n",
       "3        human  \n",
       "4        human  "
      ]
     },
     "execution_count": 3,
     "metadata": {},
     "output_type": "execute_result"
    }
   ],
   "source": [
    "data.head()"
   ]
  },
  {
   "cell_type": "code",
   "execution_count": 4,
   "metadata": {},
   "outputs": [
    {
     "name": "stdout",
     "output_type": "stream",
     "text": [
      "<class 'pandas.core.frame.DataFrame'>\n",
      "RangeIndex: 37438 entries, 0 to 37437\n",
      "Data columns (total 14 columns):\n",
      " #   Column                  Non-Null Count  Dtype  \n",
      "---  ------                  --------------  -----  \n",
      " 0   default_profile         37438 non-null  bool   \n",
      " 1   default_profile_image   37438 non-null  bool   \n",
      " 2   favorites_count         37438 non-null  int64  \n",
      " 3   followers_count         37438 non-null  int64  \n",
      " 4   friends_count           37438 non-null  int64  \n",
      " 5   geo_enabled             37438 non-null  bool   \n",
      " 6   id                      37438 non-null  float64\n",
      " 7   lang                    29481 non-null  object \n",
      " 8   location                37435 non-null  object \n",
      " 9   statuses_count          37438 non-null  int64  \n",
      " 10  verified                37438 non-null  bool   \n",
      " 11  average_tweets_per_day  37438 non-null  float64\n",
      " 12  account_age_days        37438 non-null  int64  \n",
      " 13  account_type            37438 non-null  object \n",
      "dtypes: bool(4), float64(2), int64(5), object(3)\n",
      "memory usage: 3.0+ MB\n"
     ]
    }
   ],
   "source": [
    "## We can see that there are almost 7k null/nan values in lang column - lets dig deeper\n",
    "data.info()"
   ]
  },
  {
   "cell_type": "code",
   "execution_count": 5,
   "metadata": {},
   "outputs": [
    {
     "data": {
      "text/html": [
       "<div>\n",
       "<style scoped>\n",
       "    .dataframe tbody tr th:only-of-type {\n",
       "        vertical-align: middle;\n",
       "    }\n",
       "\n",
       "    .dataframe tbody tr th {\n",
       "        vertical-align: top;\n",
       "    }\n",
       "\n",
       "    .dataframe thead th {\n",
       "        text-align: right;\n",
       "    }\n",
       "</style>\n",
       "<table border=\"1\" class=\"dataframe\">\n",
       "  <thead>\n",
       "    <tr style=\"text-align: right;\">\n",
       "      <th></th>\n",
       "      <th>default_profile</th>\n",
       "      <th>default_profile_image</th>\n",
       "      <th>favorites_count</th>\n",
       "      <th>followers_count</th>\n",
       "      <th>friends_count</th>\n",
       "      <th>geo_enabled</th>\n",
       "      <th>id</th>\n",
       "      <th>statuses_count</th>\n",
       "      <th>verified</th>\n",
       "      <th>average_tweets_per_day</th>\n",
       "      <th>account_age_days</th>\n",
       "    </tr>\n",
       "  </thead>\n",
       "  <tbody>\n",
       "    <tr>\n",
       "      <th>default_profile</th>\n",
       "      <td>1.000000</td>\n",
       "      <td>0.115994</td>\n",
       "      <td>-0.088897</td>\n",
       "      <td>-0.089969</td>\n",
       "      <td>-0.048898</td>\n",
       "      <td>-0.273882</td>\n",
       "      <td>0.309865</td>\n",
       "      <td>-0.131859</td>\n",
       "      <td>-0.264979</td>\n",
       "      <td>-0.082269</td>\n",
       "      <td>-0.459317</td>\n",
       "    </tr>\n",
       "    <tr>\n",
       "      <th>default_profile_image</th>\n",
       "      <td>0.115994</td>\n",
       "      <td>1.000000</td>\n",
       "      <td>-0.035908</td>\n",
       "      <td>-0.018062</td>\n",
       "      <td>-0.010599</td>\n",
       "      <td>-0.095831</td>\n",
       "      <td>0.014109</td>\n",
       "      <td>-0.027591</td>\n",
       "      <td>-0.058531</td>\n",
       "      <td>-0.020461</td>\n",
       "      <td>-0.047478</td>\n",
       "    </tr>\n",
       "    <tr>\n",
       "      <th>favorites_count</th>\n",
       "      <td>-0.088897</td>\n",
       "      <td>-0.035908</td>\n",
       "      <td>1.000000</td>\n",
       "      <td>-0.024431</td>\n",
       "      <td>0.066202</td>\n",
       "      <td>0.135524</td>\n",
       "      <td>-0.049551</td>\n",
       "      <td>0.264001</td>\n",
       "      <td>0.004998</td>\n",
       "      <td>0.275568</td>\n",
       "      <td>0.024098</td>\n",
       "    </tr>\n",
       "    <tr>\n",
       "      <th>followers_count</th>\n",
       "      <td>-0.089969</td>\n",
       "      <td>-0.018062</td>\n",
       "      <td>-0.024431</td>\n",
       "      <td>1.000000</td>\n",
       "      <td>0.048482</td>\n",
       "      <td>0.042550</td>\n",
       "      <td>-0.059866</td>\n",
       "      <td>0.031302</td>\n",
       "      <td>0.273493</td>\n",
       "      <td>0.010845</td>\n",
       "      <td>0.119114</td>\n",
       "    </tr>\n",
       "    <tr>\n",
       "      <th>friends_count</th>\n",
       "      <td>-0.048898</td>\n",
       "      <td>-0.010599</td>\n",
       "      <td>0.066202</td>\n",
       "      <td>0.048482</td>\n",
       "      <td>1.000000</td>\n",
       "      <td>0.028229</td>\n",
       "      <td>-0.029059</td>\n",
       "      <td>0.077872</td>\n",
       "      <td>0.051031</td>\n",
       "      <td>0.059842</td>\n",
       "      <td>0.043834</td>\n",
       "    </tr>\n",
       "    <tr>\n",
       "      <th>geo_enabled</th>\n",
       "      <td>-0.273882</td>\n",
       "      <td>-0.095831</td>\n",
       "      <td>0.135524</td>\n",
       "      <td>0.042550</td>\n",
       "      <td>0.028229</td>\n",
       "      <td>1.000000</td>\n",
       "      <td>-0.248482</td>\n",
       "      <td>0.090194</td>\n",
       "      <td>0.196153</td>\n",
       "      <td>0.057770</td>\n",
       "      <td>0.280077</td>\n",
       "    </tr>\n",
       "    <tr>\n",
       "      <th>id</th>\n",
       "      <td>0.309865</td>\n",
       "      <td>0.014109</td>\n",
       "      <td>-0.049551</td>\n",
       "      <td>-0.059866</td>\n",
       "      <td>-0.029059</td>\n",
       "      <td>-0.248482</td>\n",
       "      <td>1.000000</td>\n",
       "      <td>-0.085926</td>\n",
       "      <td>-0.190823</td>\n",
       "      <td>-0.020600</td>\n",
       "      <td>-0.730932</td>\n",
       "    </tr>\n",
       "    <tr>\n",
       "      <th>statuses_count</th>\n",
       "      <td>-0.131859</td>\n",
       "      <td>-0.027591</td>\n",
       "      <td>0.264001</td>\n",
       "      <td>0.031302</td>\n",
       "      <td>0.077872</td>\n",
       "      <td>0.090194</td>\n",
       "      <td>-0.085926</td>\n",
       "      <td>1.000000</td>\n",
       "      <td>0.079066</td>\n",
       "      <td>0.929172</td>\n",
       "      <td>0.115308</td>\n",
       "    </tr>\n",
       "    <tr>\n",
       "      <th>verified</th>\n",
       "      <td>-0.264979</td>\n",
       "      <td>-0.058531</td>\n",
       "      <td>0.004998</td>\n",
       "      <td>0.273493</td>\n",
       "      <td>0.051031</td>\n",
       "      <td>0.196153</td>\n",
       "      <td>-0.190823</td>\n",
       "      <td>0.079066</td>\n",
       "      <td>1.000000</td>\n",
       "      <td>0.027558</td>\n",
       "      <td>0.350272</td>\n",
       "    </tr>\n",
       "    <tr>\n",
       "      <th>average_tweets_per_day</th>\n",
       "      <td>-0.082269</td>\n",
       "      <td>-0.020461</td>\n",
       "      <td>0.275568</td>\n",
       "      <td>0.010845</td>\n",
       "      <td>0.059842</td>\n",
       "      <td>0.057770</td>\n",
       "      <td>-0.020600</td>\n",
       "      <td>0.929172</td>\n",
       "      <td>0.027558</td>\n",
       "      <td>1.000000</td>\n",
       "      <td>0.009868</td>\n",
       "    </tr>\n",
       "    <tr>\n",
       "      <th>account_age_days</th>\n",
       "      <td>-0.459317</td>\n",
       "      <td>-0.047478</td>\n",
       "      <td>0.024098</td>\n",
       "      <td>0.119114</td>\n",
       "      <td>0.043834</td>\n",
       "      <td>0.280077</td>\n",
       "      <td>-0.730932</td>\n",
       "      <td>0.115308</td>\n",
       "      <td>0.350272</td>\n",
       "      <td>0.009868</td>\n",
       "      <td>1.000000</td>\n",
       "    </tr>\n",
       "  </tbody>\n",
       "</table>\n",
       "</div>"
      ],
      "text/plain": [
       "                        default_profile  default_profile_image  \\\n",
       "default_profile                1.000000               0.115994   \n",
       "default_profile_image          0.115994               1.000000   \n",
       "favorites_count               -0.088897              -0.035908   \n",
       "followers_count               -0.089969              -0.018062   \n",
       "friends_count                 -0.048898              -0.010599   \n",
       "geo_enabled                   -0.273882              -0.095831   \n",
       "id                             0.309865               0.014109   \n",
       "statuses_count                -0.131859              -0.027591   \n",
       "verified                      -0.264979              -0.058531   \n",
       "average_tweets_per_day        -0.082269              -0.020461   \n",
       "account_age_days              -0.459317              -0.047478   \n",
       "\n",
       "                        favorites_count  followers_count  friends_count  \\\n",
       "default_profile               -0.088897        -0.089969      -0.048898   \n",
       "default_profile_image         -0.035908        -0.018062      -0.010599   \n",
       "favorites_count                1.000000        -0.024431       0.066202   \n",
       "followers_count               -0.024431         1.000000       0.048482   \n",
       "friends_count                  0.066202         0.048482       1.000000   \n",
       "geo_enabled                    0.135524         0.042550       0.028229   \n",
       "id                            -0.049551        -0.059866      -0.029059   \n",
       "statuses_count                 0.264001         0.031302       0.077872   \n",
       "verified                       0.004998         0.273493       0.051031   \n",
       "average_tweets_per_day         0.275568         0.010845       0.059842   \n",
       "account_age_days               0.024098         0.119114       0.043834   \n",
       "\n",
       "                        geo_enabled        id  statuses_count  verified  \\\n",
       "default_profile           -0.273882  0.309865       -0.131859 -0.264979   \n",
       "default_profile_image     -0.095831  0.014109       -0.027591 -0.058531   \n",
       "favorites_count            0.135524 -0.049551        0.264001  0.004998   \n",
       "followers_count            0.042550 -0.059866        0.031302  0.273493   \n",
       "friends_count              0.028229 -0.029059        0.077872  0.051031   \n",
       "geo_enabled                1.000000 -0.248482        0.090194  0.196153   \n",
       "id                        -0.248482  1.000000       -0.085926 -0.190823   \n",
       "statuses_count             0.090194 -0.085926        1.000000  0.079066   \n",
       "verified                   0.196153 -0.190823        0.079066  1.000000   \n",
       "average_tweets_per_day     0.057770 -0.020600        0.929172  0.027558   \n",
       "account_age_days           0.280077 -0.730932        0.115308  0.350272   \n",
       "\n",
       "                        average_tweets_per_day  account_age_days  \n",
       "default_profile                      -0.082269         -0.459317  \n",
       "default_profile_image                -0.020461         -0.047478  \n",
       "favorites_count                       0.275568          0.024098  \n",
       "followers_count                       0.010845          0.119114  \n",
       "friends_count                         0.059842          0.043834  \n",
       "geo_enabled                           0.057770          0.280077  \n",
       "id                                   -0.020600         -0.730932  \n",
       "statuses_count                        0.929172          0.115308  \n",
       "verified                              0.027558          0.350272  \n",
       "average_tweets_per_day                1.000000          0.009868  \n",
       "account_age_days                      0.009868          1.000000  "
      ]
     },
     "execution_count": 5,
     "metadata": {},
     "output_type": "execute_result"
    }
   ],
   "source": [
    "#A look into correlation of the data.\n",
    "cor = data.corr()\n",
    "cor"
   ]
  },
  {
   "cell_type": "code",
   "execution_count": 6,
   "metadata": {},
   "outputs": [
    {
     "data": {
      "text/plain": [
       "<AxesSubplot:>"
      ]
     },
     "execution_count": 6,
     "metadata": {},
     "output_type": "execute_result"
    },
    {
     "data": {
      "image/png": "[encoded data removed]",
      "text/plain": [
       "<Figure size 864x576 with 2 Axes>"
      ]
     },
     "metadata": {
      "needs_background": "light"
     },
     "output_type": "display_data"
    }
   ],
   "source": [
    "# Most of the them doesnot have any strong correlation\n",
    "sns.heatmap(cor, \n",
    "        xticklabels=cor.columns,\n",
    "        yticklabels=cor.columns)"
   ]
  },
  {
   "cell_type": "code",
   "execution_count": 7,
   "metadata": {},
   "outputs": [
    {
     "name": "stdout",
     "output_type": "stream",
     "text": [
      "48\n"
     ]
    },
    {
     "data": {
      "text/plain": [
       "array(['en', 'ar', nan, 'so', 'it', 'es', 'fr', 'id', 'pt', 'ja', 'zh-cn',\n",
       "       'de', 'lt', 'ru', 'tl', 'af', 'cy', 'tr', 'vi', 'ca', 'no', 'hu',\n",
       "       'sw', 'ko', 'fa', 'el', 'sl', 'et', 'pl', 'fi', 'ro', 'nl', 'da',\n",
       "       'sk', 'bg', 'sv', 'mk', 'hr', 'th', 'sq', 'cs', 'ur', 'hi', 'lv',\n",
       "       'he', 'zh-tw', 'ne', 'uk', 'pa'], dtype=object)"
      ]
     },
     "execution_count": 7,
     "metadata": {},
     "output_type": "execute_result"
    }
   ],
   "source": [
    "## we can see here there are 48 unique values with actual values\n",
    "print(data['lang'].nunique())\n",
    "data['lang'].unique()"
   ]
  },
  {
   "cell_type": "code",
   "execution_count": 8,
   "metadata": {},
   "outputs": [
    {
     "data": {
      "text/plain": [
       "en       21450\n",
       "es        1213\n",
       "pt         704\n",
       "it         637\n",
       "ar         594\n",
       "de         536\n",
       "ja         378\n",
       "fr         375\n",
       "af         333\n",
       "id         313\n",
       "ru         250\n",
       "tr         220\n",
       "ca         198\n",
       "tl         192\n",
       "sw         182\n",
       "da         174\n",
       "no         172\n",
       "nl         165\n",
       "ro         148\n",
       "cy         143\n",
       "sv         126\n",
       "so         125\n",
       "ko         115\n",
       "et          95\n",
       "zh-cn       91\n",
       "fi          72\n",
       "pl          62\n",
       "vi          55\n",
       "hr          50\n",
       "sl          43\n",
       "hu          35\n",
       "th          31\n",
       "sk          31\n",
       "lt          28\n",
       "sq          23\n",
       "bg          20\n",
       "el          18\n",
       "mk          16\n",
       "uk          13\n",
       "fa          12\n",
       "cs          12\n",
       "ur           9\n",
       "hi           8\n",
       "lv           6\n",
       "zh-tw        3\n",
       "he           2\n",
       "ne           2\n",
       "pa           1\n",
       "Name: lang, dtype: int64"
      ]
     },
     "execution_count": 8,
     "metadata": {},
     "output_type": "execute_result"
    }
   ],
   "source": [
    "# here we can see that most popular is english and spanish(es) - but english is the majority of the dataset\n",
    "data['lang'].value_counts()"
   ]
  },
  {
   "cell_type": "code",
   "execution_count": 9,
   "metadata": {},
   "outputs": [
    {
     "data": {
      "text/html": [
       "<div>\n",
       "<style scoped>\n",
       "    .dataframe tbody tr th:only-of-type {\n",
       "        vertical-align: middle;\n",
       "    }\n",
       "\n",
       "    .dataframe tbody tr th {\n",
       "        vertical-align: top;\n",
       "    }\n",
       "\n",
       "    .dataframe thead th {\n",
       "        text-align: right;\n",
       "    }\n",
       "</style>\n",
       "<table border=\"1\" class=\"dataframe\">\n",
       "  <thead>\n",
       "    <tr style=\"text-align: right;\">\n",
       "      <th></th>\n",
       "      <th>default_profile</th>\n",
       "      <th>default_profile_image</th>\n",
       "      <th>favorites_count</th>\n",
       "      <th>followers_count</th>\n",
       "      <th>friends_count</th>\n",
       "      <th>geo_enabled</th>\n",
       "      <th>id</th>\n",
       "      <th>lang</th>\n",
       "      <th>location</th>\n",
       "      <th>statuses_count</th>\n",
       "      <th>verified</th>\n",
       "      <th>average_tweets_per_day</th>\n",
       "      <th>account_age_days</th>\n",
       "      <th>account_type</th>\n",
       "    </tr>\n",
       "  </thead>\n",
       "  <tbody>\n",
       "    <tr>\n",
       "      <th>8</th>\n",
       "      <td>True</td>\n",
       "      <td>False</td>\n",
       "      <td>64</td>\n",
       "      <td>24</td>\n",
       "      <td>0</td>\n",
       "      <td>False</td>\n",
       "      <td>1.015022e+09</td>\n",
       "      <td>NaN</td>\n",
       "      <td>unknown</td>\n",
       "      <td>277</td>\n",
       "      <td>False</td>\n",
       "      <td>0.099</td>\n",
       "      <td>2802</td>\n",
       "      <td>human</td>\n",
       "    </tr>\n",
       "    <tr>\n",
       "      <th>19</th>\n",
       "      <td>True</td>\n",
       "      <td>False</td>\n",
       "      <td>510</td>\n",
       "      <td>6</td>\n",
       "      <td>33</td>\n",
       "      <td>False</td>\n",
       "      <td>3.845653e+08</td>\n",
       "      <td>NaN</td>\n",
       "      <td>unknown</td>\n",
       "      <td>639</td>\n",
       "      <td>False</td>\n",
       "      <td>0.197</td>\n",
       "      <td>3242</td>\n",
       "      <td>bot</td>\n",
       "    </tr>\n",
       "    <tr>\n",
       "      <th>40</th>\n",
       "      <td>False</td>\n",
       "      <td>False</td>\n",
       "      <td>722</td>\n",
       "      <td>1300</td>\n",
       "      <td>1137</td>\n",
       "      <td>True</td>\n",
       "      <td>2.356677e+08</td>\n",
       "      <td>NaN</td>\n",
       "      <td>unknown</td>\n",
       "      <td>70176</td>\n",
       "      <td>False</td>\n",
       "      <td>19.993</td>\n",
       "      <td>3510</td>\n",
       "      <td>human</td>\n",
       "    </tr>\n",
       "    <tr>\n",
       "      <th>42</th>\n",
       "      <td>False</td>\n",
       "      <td>False</td>\n",
       "      <td>2896</td>\n",
       "      <td>338</td>\n",
       "      <td>743</td>\n",
       "      <td>True</td>\n",
       "      <td>2.499019e+09</td>\n",
       "      <td>NaN</td>\n",
       "      <td>unknown</td>\n",
       "      <td>7167</td>\n",
       "      <td>False</td>\n",
       "      <td>3.135</td>\n",
       "      <td>2286</td>\n",
       "      <td>human</td>\n",
       "    </tr>\n",
       "    <tr>\n",
       "      <th>47</th>\n",
       "      <td>False</td>\n",
       "      <td>False</td>\n",
       "      <td>1325</td>\n",
       "      <td>25</td>\n",
       "      <td>851</td>\n",
       "      <td>False</td>\n",
       "      <td>5.190476e+07</td>\n",
       "      <td>NaN</td>\n",
       "      <td>unknown</td>\n",
       "      <td>1807</td>\n",
       "      <td>False</td>\n",
       "      <td>0.444</td>\n",
       "      <td>4069</td>\n",
       "      <td>bot</td>\n",
       "    </tr>\n",
       "    <tr>\n",
       "      <th>...</th>\n",
       "      <td>...</td>\n",
       "      <td>...</td>\n",
       "      <td>...</td>\n",
       "      <td>...</td>\n",
       "      <td>...</td>\n",
       "      <td>...</td>\n",
       "      <td>...</td>\n",
       "      <td>...</td>\n",
       "      <td>...</td>\n",
       "      <td>...</td>\n",
       "      <td>...</td>\n",
       "      <td>...</td>\n",
       "      <td>...</td>\n",
       "      <td>...</td>\n",
       "    </tr>\n",
       "    <tr>\n",
       "      <th>37412</th>\n",
       "      <td>False</td>\n",
       "      <td>False</td>\n",
       "      <td>1432</td>\n",
       "      <td>93</td>\n",
       "      <td>199</td>\n",
       "      <td>True</td>\n",
       "      <td>1.798306e+08</td>\n",
       "      <td>NaN</td>\n",
       "      <td>Trabzon, Türkiye</td>\n",
       "      <td>1812</td>\n",
       "      <td>False</td>\n",
       "      <td>0.496</td>\n",
       "      <td>3654</td>\n",
       "      <td>human</td>\n",
       "    </tr>\n",
       "    <tr>\n",
       "      <th>37415</th>\n",
       "      <td>True</td>\n",
       "      <td>True</td>\n",
       "      <td>222</td>\n",
       "      <td>2</td>\n",
       "      <td>19</td>\n",
       "      <td>False</td>\n",
       "      <td>7.132937e+08</td>\n",
       "      <td>NaN</td>\n",
       "      <td>unknown</td>\n",
       "      <td>58</td>\n",
       "      <td>False</td>\n",
       "      <td>0.020</td>\n",
       "      <td>2948</td>\n",
       "      <td>bot</td>\n",
       "    </tr>\n",
       "    <tr>\n",
       "      <th>37420</th>\n",
       "      <td>False</td>\n",
       "      <td>False</td>\n",
       "      <td>2465</td>\n",
       "      <td>114</td>\n",
       "      <td>70</td>\n",
       "      <td>True</td>\n",
       "      <td>1.080032e+08</td>\n",
       "      <td>NaN</td>\n",
       "      <td>Salvador</td>\n",
       "      <td>5799</td>\n",
       "      <td>False</td>\n",
       "      <td>1.503</td>\n",
       "      <td>3859</td>\n",
       "      <td>bot</td>\n",
       "    </tr>\n",
       "    <tr>\n",
       "      <th>37422</th>\n",
       "      <td>True</td>\n",
       "      <td>False</td>\n",
       "      <td>1368</td>\n",
       "      <td>6</td>\n",
       "      <td>170</td>\n",
       "      <td>False</td>\n",
       "      <td>1.556873e+09</td>\n",
       "      <td>NaN</td>\n",
       "      <td>unknown</td>\n",
       "      <td>2056</td>\n",
       "      <td>False</td>\n",
       "      <td>0.789</td>\n",
       "      <td>2607</td>\n",
       "      <td>bot</td>\n",
       "    </tr>\n",
       "    <tr>\n",
       "      <th>37428</th>\n",
       "      <td>False</td>\n",
       "      <td>False</td>\n",
       "      <td>1887</td>\n",
       "      <td>15</td>\n",
       "      <td>27</td>\n",
       "      <td>False</td>\n",
       "      <td>1.806172e+08</td>\n",
       "      <td>NaN</td>\n",
       "      <td>Seattle, WA</td>\n",
       "      <td>3112</td>\n",
       "      <td>False</td>\n",
       "      <td>0.852</td>\n",
       "      <td>3652</td>\n",
       "      <td>human</td>\n",
       "    </tr>\n",
       "  </tbody>\n",
       "</table>\n",
       "<p>7957 rows × 14 columns</p>\n",
       "</div>"
      ],
      "text/plain": [
       "       default_profile  default_profile_image  favorites_count  \\\n",
       "8                 True                  False               64   \n",
       "19                True                  False              510   \n",
       "40               False                  False              722   \n",
       "42               False                  False             2896   \n",
       "47               False                  False             1325   \n",
       "...                ...                    ...              ...   \n",
       "37412            False                  False             1432   \n",
       "37415             True                   True              222   \n",
       "37420            False                  False             2465   \n",
       "37422             True                  False             1368   \n",
       "37428            False                  False             1887   \n",
       "\n",
       "       followers_count  friends_count  geo_enabled            id lang  \\\n",
       "8                   24              0        False  1.015022e+09  NaN   \n",
       "19                   6             33        False  3.845653e+08  NaN   \n",
       "40                1300           1137         True  2.356677e+08  NaN   \n",
       "42                 338            743         True  2.499019e+09  NaN   \n",
       "47                  25            851        False  5.190476e+07  NaN   \n",
       "...                ...            ...          ...           ...  ...   \n",
       "37412               93            199         True  1.798306e+08  NaN   \n",
       "37415                2             19        False  7.132937e+08  NaN   \n",
       "37420              114             70         True  1.080032e+08  NaN   \n",
       "37422                6            170        False  1.556873e+09  NaN   \n",
       "37428               15             27        False  1.806172e+08  NaN   \n",
       "\n",
       "               location  statuses_count  verified  average_tweets_per_day  \\\n",
       "8               unknown             277     False                   0.099   \n",
       "19              unknown             639     False                   0.197   \n",
       "40              unknown           70176     False                  19.993   \n",
       "42              unknown            7167     False                   3.135   \n",
       "47              unknown            1807     False                   0.444   \n",
       "...                 ...             ...       ...                     ...   \n",
       "37412  Trabzon, Türkiye            1812     False                   0.496   \n",
       "37415           unknown              58     False                   0.020   \n",
       "37420          Salvador            5799     False                   1.503   \n",
       "37422           unknown            2056     False                   0.789   \n",
       "37428       Seattle, WA            3112     False                   0.852   \n",
       "\n",
       "       account_age_days account_type  \n",
       "8                  2802        human  \n",
       "19                 3242          bot  \n",
       "40                 3510        human  \n",
       "42                 2286        human  \n",
       "47                 4069          bot  \n",
       "...                 ...          ...  \n",
       "37412              3654        human  \n",
       "37415              2948          bot  \n",
       "37420              3859          bot  \n",
       "37422              2607          bot  \n",
       "37428              3652        human  \n",
       "\n",
       "[7957 rows x 14 columns]"
      ]
     },
     "execution_count": 9,
     "metadata": {},
     "output_type": "execute_result"
    }
   ],
   "source": [
    "## so there are exactly 7957 nan values in the column of lang\n",
    "## question is what to assign to it - maximum value = en or something else?\n",
    "data[data['lang'].isnull()==True] "
   ]
  },
  {
   "cell_type": "code",
   "execution_count": 10,
   "metadata": {},
   "outputs": [
    {
     "data": {
      "text/plain": [
       "unknown                         13023\n",
       "Los Angeles, CA                   524\n",
       "New York, NY                      339\n",
       "United States                     239\n",
       "Washington, DC                    224\n",
       "                                ...  \n",
       "Kickapoo Tribal Land                1\n",
       "Mia-Atl                             1\n",
       "Ankara, Keçiören                    1\n",
       "Lemgo (Deutschland)                 1\n",
       "San Francisco, Bath & Sydney        1\n",
       "Name: location, Length: 12047, dtype: int64"
      ]
     },
     "execution_count": 10,
     "metadata": {},
     "output_type": "execute_result"
    }
   ],
   "source": [
    "data['location'].value_counts()"
   ]
  },
  {
   "cell_type": "code",
   "execution_count": 11,
   "metadata": {},
   "outputs": [
    {
     "data": {
      "text/html": [
       "<div>\n",
       "<style scoped>\n",
       "    .dataframe tbody tr th:only-of-type {\n",
       "        vertical-align: middle;\n",
       "    }\n",
       "\n",
       "    .dataframe tbody tr th {\n",
       "        vertical-align: top;\n",
       "    }\n",
       "\n",
       "    .dataframe thead th {\n",
       "        text-align: right;\n",
       "    }\n",
       "</style>\n",
       "<table border=\"1\" class=\"dataframe\">\n",
       "  <thead>\n",
       "    <tr style=\"text-align: right;\">\n",
       "      <th></th>\n",
       "      <th>default_profile</th>\n",
       "      <th>default_profile_image</th>\n",
       "      <th>favorites_count</th>\n",
       "      <th>followers_count</th>\n",
       "      <th>friends_count</th>\n",
       "      <th>geo_enabled</th>\n",
       "      <th>id</th>\n",
       "      <th>lang</th>\n",
       "      <th>location</th>\n",
       "      <th>statuses_count</th>\n",
       "      <th>verified</th>\n",
       "      <th>average_tweets_per_day</th>\n",
       "      <th>account_age_days</th>\n",
       "      <th>account_type</th>\n",
       "    </tr>\n",
       "  </thead>\n",
       "  <tbody>\n",
       "    <tr>\n",
       "      <th>4393</th>\n",
       "      <td>True</td>\n",
       "      <td>False</td>\n",
       "      <td>1312</td>\n",
       "      <td>34</td>\n",
       "      <td>95</td>\n",
       "      <td>False</td>\n",
       "      <td>106723717.0</td>\n",
       "      <td>NaN</td>\n",
       "      <td>NaN</td>\n",
       "      <td>2282</td>\n",
       "      <td>False</td>\n",
       "      <td>0.591</td>\n",
       "      <td>3863</td>\n",
       "      <td>human</td>\n",
       "    </tr>\n",
       "    <tr>\n",
       "      <th>19669</th>\n",
       "      <td>True</td>\n",
       "      <td>False</td>\n",
       "      <td>65</td>\n",
       "      <td>23</td>\n",
       "      <td>0</td>\n",
       "      <td>False</td>\n",
       "      <td>346429898.0</td>\n",
       "      <td>en</td>\n",
       "      <td>NaN</td>\n",
       "      <td>803</td>\n",
       "      <td>False</td>\n",
       "      <td>0.243</td>\n",
       "      <td>3306</td>\n",
       "      <td>bot</td>\n",
       "    </tr>\n",
       "    <tr>\n",
       "      <th>30520</th>\n",
       "      <td>False</td>\n",
       "      <td>False</td>\n",
       "      <td>86090</td>\n",
       "      <td>4077366</td>\n",
       "      <td>451</td>\n",
       "      <td>True</td>\n",
       "      <td>23019705.0</td>\n",
       "      <td>en</td>\n",
       "      <td>NaN</td>\n",
       "      <td>24337</td>\n",
       "      <td>True</td>\n",
       "      <td>5.817</td>\n",
       "      <td>4184</td>\n",
       "      <td>human</td>\n",
       "    </tr>\n",
       "  </tbody>\n",
       "</table>\n",
       "</div>"
      ],
      "text/plain": [
       "       default_profile  default_profile_image  favorites_count  \\\n",
       "4393              True                  False             1312   \n",
       "19669             True                  False               65   \n",
       "30520            False                  False            86090   \n",
       "\n",
       "       followers_count  friends_count  geo_enabled           id lang location  \\\n",
       "4393                34             95        False  106723717.0  NaN      NaN   \n",
       "19669               23              0        False  346429898.0   en      NaN   \n",
       "30520          4077366            451         True   23019705.0   en      NaN   \n",
       "\n",
       "       statuses_count  verified  average_tweets_per_day  account_age_days  \\\n",
       "4393             2282     False                   0.591              3863   \n",
       "19669             803     False                   0.243              3306   \n",
       "30520           24337      True                   5.817              4184   \n",
       "\n",
       "      account_type  \n",
       "4393         human  \n",
       "19669          bot  \n",
       "30520        human  "
      ]
     },
     "execution_count": 11,
     "metadata": {},
     "output_type": "execute_result"
    }
   ],
   "source": [
    "data[data['location'].isnull() ==True]"
   ]
  },
  {
   "cell_type": "markdown",
   "metadata": {},
   "source": [
    "#### Dropping \"Location\" and \"Language\" as they have alot of null/missing values and they are not even holding solid information even after cleaning and encoding it."
   ]
  },
  {
   "cell_type": "code",
   "execution_count": 12,
   "metadata": {},
   "outputs": [],
   "source": [
    "data.drop(['location','lang'],axis=1,inplace=True)"
   ]
  },
  {
   "cell_type": "code",
   "execution_count": 13,
   "metadata": {},
   "outputs": [],
   "source": [
    "from sklearn.preprocessing import LabelEncoder\n",
    "le = LabelEncoder()"
   ]
  },
  {
   "cell_type": "code",
   "execution_count": 14,
   "metadata": {},
   "outputs": [
    {
     "data": {
      "text/html": [
       "<div>\n",
       "<style scoped>\n",
       "    .dataframe tbody tr th:only-of-type {\n",
       "        vertical-align: middle;\n",
       "    }\n",
       "\n",
       "    .dataframe tbody tr th {\n",
       "        vertical-align: top;\n",
       "    }\n",
       "\n",
       "    .dataframe thead th {\n",
       "        text-align: right;\n",
       "    }\n",
       "</style>\n",
       "<table border=\"1\" class=\"dataframe\">\n",
       "  <thead>\n",
       "    <tr style=\"text-align: right;\">\n",
       "      <th></th>\n",
       "      <th>default_profile</th>\n",
       "      <th>default_profile_image</th>\n",
       "      <th>favorites_count</th>\n",
       "      <th>followers_count</th>\n",
       "      <th>friends_count</th>\n",
       "      <th>geo_enabled</th>\n",
       "      <th>id</th>\n",
       "      <th>statuses_count</th>\n",
       "      <th>verified</th>\n",
       "      <th>average_tweets_per_day</th>\n",
       "      <th>account_age_days</th>\n",
       "      <th>account_type</th>\n",
       "    </tr>\n",
       "  </thead>\n",
       "  <tbody>\n",
       "    <tr>\n",
       "      <th>0</th>\n",
       "      <td>0</td>\n",
       "      <td>0</td>\n",
       "      <td>4</td>\n",
       "      <td>1542</td>\n",
       "      <td>4</td>\n",
       "      <td>0</td>\n",
       "      <td>32155</td>\n",
       "      <td>8137</td>\n",
       "      <td>0</td>\n",
       "      <td>6372</td>\n",
       "      <td>750</td>\n",
       "      <td>0</td>\n",
       "    </tr>\n",
       "    <tr>\n",
       "      <th>1</th>\n",
       "      <td>0</td>\n",
       "      <td>0</td>\n",
       "      <td>535</td>\n",
       "      <td>860</td>\n",
       "      <td>880</td>\n",
       "      <td>0</td>\n",
       "      <td>32164</td>\n",
       "      <td>252</td>\n",
       "      <td>0</td>\n",
       "      <td>183</td>\n",
       "      <td>726</td>\n",
       "      <td>1</td>\n",
       "    </tr>\n",
       "    <tr>\n",
       "      <th>2</th>\n",
       "      <td>0</td>\n",
       "      <td>0</td>\n",
       "      <td>3204</td>\n",
       "      <td>172</td>\n",
       "      <td>594</td>\n",
       "      <td>1</td>\n",
       "      <td>32244</td>\n",
       "      <td>988</td>\n",
       "      <td>0</td>\n",
       "      <td>864</td>\n",
       "      <td>506</td>\n",
       "      <td>1</td>\n",
       "    </tr>\n",
       "    <tr>\n",
       "      <th>3</th>\n",
       "      <td>1</td>\n",
       "      <td>0</td>\n",
       "      <td>6264</td>\n",
       "      <td>517</td>\n",
       "      <td>633</td>\n",
       "      <td>1</td>\n",
       "      <td>32124</td>\n",
       "      <td>1303</td>\n",
       "      <td>0</td>\n",
       "      <td>889</td>\n",
       "      <td>835</td>\n",
       "      <td>1</td>\n",
       "    </tr>\n",
       "    <tr>\n",
       "      <th>4</th>\n",
       "      <td>0</td>\n",
       "      <td>0</td>\n",
       "      <td>88</td>\n",
       "      <td>9573</td>\n",
       "      <td>116</td>\n",
       "      <td>1</td>\n",
       "      <td>19851</td>\n",
       "      <td>4015</td>\n",
       "      <td>1</td>\n",
       "      <td>1339</td>\n",
       "      <td>2481</td>\n",
       "      <td>1</td>\n",
       "    </tr>\n",
       "    <tr>\n",
       "      <th>...</th>\n",
       "      <td>...</td>\n",
       "      <td>...</td>\n",
       "      <td>...</td>\n",
       "      <td>...</td>\n",
       "      <td>...</td>\n",
       "      <td>...</td>\n",
       "      <td>...</td>\n",
       "      <td>...</td>\n",
       "      <td>...</td>\n",
       "      <td>...</td>\n",
       "      <td>...</td>\n",
       "      <td>...</td>\n",
       "    </tr>\n",
       "    <tr>\n",
       "      <th>37433</th>\n",
       "      <td>1</td>\n",
       "      <td>0</td>\n",
       "      <td>650</td>\n",
       "      <td>139</td>\n",
       "      <td>1104</td>\n",
       "      <td>0</td>\n",
       "      <td>7386</td>\n",
       "      <td>340</td>\n",
       "      <td>0</td>\n",
       "      <td>84</td>\n",
       "      <td>3371</td>\n",
       "      <td>1</td>\n",
       "    </tr>\n",
       "    <tr>\n",
       "      <th>37434</th>\n",
       "      <td>0</td>\n",
       "      <td>0</td>\n",
       "      <td>6430</td>\n",
       "      <td>10461</td>\n",
       "      <td>605</td>\n",
       "      <td>1</td>\n",
       "      <td>24308</td>\n",
       "      <td>12389</td>\n",
       "      <td>1</td>\n",
       "      <td>6933</td>\n",
       "      <td>2125</td>\n",
       "      <td>1</td>\n",
       "    </tr>\n",
       "    <tr>\n",
       "      <th>37435</th>\n",
       "      <td>1</td>\n",
       "      <td>0</td>\n",
       "      <td>399</td>\n",
       "      <td>6555</td>\n",
       "      <td>190</td>\n",
       "      <td>0</td>\n",
       "      <td>24408</td>\n",
       "      <td>5432</td>\n",
       "      <td>1</td>\n",
       "      <td>2209</td>\n",
       "      <td>2116</td>\n",
       "      <td>1</td>\n",
       "    </tr>\n",
       "    <tr>\n",
       "      <th>37436</th>\n",
       "      <td>0</td>\n",
       "      <td>0</td>\n",
       "      <td>966</td>\n",
       "      <td>138</td>\n",
       "      <td>166</td>\n",
       "      <td>1</td>\n",
       "      <td>22987</td>\n",
       "      <td>970</td>\n",
       "      <td>0</td>\n",
       "      <td>339</td>\n",
       "      <td>2242</td>\n",
       "      <td>1</td>\n",
       "    </tr>\n",
       "    <tr>\n",
       "      <th>37437</th>\n",
       "      <td>0</td>\n",
       "      <td>0</td>\n",
       "      <td>1090</td>\n",
       "      <td>5</td>\n",
       "      <td>39</td>\n",
       "      <td>0</td>\n",
       "      <td>19361</td>\n",
       "      <td>1538</td>\n",
       "      <td>0</td>\n",
       "      <td>493</td>\n",
       "      <td>2515</td>\n",
       "      <td>0</td>\n",
       "    </tr>\n",
       "  </tbody>\n",
       "</table>\n",
       "<p>37438 rows × 12 columns</p>\n",
       "</div>"
      ],
      "text/plain": [
       "       default_profile  default_profile_image  favorites_count  \\\n",
       "0                    0                      0                4   \n",
       "1                    0                      0              535   \n",
       "2                    0                      0             3204   \n",
       "3                    1                      0             6264   \n",
       "4                    0                      0               88   \n",
       "...                ...                    ...              ...   \n",
       "37433                1                      0              650   \n",
       "37434                0                      0             6430   \n",
       "37435                1                      0              399   \n",
       "37436                0                      0              966   \n",
       "37437                0                      0             1090   \n",
       "\n",
       "       followers_count  friends_count  geo_enabled     id  statuses_count  \\\n",
       "0                 1542              4            0  32155            8137   \n",
       "1                  860            880            0  32164             252   \n",
       "2                  172            594            1  32244             988   \n",
       "3                  517            633            1  32124            1303   \n",
       "4                 9573            116            1  19851            4015   \n",
       "...                ...            ...          ...    ...             ...   \n",
       "37433              139           1104            0   7386             340   \n",
       "37434            10461            605            1  24308           12389   \n",
       "37435             6555            190            0  24408            5432   \n",
       "37436              138            166            1  22987             970   \n",
       "37437                5             39            0  19361            1538   \n",
       "\n",
       "       verified  average_tweets_per_day  account_age_days  account_type  \n",
       "0             0                    6372               750             0  \n",
       "1             0                     183               726             1  \n",
       "2             0                     864               506             1  \n",
       "3             0                     889               835             1  \n",
       "4             1                    1339              2481             1  \n",
       "...         ...                     ...               ...           ...  \n",
       "37433         0                      84              3371             1  \n",
       "37434         1                    6933              2125             1  \n",
       "37435         1                    2209              2116             1  \n",
       "37436         0                     339              2242             1  \n",
       "37437         0                     493              2515             0  \n",
       "\n",
       "[37438 rows x 12 columns]"
      ]
     },
     "execution_count": 14,
     "metadata": {},
     "output_type": "execute_result"
    }
   ],
   "source": [
    "data = data.apply(le.fit_transform)\n",
    "data"
   ]
  },
  {
   "cell_type": "markdown",
   "metadata": {},
   "source": [
    "### Scaling the data using Standard Scaler"
   ]
  },
  {
   "cell_type": "code",
   "execution_count": 15,
   "metadata": {},
   "outputs": [],
   "source": [
    "from sklearn.preprocessing import StandardScaler"
   ]
  },
  {
   "cell_type": "code",
   "execution_count": 16,
   "metadata": {},
   "outputs": [
    {
     "data": {
      "text/plain": [
       "StandardScaler()"
      ]
     },
     "execution_count": 16,
     "metadata": {},
     "output_type": "execute_result"
    }
   ],
   "source": [
    "scaler = StandardScaler()\n",
    "scaler.fit(data.drop('account_type',axis=1))"
   ]
  },
  {
   "cell_type": "code",
   "execution_count": 17,
   "metadata": {},
   "outputs": [
    {
     "data": {
      "text/plain": [
       "array([[-0.85077821, -0.12300468, -0.89436603, ..., -0.50264466,\n",
       "         0.94048011, -1.60126097],\n",
       "       [-0.85077821, -0.12300468, -0.77138319, ..., -0.50264466,\n",
       "        -0.84709757, -1.62505306],\n",
       "       [-0.85077821, -0.12300468, -0.15322651, ..., -0.50264466,\n",
       "        -0.65040337, -1.8431472 ],\n",
       "       ...,\n",
       "       [ 1.17539447, -0.12300468, -0.80288162, ...,  1.98947702,\n",
       "        -0.26192511, -0.24709463],\n",
       "       [-0.85077821, -0.12300468, -0.67156096, ..., -0.50264466,\n",
       "        -0.80203987, -0.12218616],\n",
       "       [-0.85077821, -0.12300468, -0.6428418 , ..., -0.50264466,\n",
       "        -0.75755983,  0.14844884]])"
      ]
     },
     "execution_count": 17,
     "metadata": {},
     "output_type": "execute_result"
    }
   ],
   "source": [
    "scaled_features = scaler.transform(data.drop('account_type',axis=1))\n",
    "scaled_features"
   ]
  },
  {
   "cell_type": "code",
   "execution_count": 18,
   "metadata": {},
   "outputs": [
    {
     "data": {
      "text/html": [
       "<div>\n",
       "<style scoped>\n",
       "    .dataframe tbody tr th:only-of-type {\n",
       "        vertical-align: middle;\n",
       "    }\n",
       "\n",
       "    .dataframe tbody tr th {\n",
       "        vertical-align: top;\n",
       "    }\n",
       "\n",
       "    .dataframe thead th {\n",
       "        text-align: right;\n",
       "    }\n",
       "</style>\n",
       "<table border=\"1\" class=\"dataframe\">\n",
       "  <thead>\n",
       "    <tr style=\"text-align: right;\">\n",
       "      <th></th>\n",
       "      <th>default_profile</th>\n",
       "      <th>default_profile_image</th>\n",
       "      <th>favorites_count</th>\n",
       "      <th>followers_count</th>\n",
       "      <th>friends_count</th>\n",
       "      <th>geo_enabled</th>\n",
       "      <th>id</th>\n",
       "      <th>statuses_count</th>\n",
       "      <th>verified</th>\n",
       "      <th>average_tweets_per_day</th>\n",
       "      <th>account_age_days</th>\n",
       "    </tr>\n",
       "  </thead>\n",
       "  <tbody>\n",
       "    <tr>\n",
       "      <th>0</th>\n",
       "      <td>-0.850778</td>\n",
       "      <td>-0.123005</td>\n",
       "      <td>-0.894366</td>\n",
       "      <td>-0.261007</td>\n",
       "      <td>-0.667771</td>\n",
       "      <td>-0.915812</td>\n",
       "      <td>1.343053</td>\n",
       "      <td>0.346304</td>\n",
       "      <td>-0.502645</td>\n",
       "      <td>0.940480</td>\n",
       "      <td>-1.601261</td>\n",
       "    </tr>\n",
       "    <tr>\n",
       "      <th>1</th>\n",
       "      <td>-0.850778</td>\n",
       "      <td>-0.123005</td>\n",
       "      <td>-0.771383</td>\n",
       "      <td>-0.440713</td>\n",
       "      <td>0.116573</td>\n",
       "      <td>-0.915812</td>\n",
       "      <td>1.343929</td>\n",
       "      <td>-1.038999</td>\n",
       "      <td>-0.502645</td>\n",
       "      <td>-0.847098</td>\n",
       "      <td>-1.625053</td>\n",
       "    </tr>\n",
       "    <tr>\n",
       "      <th>2</th>\n",
       "      <td>-0.850778</td>\n",
       "      <td>-0.123005</td>\n",
       "      <td>-0.153227</td>\n",
       "      <td>-0.622000</td>\n",
       "      <td>-0.139502</td>\n",
       "      <td>1.091927</td>\n",
       "      <td>1.351715</td>\n",
       "      <td>-0.909693</td>\n",
       "      <td>-0.502645</td>\n",
       "      <td>-0.650403</td>\n",
       "      <td>-1.843147</td>\n",
       "    </tr>\n",
       "    <tr>\n",
       "      <th>3</th>\n",
       "      <td>1.175394</td>\n",
       "      <td>-0.123005</td>\n",
       "      <td>0.555488</td>\n",
       "      <td>-0.531093</td>\n",
       "      <td>-0.104583</td>\n",
       "      <td>1.091927</td>\n",
       "      <td>1.340036</td>\n",
       "      <td>-0.854351</td>\n",
       "      <td>-0.502645</td>\n",
       "      <td>-0.643183</td>\n",
       "      <td>-1.516997</td>\n",
       "    </tr>\n",
       "    <tr>\n",
       "      <th>4</th>\n",
       "      <td>-0.850778</td>\n",
       "      <td>-0.123005</td>\n",
       "      <td>-0.874911</td>\n",
       "      <td>1.855150</td>\n",
       "      <td>-0.567489</td>\n",
       "      <td>1.091927</td>\n",
       "      <td>0.145618</td>\n",
       "      <td>-0.377884</td>\n",
       "      <td>1.989477</td>\n",
       "      <td>-0.513208</td>\n",
       "      <td>0.114743</td>\n",
       "    </tr>\n",
       "  </tbody>\n",
       "</table>\n",
       "</div>"
      ],
      "text/plain": [
       "   default_profile  default_profile_image  favorites_count  followers_count  \\\n",
       "0        -0.850778              -0.123005        -0.894366        -0.261007   \n",
       "1        -0.850778              -0.123005        -0.771383        -0.440713   \n",
       "2        -0.850778              -0.123005        -0.153227        -0.622000   \n",
       "3         1.175394              -0.123005         0.555488        -0.531093   \n",
       "4        -0.850778              -0.123005        -0.874911         1.855150   \n",
       "\n",
       "   friends_count  geo_enabled        id  statuses_count  verified  \\\n",
       "0      -0.667771    -0.915812  1.343053        0.346304 -0.502645   \n",
       "1       0.116573    -0.915812  1.343929       -1.038999 -0.502645   \n",
       "2      -0.139502     1.091927  1.351715       -0.909693 -0.502645   \n",
       "3      -0.104583     1.091927  1.340036       -0.854351 -0.502645   \n",
       "4      -0.567489     1.091927  0.145618       -0.377884  1.989477   \n",
       "\n",
       "   average_tweets_per_day  account_age_days  \n",
       "0                0.940480         -1.601261  \n",
       "1               -0.847098         -1.625053  \n",
       "2               -0.650403         -1.843147  \n",
       "3               -0.643183         -1.516997  \n",
       "4               -0.513208          0.114743  "
      ]
     },
     "execution_count": 18,
     "metadata": {},
     "output_type": "execute_result"
    }
   ],
   "source": [
    "df_feat = pd.DataFrame(scaled_features,columns=data.columns[:-1])\n",
    "df_feat.head()"
   ]
  },
  {
   "cell_type": "markdown",
   "metadata": {},
   "source": [
    "### Classifying using KNN Algorithm"
   ]
  },
  {
   "cell_type": "code",
   "execution_count": 19,
   "metadata": {},
   "outputs": [],
   "source": [
    "from sklearn.model_selection import train_test_split\n",
    "from sklearn.neighbors import KNeighborsClassifier\n",
    "from sklearn.metrics import classification_report,confusion_matrix"
   ]
  },
  {
   "cell_type": "code",
   "execution_count": 20,
   "metadata": {},
   "outputs": [],
   "source": [
    "##Keeping Shuffle = True\n",
    "\n",
    "X = df_feat\n",
    "y = data['account_type']\n",
    "\n",
    "X_train, X_test, y_train, y_test = train_test_split(X, y, test_size=0.2, random_state=101 , shuffle = True)"
   ]
  },
  {
   "cell_type": "code",
   "execution_count": 21,
   "metadata": {},
   "outputs": [
    {
     "name": "stdout",
     "output_type": "stream",
     "text": [
      "CPU times: user 3 µs, sys: 1 µs, total: 4 µs\n",
      "Wall time: 4.77 µs\n"
     ]
    }
   ],
   "source": [
    "%time\n",
    "error_rate =[]\n",
    "for i in range(1,25):\n",
    "    knn = KNeighborsClassifier(n_neighbors=i)\n",
    "    knn.fit(X_train,y_train)\n",
    "    pred_i = knn.predict(X_test)\n",
    "    error_rate.append(np.mean(pred_i != y_test))"
   ]
  },
  {
   "cell_type": "code",
   "execution_count": 22,
   "metadata": {},
   "outputs": [
    {
     "data": {
      "text/plain": [
       "Text(0, 0.5, 'Error Rate')"
      ]
     },
     "execution_count": 22,
     "metadata": {},
     "output_type": "execute_result"
    },
    {
     "data": {
      "image/png": "[encoded data removed]",
      "text/plain": [
       "<Figure size 720x288 with 1 Axes>"
      ]
     },
     "metadata": {
      "needs_background": "light"
     },
     "output_type": "display_data"
    }
   ],
   "source": [
    "plt.figure(figsize=(10,4))\n",
    "plt.plot(range(1,25),error_rate,color='blue',linestyle='--',marker='.')\n",
    "plt.title(\"Error Rate VS K-Value\")\n",
    "plt.xlabel(\"K\")\n",
    "plt.ylabel('Error Rate')"
   ]
  },
  {
   "cell_type": "markdown",
   "metadata": {},
   "source": [
    "#### We can see that for K = 11 or 15 - we get the minimum possible error."
   ]
  },
  {
   "cell_type": "code",
   "execution_count": 23,
   "metadata": {},
   "outputs": [],
   "source": [
    "knn = KNeighborsClassifier(n_neighbors=11)"
   ]
  },
  {
   "cell_type": "code",
   "execution_count": 24,
   "metadata": {},
   "outputs": [
    {
     "data": {
      "text/plain": [
       "KNeighborsClassifier(n_neighbors=11)"
      ]
     },
     "execution_count": 24,
     "metadata": {},
     "output_type": "execute_result"
    }
   ],
   "source": [
    "knn.fit(X_train,y_train)"
   ]
  },
  {
   "cell_type": "code",
   "execution_count": 25,
   "metadata": {},
   "outputs": [],
   "source": [
    "pred = knn.predict(X_test)"
   ]
  },
  {
   "cell_type": "code",
   "execution_count": 26,
   "metadata": {},
   "outputs": [
    {
     "name": "stdout",
     "output_type": "stream",
     "text": [
      "[[1858  595]\n",
      " [ 525 4510]]\n",
      "-----------\n",
      "              precision    recall  f1-score   support\n",
      "\n",
      "           0       0.78      0.76      0.77      2453\n",
      "           1       0.88      0.90      0.89      5035\n",
      "\n",
      "    accuracy                           0.85      7488\n",
      "   macro avg       0.83      0.83      0.83      7488\n",
      "weighted avg       0.85      0.85      0.85      7488\n",
      "\n"
     ]
    }
   ],
   "source": [
    "print(confusion_matrix(y_test,pred))\n",
    "print(\"-----------\")\n",
    "print(classification_report(y_test,pred))"
   ]
  },
  {
   "cell_type": "markdown",
   "metadata": {},
   "source": [
    "#### Using Cross Validation to train the model with different splits of the dataset"
   ]
  },
  {
   "cell_type": "code",
   "execution_count": 27,
   "metadata": {},
   "outputs": [],
   "source": [
    "from sklearn.model_selection import KFold"
   ]
  },
  {
   "cell_type": "markdown",
   "metadata": {},
   "source": [
    "#### Keeping the Shuffle = True"
   ]
  },
  {
   "cell_type": "code",
   "execution_count": 28,
   "metadata": {},
   "outputs": [],
   "source": [
    "kf5 = KFold(n_splits=5, shuffle=True)"
   ]
  },
  {
   "cell_type": "code",
   "execution_count": 29,
   "metadata": {},
   "outputs": [
    {
     "name": "stdout",
     "output_type": "stream",
     "text": [
      "[    0     2     4 ... 37435 37436 37437] [    1     3     8 ... 37420 37427 37432]\n",
      "[    1     2     3 ... 37432 37435 37437] [    0     5     6 ... 37433 37434 37436]\n",
      "[    0     1     3 ... 37434 37436 37437] [    2    21    25 ... 37418 37425 37435]\n",
      "[    0     1     2 ... 37434 37435 37436] [    4    13    20 ... 37430 37431 37437]\n",
      "[    0     1     2 ... 37435 37436 37437] [    9    10    22 ... 37422 37426 37429]\n"
     ]
    }
   ],
   "source": [
    "for train_index,test_index in kf5.split(X):\n",
    "    print(train_index, test_index)"
   ]
  },
  {
   "cell_type": "code",
   "execution_count": 30,
   "metadata": {},
   "outputs": [
    {
     "name": "stdout",
     "output_type": "stream",
     "text": [
      "CPU times: user 2 µs, sys: 0 ns, total: 2 µs\n",
      "Wall time: 5.96 µs\n",
      "Accuracy for the fold no. 1 on the validation set: \n",
      "               precision    recall  f1-score   support\n",
      "\n",
      "           0       0.78      0.73      0.76      2487\n",
      "           1       0.87      0.90      0.88      5001\n",
      "\n",
      "    accuracy                           0.84      7488\n",
      "   macro avg       0.83      0.82      0.82      7488\n",
      "weighted avg       0.84      0.84      0.84      7488\n",
      "\n",
      "[[1827  660]\n",
      " [ 515 4486]]\n",
      "------------------------------------------------------------------- \n",
      " \n",
      "Accuracy for the fold no. 2 on the validation set: \n",
      "               precision    recall  f1-score   support\n",
      "\n",
      "           0       0.79      0.75      0.77      2523\n",
      "           1       0.88      0.90      0.89      4965\n",
      "\n",
      "    accuracy                           0.85      7488\n",
      "   macro avg       0.83      0.82      0.83      7488\n",
      "weighted avg       0.85      0.85      0.85      7488\n",
      "\n",
      "[[1892  631]\n",
      " [ 509 4456]]\n",
      "------------------------------------------------------------------- \n",
      " \n",
      "Accuracy for the fold no. 3 on the validation set: \n",
      "               precision    recall  f1-score   support\n",
      "\n",
      "           0       0.78      0.75      0.77      2451\n",
      "           1       0.88      0.90      0.89      5037\n",
      "\n",
      "    accuracy                           0.85      7488\n",
      "   macro avg       0.83      0.83      0.83      7488\n",
      "weighted avg       0.85      0.85      0.85      7488\n",
      "\n",
      "[[1844  607]\n",
      " [ 514 4523]]\n",
      "------------------------------------------------------------------- \n",
      " \n",
      "Accuracy for the fold no. 4 on the validation set: \n",
      "               precision    recall  f1-score   support\n",
      "\n",
      "           0       0.79      0.75      0.77      2465\n",
      "           1       0.88      0.90      0.89      5022\n",
      "\n",
      "    accuracy                           0.85      7487\n",
      "   macro avg       0.83      0.82      0.83      7487\n",
      "weighted avg       0.85      0.85      0.85      7487\n",
      "\n",
      "[[1838  627]\n",
      " [ 499 4523]]\n",
      "------------------------------------------------------------------- \n",
      " \n",
      "Accuracy for the fold no. 5 on the validation set: \n",
      "               precision    recall  f1-score   support\n",
      "\n",
      "           0       0.78      0.74      0.76      2499\n",
      "           1       0.87      0.90      0.88      4988\n",
      "\n",
      "    accuracy                           0.84      7487\n",
      "   macro avg       0.83      0.82      0.82      7487\n",
      "weighted avg       0.84      0.84      0.84      7487\n",
      "\n",
      "[[1847  652]\n",
      " [ 515 4473]]\n",
      "------------------------------------------------------------------- \n",
      " \n",
      "Tune Fit Time: 10.652587175369263\n"
     ]
    }
   ],
   "source": [
    "%time\n",
    "start = time.time()\n",
    "knn = KNeighborsClassifier(n_neighbors=11)\n",
    "i = 1\n",
    "for train_index,test_index in kf5.split(X):\n",
    "    X_train = X.iloc[train_index]\n",
    "    X_test = X.iloc[test_index]\n",
    "    y_train = y.iloc[train_index]\n",
    "    y_test = y.loc[test_index]\n",
    "\n",
    "    knn.fit(X_train, y_train) #Training the model\n",
    "    print(f\"Accuracy for the fold no. {i} on the validation set: \\n {classification_report(y_test, knn.predict(X_test))}\")\n",
    "    print(confusion_matrix(y_test,knn.predict(X_test)))\n",
    "    print(\"------------------------------------------------------------------- \\n \")\n",
    "    i += 1\n",
    "    \n",
    "end = time.time()\n",
    "print(\"Tune Fit Time:\", end - start)"
   ]
  },
  {
   "cell_type": "code",
   "execution_count": 31,
   "metadata": {},
   "outputs": [],
   "source": [
    "from sklearn.model_selection import cross_val_score"
   ]
  },
  {
   "cell_type": "code",
   "execution_count": 32,
   "metadata": {},
   "outputs": [
    {
     "name": "stdout",
     "output_type": "stream",
     "text": [
      "[Parallel(n_jobs=10)]: Using backend LokyBackend with 10 concurrent workers.\n",
      "[Parallel(n_jobs=10)]: Done   1 tasks      | elapsed:    4.5s\n",
      "[Parallel(n_jobs=10)]: Done   2 out of   5 | elapsed:    4.6s remaining:    6.9s\n",
      "[Parallel(n_jobs=10)]: Done   3 out of   5 | elapsed:    4.6s remaining:    3.1s\n",
      "[Parallel(n_jobs=10)]: Done   5 out of   5 | elapsed:    4.7s remaining:    0.0s\n",
      "[Parallel(n_jobs=10)]: Done   5 out of   5 | elapsed:    4.7s finished\n"
     ]
    },
    {
     "data": {
      "text/plain": [
       "array([0.84348291, 0.84495192, 0.84695513, 0.84506478, 0.8484039 ])"
      ]
     },
     "execution_count": 32,
     "metadata": {},
     "output_type": "execute_result"
    }
   ],
   "source": [
    "cross_val_score(knn,X,y,cv=5,verbose=100,n_jobs=10)"
   ]
  },
  {
   "cell_type": "markdown",
   "metadata": {},
   "source": [
    "### Here , we can see that the average accuracy of KNN model is between 84% and 85% for K = 11 to 15 in almost 10 seconds"
   ]
  },
  {
   "cell_type": "markdown",
   "metadata": {},
   "source": [
    "### Classfying using Support Vector Machines"
   ]
  },
  {
   "cell_type": "code",
   "execution_count": 33,
   "metadata": {},
   "outputs": [],
   "source": [
    "from sklearn.svm import SVC"
   ]
  },
  {
   "cell_type": "markdown",
   "metadata": {},
   "source": [
    "##### For SVM , Cross validation isnt enough - We also need to do hyperparameter tuning using GridSearchCV"
   ]
  },
  {
   "cell_type": "code",
   "execution_count": 34,
   "metadata": {},
   "outputs": [],
   "source": [
    "from sklearn.model_selection import GridSearchCV"
   ]
  },
  {
   "cell_type": "markdown",
   "metadata": {},
   "source": [
    "#### Using default RBF for classification as we have multiple features which means multiple dimensions and RBF is best suitable to work in infinite dimensions."
   ]
  },
  {
   "cell_type": "code",
   "execution_count": 35,
   "metadata": {},
   "outputs": [],
   "source": [
    "param_grid ={'C':[0.1,1,10],'gamma':[1,0.1,0.01]}"
   ]
  },
  {
   "cell_type": "code",
   "execution_count": 36,
   "metadata": {},
   "outputs": [],
   "source": [
    "grid = GridSearchCV(SVC(),param_grid,verbose=100,cv=5,n_jobs=-1)"
   ]
  },
  {
   "cell_type": "markdown",
   "metadata": {},
   "source": [
    "##### Fitting the SVM model with various parameters along with CV = 5"
   ]
  },
  {
   "cell_type": "code",
   "execution_count": 37,
   "metadata": {},
   "outputs": [
    {
     "name": "stdout",
     "output_type": "stream",
     "text": [
      "Fitting 5 folds for each of 9 candidates, totalling 45 fits\n",
      "[Parallel(n_jobs=-1)]: Using backend LokyBackend with 8 concurrent workers.\n",
      "[Parallel(n_jobs=-1)]: Done   1 tasks      | elapsed:   24.0s\n",
      "[Parallel(n_jobs=-1)]: Done   2 tasks      | elapsed:   25.2s\n",
      "[Parallel(n_jobs=-1)]: Done   3 tasks      | elapsed:   25.5s\n",
      "[Parallel(n_jobs=-1)]: Done   4 tasks      | elapsed:   38.7s\n",
      "[Parallel(n_jobs=-1)]: Done   5 tasks      | elapsed:   43.8s\n",
      "[Parallel(n_jobs=-1)]: Done   6 tasks      | elapsed:   43.9s\n",
      "[Parallel(n_jobs=-1)]: Done   7 tasks      | elapsed:   44.9s\n",
      "[Parallel(n_jobs=-1)]: Done   8 tasks      | elapsed:   46.3s\n",
      "[Parallel(n_jobs=-1)]: Done   9 tasks      | elapsed:   47.7s\n",
      "[Parallel(n_jobs=-1)]: Done  10 tasks      | elapsed:   50.1s\n",
      "[Parallel(n_jobs=-1)]: Done  11 tasks      | elapsed:   50.4s\n",
      "[Parallel(n_jobs=-1)]: Done  12 tasks      | elapsed:  1.1min\n",
      "[Parallel(n_jobs=-1)]: Done  13 tasks      | elapsed:  1.2min\n",
      "[Parallel(n_jobs=-1)]: Done  14 tasks      | elapsed:  1.2min\n",
      "[Parallel(n_jobs=-1)]: Done  15 tasks      | elapsed:  1.2min\n",
      "[Parallel(n_jobs=-1)]: Done  16 tasks      | elapsed:  1.5min\n",
      "[Parallel(n_jobs=-1)]: Done  17 tasks      | elapsed:  1.6min\n",
      "[Parallel(n_jobs=-1)]: Done  18 tasks      | elapsed:  1.6min\n",
      "[Parallel(n_jobs=-1)]: Done  19 tasks      | elapsed:  1.6min\n",
      "[Parallel(n_jobs=-1)]: Done  20 tasks      | elapsed:  1.6min\n",
      "[Parallel(n_jobs=-1)]: Done  21 tasks      | elapsed:  1.6min\n",
      "[Parallel(n_jobs=-1)]: Done  22 tasks      | elapsed:  1.7min\n",
      "[Parallel(n_jobs=-1)]: Done  23 tasks      | elapsed:  1.9min\n",
      "[Parallel(n_jobs=-1)]: Done  24 tasks      | elapsed:  1.9min\n",
      "[Parallel(n_jobs=-1)]: Done  25 tasks      | elapsed:  1.9min\n",
      "[Parallel(n_jobs=-1)]: Done  26 tasks      | elapsed:  2.0min\n",
      "[Parallel(n_jobs=-1)]: Done  27 tasks      | elapsed:  2.0min\n",
      "[Parallel(n_jobs=-1)]: Done  28 tasks      | elapsed:  2.0min\n",
      "[Parallel(n_jobs=-1)]: Done  29 tasks      | elapsed:  2.0min\n",
      "[Parallel(n_jobs=-1)]: Done  30 tasks      | elapsed:  2.1min\n",
      "[Parallel(n_jobs=-1)]: Done  31 out of  45 | elapsed:  2.4min remaining:  1.1min\n",
      "[Parallel(n_jobs=-1)]: Done  32 out of  45 | elapsed:  2.4min remaining:   59.1s\n",
      "[Parallel(n_jobs=-1)]: Done  33 out of  45 | elapsed:  2.5min remaining:   53.9s\n",
      "[Parallel(n_jobs=-1)]: Done  34 out of  45 | elapsed:  2.8min remaining:   54.9s\n",
      "[Parallel(n_jobs=-1)]: Done  35 out of  45 | elapsed:  2.8min remaining:   48.6s\n",
      "[Parallel(n_jobs=-1)]: Done  36 out of  45 | elapsed:  2.9min remaining:   43.0s\n",
      "[Parallel(n_jobs=-1)]: Done  37 out of  45 | elapsed:  2.9min remaining:   37.7s\n",
      "[Parallel(n_jobs=-1)]: Done  38 out of  45 | elapsed:  2.9min remaining:   32.4s\n",
      "[Parallel(n_jobs=-1)]: Done  39 out of  45 | elapsed:  3.1min remaining:   28.8s\n",
      "[Parallel(n_jobs=-1)]: Done  40 out of  45 | elapsed:  3.1min remaining:   23.5s\n",
      "[Parallel(n_jobs=-1)]: Done  41 out of  45 | elapsed:  3.2min remaining:   18.6s\n",
      "[Parallel(n_jobs=-1)]: Done  42 out of  45 | elapsed:  3.2min remaining:   13.6s\n",
      "[Parallel(n_jobs=-1)]: Done  43 out of  45 | elapsed:  3.2min remaining:    8.9s\n",
      "[Parallel(n_jobs=-1)]: Done  45 out of  45 | elapsed:  3.2min remaining:    0.0s\n",
      "[Parallel(n_jobs=-1)]: Done  45 out of  45 | elapsed:  3.2min finished\n",
      "Tune Fit Time: 211.81508827209473\n"
     ]
    }
   ],
   "source": [
    "import time \n",
    "start = time.time()\n",
    "\n",
    "grid.fit(X_train,y_train)\n",
    "\n",
    "end = time.time()\n",
    "print(\"Tune Fit Time:\", end - start)"
   ]
  },
  {
   "cell_type": "markdown",
   "metadata": {},
   "source": [
    "#### We can see here that it took almost 200 to 300 seconds to find the correct parameters and more time will be needed to predict the resulsts"
   ]
  },
  {
   "cell_type": "code",
   "execution_count": 38,
   "metadata": {},
   "outputs": [
    {
     "data": {
      "text/plain": [
       "{'C': 1, 'gamma': 1}"
      ]
     },
     "execution_count": 38,
     "metadata": {},
     "output_type": "execute_result"
    }
   ],
   "source": [
    "# GridSearchCV will tell us which are the best parameters\n",
    "grid.best_params_"
   ]
  },
  {
   "cell_type": "code",
   "execution_count": 39,
   "metadata": {},
   "outputs": [],
   "source": [
    "# Predicting Using Best Parameters\n",
    "g_pred = grid.predict(X_test)"
   ]
  },
  {
   "cell_type": "code",
   "execution_count": 40,
   "metadata": {},
   "outputs": [
    {
     "name": "stdout",
     "output_type": "stream",
     "text": [
      "[[1779  720]\n",
      " [ 566 4422]]\n",
      "              precision    recall  f1-score   support\n",
      "\n",
      "           0       0.76      0.71      0.73      2499\n",
      "           1       0.86      0.89      0.87      4988\n",
      "\n",
      "    accuracy                           0.83      7487\n",
      "   macro avg       0.81      0.80      0.80      7487\n",
      "weighted avg       0.83      0.83      0.83      7487\n",
      "\n"
     ]
    }
   ],
   "source": [
    "print(confusion_matrix(y_test,g_pred))\n",
    "print(classification_report(y_test,g_pred))"
   ]
  },
  {
   "cell_type": "markdown",
   "metadata": {},
   "source": [
    "### SVM classifies with the accuracy of 80 to 83 percent which is just little to the accuracy of the KNN model."
   ]
  },
  {
   "cell_type": "markdown",
   "metadata": {},
   "source": [
    "### But , if we dig deeper and look at the values of Recall in the results of KNN - its almost 75 percent as compared to 70 percent of the BEST SVM model."
   ]
  },
  {
   "cell_type": "markdown",
   "metadata": {},
   "source": [
    "### Having higher Recall will help us to not wrongly classify bots as humans - which is very important in our case."
   ]
  },
  {
   "cell_type": "markdown",
   "metadata": {},
   "source": [
    "### Also, computational time is much lesser for the KNN(10 seconds) than in SVM (200+ seconds)."
   ]
  },
  {
   "cell_type": "markdown",
   "metadata": {},
   "source": [
    "### Also, SVM is comparatively complex than KNN."
   ]
  },
  {
   "cell_type": "markdown",
   "metadata": {},
   "source": [
    "### As per my research and analysis ->  KNN ( with K = 11 or 15) is the best model."
   ]
  }
 ],
 "metadata": {
  "kernelspec": {
   "display_name": "Python 3",
   "language": "python",
   "name": "python3"
  },
  "language_info": {
   "codemirror_mode": {
    "name": "ipython",
    "version": 3
   },
   "file_extension": ".py",
   "mimetype": "text/x-python",
   "name": "python",
   "nbconvert_exporter": "python",
   "pygments_lexer": "ipython3",
   "version": "3.8.2"
  }
 },
 "nbformat": 4,
 "nbformat_minor": 4
}
