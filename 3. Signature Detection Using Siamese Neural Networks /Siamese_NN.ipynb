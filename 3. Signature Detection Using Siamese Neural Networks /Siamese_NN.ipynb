{
 "cells": [
  {
   "cell_type": "markdown",
   "metadata": {},
   "source": [
    "## Using Siamese Neural Networks for finding similarity and dissimilarity between Real and Forged signatures."
   ]
  },
  {
   "cell_type": "markdown",
   "metadata": {},
   "source": [
    "<div style=\"text-align: right\"> By Smit Doshi </div>"
   ]
  },
  {
   "cell_type": "markdown",
   "metadata": {},
   "source": [
    "### Importing Required Libraries"
   ]
  },
  {
   "cell_type": "code",
   "execution_count": 1,
   "metadata": {},
   "outputs": [],
   "source": [
    "import pandas as pd\n",
    "import numpy as np\n",
    "import os\n",
    "import random\n",
    "from itertools import combinations\n",
    "from PIL import Image ,ImageOps\n",
    "from math import comb\n",
    "import matplotlib.pyplot as plt\n",
    "%matplotlib inline\n",
    "plt.rcParams['figure.figsize'] = (12,8)"
   ]
  },
  {
   "cell_type": "markdown",
   "metadata": {},
   "source": [
    "### Data Preprocessing \n",
    "##### You can find the dataset [here](https://drive.google.com/drive/folders/11vgLS38J0rI4PsGP2x6NRYLiqCxu4YvN?usp=sharing)"
   ]
  },
  {
   "cell_type": "markdown",
   "metadata": {},
   "source": [
    "#### Total number of Real and Dissimilar pairs"
   ]
  },
  {
   "cell_type": "code",
   "execution_count": 2,
   "metadata": {},
   "outputs": [],
   "source": [
    "def count_pairs(dataset = \"Train_Set\"):\n",
    "    count_list=[]\n",
    "    for file in range(1,len(os.listdir('Signatures_2/' + dataset))):\n",
    "\n",
    "        if file < 10:\n",
    "\n",
    "\n",
    "            F_location = os.listdir('Signatures_2/' + dataset+ '/'+ \"00\" + str(file) + '/Forged')\n",
    "            R_location = os.listdir('Signatures_2/' + dataset+ '/'+ \"00\" + str(file) + '/Real')\n",
    "\n",
    "            if '.DS_Store' in F_location:\n",
    "                F_location.remove('.DS_Store')\n",
    "                F_count = len(F_location)\n",
    "                if '.DS_Store' in R_location:\n",
    "                    R_location.remove('.DS_Store')\n",
    "                    R_count = len(R_location)\n",
    "                else:    \n",
    "                    R_count = len(R_location)\n",
    "\n",
    "\n",
    "            elif '.DS_Store' in R_location:\n",
    "                R_location.remove('.DS_Store')\n",
    "                R_count = len(F_location)\n",
    "                if '.DS_Store' in F_location:\n",
    "                    F_location.remove('.DS_Store')\n",
    "                    F_count = len(F_location)\n",
    "                else:    \n",
    "                    F_count = len(F_location)\n",
    "\n",
    "\n",
    "            else:\n",
    "                F_count = len(F_location)\n",
    "                R_count = len(R_location)\n",
    "            #print(\"Person \"+ \"00\" +str(file),F_count,R_count)\n",
    "\n",
    "        else:\n",
    "            F_location = os.listdir('Signatures_2/'+ dataset+ '/'+ \"0\" + str(file) + '/Forged')\n",
    "            R_location = os.listdir('Signatures_2/'+ dataset+ '/'+ \"0\" + str(file) + '/Real')\n",
    "\n",
    "            if '.DS_Store' in F_location:\n",
    "                F_location.remove('.DS_Store')\n",
    "                F_count = len(F_location)\n",
    "                if '.DS_Store' in R_location:\n",
    "                    R_location.remove('.DS_Store')\n",
    "                    R_count = len(R_location)\n",
    "                else:    \n",
    "                    R_count = len(R_location)\n",
    "\n",
    "\n",
    "            elif '.DS_Store' in R_location:\n",
    "                R_location.remove('.DS_Store')\n",
    "                R_count = len(F_location)\n",
    "                if '.DS_Store' in F_location:\n",
    "                    F_location.remove('.DS_Store')\n",
    "                    F_count = len(F_location)\n",
    "                else:    \n",
    "                    F_count = len(F_location)\n",
    "\n",
    "            else:\n",
    "                F_count = len(F_location)\n",
    "                R_count = len(R_location)\n",
    "            #print(\"Person \"+ \"0\" +str(file),F_count,R_count)\n",
    "        count_list.append({'Person':file,\"Real\":R_count,\"Forged\":F_count})\n",
    "\n",
    "\n",
    "    return pd.DataFrame(count_list)"
   ]
  },
  {
   "cell_type": "code",
   "execution_count": 3,
   "metadata": {},
   "outputs": [],
   "source": [
    "def transform(df):\n",
    "    df['Dissimilar_Pairs'] = df['Real'] * df['Forged']\n",
    "    df[\"Similar_Pairs\"] = \"\"\n",
    "    for row in range(0,len(df)):\n",
    "        number = df['Real'][row]\n",
    "        df['Similar_Pairs'][row] = comb(number,2)\n",
    "    df['Total_Pairs'] = df['Dissimilar_Pairs'] + df['Similar_Pairs']\n",
    "    return df"
   ]
  },
  {
   "cell_type": "code",
   "execution_count": 4,
   "metadata": {},
   "outputs": [
    {
     "name": "stderr",
     "output_type": "stream",
     "text": [
      "<ipython-input-3-651e47385362>:6: SettingWithCopyWarning: \n",
      "A value is trying to be set on a copy of a slice from a DataFrame\n",
      "\n",
      "See the caveats in the documentation: https://pandas.pydata.org/pandas-docs/stable/user_guide/indexing.html#returning-a-view-versus-a-copy\n",
      "  df['Similar_Pairs'][row] = comb(number,2)\n"
     ]
    },
    {
     "data": {
      "text/html": [
       "<div>\n",
       "<style scoped>\n",
       "    .dataframe tbody tr th:only-of-type {\n",
       "        vertical-align: middle;\n",
       "    }\n",
       "\n",
       "    .dataframe tbody tr th {\n",
       "        vertical-align: top;\n",
       "    }\n",
       "\n",
       "    .dataframe thead th {\n",
       "        text-align: right;\n",
       "    }\n",
       "</style>\n",
       "<table border=\"1\" class=\"dataframe\">\n",
       "  <thead>\n",
       "    <tr style=\"text-align: right;\">\n",
       "      <th></th>\n",
       "      <th>Person</th>\n",
       "      <th>Real</th>\n",
       "      <th>Forged</th>\n",
       "      <th>Dissimilar_Pairs</th>\n",
       "      <th>Similar_Pairs</th>\n",
       "      <th>Total_Pairs</th>\n",
       "    </tr>\n",
       "  </thead>\n",
       "  <tbody>\n",
       "    <tr>\n",
       "      <th>0</th>\n",
       "      <td>1</td>\n",
       "      <td>24</td>\n",
       "      <td>8</td>\n",
       "      <td>192</td>\n",
       "      <td>276</td>\n",
       "      <td>468</td>\n",
       "    </tr>\n",
       "    <tr>\n",
       "      <th>1</th>\n",
       "      <td>2</td>\n",
       "      <td>24</td>\n",
       "      <td>12</td>\n",
       "      <td>288</td>\n",
       "      <td>276</td>\n",
       "      <td>564</td>\n",
       "    </tr>\n",
       "    <tr>\n",
       "      <th>2</th>\n",
       "      <td>3</td>\n",
       "      <td>24</td>\n",
       "      <td>12</td>\n",
       "      <td>288</td>\n",
       "      <td>276</td>\n",
       "      <td>564</td>\n",
       "    </tr>\n",
       "    <tr>\n",
       "      <th>3</th>\n",
       "      <td>4</td>\n",
       "      <td>24</td>\n",
       "      <td>11</td>\n",
       "      <td>264</td>\n",
       "      <td>276</td>\n",
       "      <td>540</td>\n",
       "    </tr>\n",
       "    <tr>\n",
       "      <th>4</th>\n",
       "      <td>5</td>\n",
       "      <td>24</td>\n",
       "      <td>12</td>\n",
       "      <td>288</td>\n",
       "      <td>276</td>\n",
       "      <td>564</td>\n",
       "    </tr>\n",
       "    <tr>\n",
       "      <th>...</th>\n",
       "      <td>...</td>\n",
       "      <td>...</td>\n",
       "      <td>...</td>\n",
       "      <td>...</td>\n",
       "      <td>...</td>\n",
       "      <td>...</td>\n",
       "    </tr>\n",
       "    <tr>\n",
       "      <th>59</th>\n",
       "      <td>60</td>\n",
       "      <td>12</td>\n",
       "      <td>8</td>\n",
       "      <td>96</td>\n",
       "      <td>66</td>\n",
       "      <td>162</td>\n",
       "    </tr>\n",
       "    <tr>\n",
       "      <th>60</th>\n",
       "      <td>61</td>\n",
       "      <td>12</td>\n",
       "      <td>16</td>\n",
       "      <td>192</td>\n",
       "      <td>66</td>\n",
       "      <td>258</td>\n",
       "    </tr>\n",
       "    <tr>\n",
       "      <th>61</th>\n",
       "      <td>62</td>\n",
       "      <td>12</td>\n",
       "      <td>8</td>\n",
       "      <td>96</td>\n",
       "      <td>66</td>\n",
       "      <td>162</td>\n",
       "    </tr>\n",
       "    <tr>\n",
       "      <th>62</th>\n",
       "      <td>63</td>\n",
       "      <td>12</td>\n",
       "      <td>8</td>\n",
       "      <td>96</td>\n",
       "      <td>66</td>\n",
       "      <td>162</td>\n",
       "    </tr>\n",
       "    <tr>\n",
       "      <th>63</th>\n",
       "      <td>64</td>\n",
       "      <td>12</td>\n",
       "      <td>12</td>\n",
       "      <td>144</td>\n",
       "      <td>66</td>\n",
       "      <td>210</td>\n",
       "    </tr>\n",
       "  </tbody>\n",
       "</table>\n",
       "<p>64 rows × 6 columns</p>\n",
       "</div>"
      ],
      "text/plain": [
       "    Person  Real  Forged  Dissimilar_Pairs Similar_Pairs Total_Pairs\n",
       "0        1    24       8               192           276         468\n",
       "1        2    24      12               288           276         564\n",
       "2        3    24      12               288           276         564\n",
       "3        4    24      11               264           276         540\n",
       "4        5    24      12               288           276         564\n",
       "..     ...   ...     ...               ...           ...         ...\n",
       "59      60    12       8                96            66         162\n",
       "60      61    12      16               192            66         258\n",
       "61      62    12       8                96            66         162\n",
       "62      63    12       8                96            66         162\n",
       "63      64    12      12               144            66         210\n",
       "\n",
       "[64 rows x 6 columns]"
      ]
     },
     "execution_count": 4,
     "metadata": {},
     "output_type": "execute_result"
    }
   ],
   "source": [
    "train_df = count_pairs('Train_Set')\n",
    "train_df = transform(train_df)\n",
    "train_df"
   ]
  },
  {
   "cell_type": "markdown",
   "metadata": {},
   "source": [
    "##### Total Count of Pairs in train set = 16660 "
   ]
  },
  {
   "cell_type": "code",
   "execution_count": 5,
   "metadata": {},
   "outputs": [
    {
     "data": {
      "text/plain": [
       "16660"
      ]
     },
     "execution_count": 5,
     "metadata": {},
     "output_type": "execute_result"
    }
   ],
   "source": [
    "train_df.sum()['Total_Pairs']"
   ]
  },
  {
   "cell_type": "code",
   "execution_count": 6,
   "metadata": {},
   "outputs": [
    {
     "name": "stderr",
     "output_type": "stream",
     "text": [
      "<ipython-input-3-651e47385362>:6: SettingWithCopyWarning: \n",
      "A value is trying to be set on a copy of a slice from a DataFrame\n",
      "\n",
      "See the caveats in the documentation: https://pandas.pydata.org/pandas-docs/stable/user_guide/indexing.html#returning-a-view-versus-a-copy\n",
      "  df['Similar_Pairs'][row] = comb(number,2)\n"
     ]
    },
    {
     "data": {
      "text/html": [
       "<div>\n",
       "<style scoped>\n",
       "    .dataframe tbody tr th:only-of-type {\n",
       "        vertical-align: middle;\n",
       "    }\n",
       "\n",
       "    .dataframe tbody tr th {\n",
       "        vertical-align: top;\n",
       "    }\n",
       "\n",
       "    .dataframe thead th {\n",
       "        text-align: right;\n",
       "    }\n",
       "</style>\n",
       "<table border=\"1\" class=\"dataframe\">\n",
       "  <thead>\n",
       "    <tr style=\"text-align: right;\">\n",
       "      <th></th>\n",
       "      <th>Person</th>\n",
       "      <th>Real</th>\n",
       "      <th>Forged</th>\n",
       "      <th>Dissimilar_Pairs</th>\n",
       "      <th>Similar_Pairs</th>\n",
       "      <th>Total_Pairs</th>\n",
       "    </tr>\n",
       "  </thead>\n",
       "  <tbody>\n",
       "    <tr>\n",
       "      <th>0</th>\n",
       "      <td>1</td>\n",
       "      <td>12</td>\n",
       "      <td>12</td>\n",
       "      <td>144</td>\n",
       "      <td>66</td>\n",
       "      <td>210</td>\n",
       "    </tr>\n",
       "    <tr>\n",
       "      <th>1</th>\n",
       "      <td>2</td>\n",
       "      <td>12</td>\n",
       "      <td>12</td>\n",
       "      <td>144</td>\n",
       "      <td>66</td>\n",
       "      <td>210</td>\n",
       "    </tr>\n",
       "    <tr>\n",
       "      <th>2</th>\n",
       "      <td>3</td>\n",
       "      <td>12</td>\n",
       "      <td>8</td>\n",
       "      <td>96</td>\n",
       "      <td>66</td>\n",
       "      <td>162</td>\n",
       "    </tr>\n",
       "    <tr>\n",
       "      <th>3</th>\n",
       "      <td>4</td>\n",
       "      <td>12</td>\n",
       "      <td>16</td>\n",
       "      <td>192</td>\n",
       "      <td>66</td>\n",
       "      <td>258</td>\n",
       "    </tr>\n",
       "    <tr>\n",
       "      <th>4</th>\n",
       "      <td>5</td>\n",
       "      <td>12</td>\n",
       "      <td>16</td>\n",
       "      <td>192</td>\n",
       "      <td>66</td>\n",
       "      <td>258</td>\n",
       "    </tr>\n",
       "    <tr>\n",
       "      <th>5</th>\n",
       "      <td>6</td>\n",
       "      <td>12</td>\n",
       "      <td>20</td>\n",
       "      <td>240</td>\n",
       "      <td>66</td>\n",
       "      <td>306</td>\n",
       "    </tr>\n",
       "    <tr>\n",
       "      <th>6</th>\n",
       "      <td>7</td>\n",
       "      <td>12</td>\n",
       "      <td>12</td>\n",
       "      <td>144</td>\n",
       "      <td>66</td>\n",
       "      <td>210</td>\n",
       "    </tr>\n",
       "    <tr>\n",
       "      <th>7</th>\n",
       "      <td>8</td>\n",
       "      <td>12</td>\n",
       "      <td>8</td>\n",
       "      <td>96</td>\n",
       "      <td>66</td>\n",
       "      <td>162</td>\n",
       "    </tr>\n",
       "    <tr>\n",
       "      <th>8</th>\n",
       "      <td>9</td>\n",
       "      <td>12</td>\n",
       "      <td>12</td>\n",
       "      <td>144</td>\n",
       "      <td>66</td>\n",
       "      <td>210</td>\n",
       "    </tr>\n",
       "    <tr>\n",
       "      <th>9</th>\n",
       "      <td>10</td>\n",
       "      <td>12</td>\n",
       "      <td>16</td>\n",
       "      <td>192</td>\n",
       "      <td>66</td>\n",
       "      <td>258</td>\n",
       "    </tr>\n",
       "    <tr>\n",
       "      <th>10</th>\n",
       "      <td>11</td>\n",
       "      <td>12</td>\n",
       "      <td>8</td>\n",
       "      <td>96</td>\n",
       "      <td>66</td>\n",
       "      <td>162</td>\n",
       "    </tr>\n",
       "    <tr>\n",
       "      <th>11</th>\n",
       "      <td>12</td>\n",
       "      <td>12</td>\n",
       "      <td>12</td>\n",
       "      <td>144</td>\n",
       "      <td>66</td>\n",
       "      <td>210</td>\n",
       "    </tr>\n",
       "    <tr>\n",
       "      <th>12</th>\n",
       "      <td>13</td>\n",
       "      <td>12</td>\n",
       "      <td>12</td>\n",
       "      <td>144</td>\n",
       "      <td>66</td>\n",
       "      <td>210</td>\n",
       "    </tr>\n",
       "    <tr>\n",
       "      <th>13</th>\n",
       "      <td>14</td>\n",
       "      <td>12</td>\n",
       "      <td>12</td>\n",
       "      <td>144</td>\n",
       "      <td>66</td>\n",
       "      <td>210</td>\n",
       "    </tr>\n",
       "    <tr>\n",
       "      <th>14</th>\n",
       "      <td>15</td>\n",
       "      <td>12</td>\n",
       "      <td>12</td>\n",
       "      <td>144</td>\n",
       "      <td>66</td>\n",
       "      <td>210</td>\n",
       "    </tr>\n",
       "    <tr>\n",
       "      <th>15</th>\n",
       "      <td>16</td>\n",
       "      <td>12</td>\n",
       "      <td>8</td>\n",
       "      <td>96</td>\n",
       "      <td>66</td>\n",
       "      <td>162</td>\n",
       "    </tr>\n",
       "    <tr>\n",
       "      <th>16</th>\n",
       "      <td>17</td>\n",
       "      <td>12</td>\n",
       "      <td>8</td>\n",
       "      <td>96</td>\n",
       "      <td>66</td>\n",
       "      <td>162</td>\n",
       "    </tr>\n",
       "    <tr>\n",
       "      <th>17</th>\n",
       "      <td>18</td>\n",
       "      <td>12</td>\n",
       "      <td>16</td>\n",
       "      <td>192</td>\n",
       "      <td>66</td>\n",
       "      <td>258</td>\n",
       "    </tr>\n",
       "    <tr>\n",
       "      <th>18</th>\n",
       "      <td>19</td>\n",
       "      <td>12</td>\n",
       "      <td>8</td>\n",
       "      <td>96</td>\n",
       "      <td>66</td>\n",
       "      <td>162</td>\n",
       "    </tr>\n",
       "    <tr>\n",
       "      <th>19</th>\n",
       "      <td>20</td>\n",
       "      <td>12</td>\n",
       "      <td>8</td>\n",
       "      <td>96</td>\n",
       "      <td>66</td>\n",
       "      <td>162</td>\n",
       "    </tr>\n",
       "    <tr>\n",
       "      <th>20</th>\n",
       "      <td>21</td>\n",
       "      <td>12</td>\n",
       "      <td>12</td>\n",
       "      <td>144</td>\n",
       "      <td>66</td>\n",
       "      <td>210</td>\n",
       "    </tr>\n",
       "  </tbody>\n",
       "</table>\n",
       "</div>"
      ],
      "text/plain": [
       "    Person  Real  Forged  Dissimilar_Pairs Similar_Pairs Total_Pairs\n",
       "0        1    12      12               144            66         210\n",
       "1        2    12      12               144            66         210\n",
       "2        3    12       8                96            66         162\n",
       "3        4    12      16               192            66         258\n",
       "4        5    12      16               192            66         258\n",
       "5        6    12      20               240            66         306\n",
       "6        7    12      12               144            66         210\n",
       "7        8    12       8                96            66         162\n",
       "8        9    12      12               144            66         210\n",
       "9       10    12      16               192            66         258\n",
       "10      11    12       8                96            66         162\n",
       "11      12    12      12               144            66         210\n",
       "12      13    12      12               144            66         210\n",
       "13      14    12      12               144            66         210\n",
       "14      15    12      12               144            66         210\n",
       "15      16    12       8                96            66         162\n",
       "16      17    12       8                96            66         162\n",
       "17      18    12      16               192            66         258\n",
       "18      19    12       8                96            66         162\n",
       "19      20    12       8                96            66         162\n",
       "20      21    12      12               144            66         210"
      ]
     },
     "execution_count": 6,
     "metadata": {},
     "output_type": "execute_result"
    }
   ],
   "source": [
    "test_df = count_pairs('Test_Set')\n",
    "test_df = transform(test_df)\n",
    "test_df"
   ]
  },
  {
   "cell_type": "markdown",
   "metadata": {},
   "source": [
    "##### Total Count of Pairs in test set = 4362"
   ]
  },
  {
   "cell_type": "code",
   "execution_count": 7,
   "metadata": {},
   "outputs": [
    {
     "data": {
      "text/plain": [
       "4362"
      ]
     },
     "execution_count": 7,
     "metadata": {},
     "output_type": "execute_result"
    }
   ],
   "source": [
    "test_df.sum()['Total_Pairs']"
   ]
  },
  {
   "cell_type": "markdown",
   "metadata": {},
   "source": [
    "#### Making Pairs and extracting the Image data after resizing and in form of array with individual values between [0,1]"
   ]
  },
  {
   "cell_type": "code",
   "execution_count": 8,
   "metadata": {},
   "outputs": [],
   "source": [
    "def real_pairs(LIST,dataset='Train_Set'):\n",
    "    \n",
    "    X =[]\n",
    "    y =[]\n",
    "    \n",
    "    for number in LIST:\n",
    "        #print(number)\n",
    "        \n",
    "        location = 'Signatures_2/' + dataset + '/'\n",
    "        \n",
    "        if '.DS_Store' in os.listdir(location + number + '/Real/'):\n",
    "            listR = os.listdir(location + number + '/Real/')\n",
    "            listR.remove('.DS_Store')\n",
    "        else:\n",
    "            listR = os.listdir(location + number + '/Real/')\n",
    "        \n",
    "        for pairs in combinations(listR,2):\n",
    "            \n",
    "            image1 = np.asarray(Image.open(location + number +'/Real/'+ pairs[0]).convert('RGB').resize((32,32)))\n",
    "            image2 = np.asarray(Image.open(location + number +'/Real/'+ pairs[1]).convert('RGB').resize((32,32)))\n",
    "            \n",
    "            \n",
    "            X.append([image1,image2])\n",
    "            y.append(float(1))\n",
    "            \n",
    "        \n",
    "    return np.array(X) / 255 , np.array(y)\n",
    "\n",
    "\n",
    "def dissimilar_pair(LIST,dataset='Train_Set'):\n",
    "    \n",
    "    X =[]\n",
    "    y =[]\n",
    "    \n",
    "    for number in LIST:\n",
    "        #print(number)\n",
    "        location = 'Signatures_2/' + dataset + '/'\n",
    "        R = location + number + '/Real/'\n",
    "        F = location + number + '/Forged/'\n",
    "        \n",
    "        list1=os.listdir(R)\n",
    "        if '.DS_Store' in list1:\n",
    "            list1.remove('.DS_Store')\n",
    "        \n",
    "        list2=os.listdir(F)\n",
    "        if '.DS_Store' in list2:\n",
    "            list2.remove('.DS_Store')\n",
    "        \n",
    "        if '.DS_Store' in list2:\n",
    "            list2 = list2[1:]\n",
    "            if '.DS_Store' in list1:\n",
    "                list1.remove('.DS_Store')\n",
    "        else:\n",
    "            list1 = list1[1:]\n",
    "            if '.DS_Store' in list2:\n",
    "                list2.remove('.DS_Store')\n",
    "            \n",
    "        \n",
    "        output = [[a, b] for a in list1  \n",
    "          for b in list2 if a != b]\n",
    "        \n",
    "        for pairs in output:\n",
    "            \n",
    "            image1 = np.asarray(Image.open(location + number +'/Real/'+ pairs[0]).convert('RGB').resize((32,32)))\n",
    "            image2 = np.asarray(Image.open(location + number +'/Forged/'+ pairs[1]).convert('RGB').resize((32,32)))\n",
    "            \n",
    "            \n",
    "            X.append([image1,image2])\n",
    "            y.append(float(0))                        \n",
    "        \n",
    "    return np.array(X) / 255 , np.array(y)"
   ]
  },
  {
   "cell_type": "markdown",
   "metadata": {},
   "source": [
    "#### Getting the input list for train set"
   ]
  },
  {
   "cell_type": "code",
   "execution_count": 9,
   "metadata": {},
   "outputs": [],
   "source": [
    "train_list = os.listdir('Signatures_2/Train_Set/')\n",
    "train_list.remove('.DS_Store')\n",
    "train_list.sort()\n",
    "#train_list"
   ]
  },
  {
   "cell_type": "markdown",
   "metadata": {},
   "source": [
    "#### Getting the Real Pairs and Labels for train set"
   ]
  },
  {
   "cell_type": "code",
   "execution_count": 10,
   "metadata": {},
   "outputs": [],
   "source": [
    "RP_train,RP_labels = real_pairs(train_list,dataset='Train_Set')"
   ]
  },
  {
   "cell_type": "markdown",
   "metadata": {},
   "source": [
    "#### Getting the Dissimilar Pairs and Labels for train set"
   ]
  },
  {
   "cell_type": "code",
   "execution_count": 11,
   "metadata": {},
   "outputs": [],
   "source": [
    "DP_train , DP_labels = dissimilar_pair(train_list,dataset='Train_Set')"
   ]
  },
  {
   "cell_type": "markdown",
   "metadata": {},
   "source": [
    "#### Getting the input list for test set"
   ]
  },
  {
   "cell_type": "code",
   "execution_count": 12,
   "metadata": {},
   "outputs": [],
   "source": [
    "test_list = os.listdir('Signatures_2/Test_Set/')\n",
    "test_list.remove('.DS_Store')\n",
    "test_list.sort()"
   ]
  },
  {
   "cell_type": "markdown",
   "metadata": {},
   "source": [
    "#### Getting the Real Pairs and Labels for test set"
   ]
  },
  {
   "cell_type": "code",
   "execution_count": 13,
   "metadata": {},
   "outputs": [],
   "source": [
    "RP_test , RP_test_labels = real_pairs(test_list,dataset='Test_Set')"
   ]
  },
  {
   "cell_type": "markdown",
   "metadata": {},
   "source": [
    "#### Getting the Real Pairs and Labels for test set"
   ]
  },
  {
   "cell_type": "code",
   "execution_count": 14,
   "metadata": {},
   "outputs": [],
   "source": [
    "DP_test , DP_test_labels = dissimilar_pair(test_list,dataset='Test_Set')"
   ]
  },
  {
   "cell_type": "markdown",
   "metadata": {},
   "source": [
    "#### Stacking the Real and Dissimilar pairs into single array for train set"
   ]
  },
  {
   "cell_type": "code",
   "execution_count": 15,
   "metadata": {},
   "outputs": [],
   "source": [
    "train_pairs = np.vstack((RP_train, DP_train))\n",
    "#train_pairs"
   ]
  },
  {
   "cell_type": "markdown",
   "metadata": {},
   "source": [
    "#### Shape says that there are total 16143 pairs of 32x32 size having RGB color scheme"
   ]
  },
  {
   "cell_type": "code",
   "execution_count": 16,
   "metadata": {},
   "outputs": [
    {
     "data": {
      "text/plain": [
       "(16143, 2, 32, 32, 3)"
      ]
     },
     "execution_count": 16,
     "metadata": {},
     "output_type": "execute_result"
    }
   ],
   "source": [
    "train_pairs.shape"
   ]
  },
  {
   "cell_type": "markdown",
   "metadata": {},
   "source": [
    "#### Stacking the Real and Dissimilar labels into single array for train set"
   ]
  },
  {
   "cell_type": "code",
   "execution_count": 17,
   "metadata": {},
   "outputs": [
    {
     "data": {
      "text/plain": [
       "array([1., 1., 1., ..., 0., 0., 0.])"
      ]
     },
     "execution_count": 17,
     "metadata": {},
     "output_type": "execute_result"
    }
   ],
   "source": [
    "train_labels = np.hstack((RP_labels, DP_labels))\n",
    "train_labels"
   ]
  },
  {
   "cell_type": "markdown",
   "metadata": {},
   "source": [
    "#### Stacking the Real and Dissimilar pairs into single array for train set"
   ]
  },
  {
   "cell_type": "code",
   "execution_count": 18,
   "metadata": {},
   "outputs": [],
   "source": [
    "test_pairs = np.vstack((RP_test, DP_test))"
   ]
  },
  {
   "cell_type": "markdown",
   "metadata": {},
   "source": [
    "#### Shape says that there are total 4114 pairs of 32x32 size having RGB color scheme"
   ]
  },
  {
   "cell_type": "code",
   "execution_count": 19,
   "metadata": {},
   "outputs": [
    {
     "data": {
      "text/plain": [
       "(4114, 2, 32, 32, 3)"
      ]
     },
     "execution_count": 19,
     "metadata": {},
     "output_type": "execute_result"
    }
   ],
   "source": [
    "test_pairs.shape"
   ]
  },
  {
   "cell_type": "markdown",
   "metadata": {},
   "source": [
    "#### Stacking the Real and Dissimilar pairs into single array for train set"
   ]
  },
  {
   "cell_type": "code",
   "execution_count": 20,
   "metadata": {},
   "outputs": [
    {
     "data": {
      "text/plain": [
       "array([1., 1., 1., ..., 0., 0., 0.])"
      ]
     },
     "execution_count": 20,
     "metadata": {},
     "output_type": "execute_result"
    }
   ],
   "source": [
    "test_labels = np.hstack((RP_test_labels, DP_test_labels))\n",
    "test_labels"
   ]
  },
  {
   "cell_type": "markdown",
   "metadata": {},
   "source": [
    "#### Setting the Random State to be same for the pairs and shuffling for better training results"
   ]
  },
  {
   "cell_type": "code",
   "execution_count": 21,
   "metadata": {},
   "outputs": [],
   "source": [
    "random_state = np.random.get_state()\n",
    "np.random.shuffle(train_pairs)"
   ]
  },
  {
   "cell_type": "code",
   "execution_count": 22,
   "metadata": {},
   "outputs": [],
   "source": [
    "np.random.set_state(random_state)\n",
    "np.random.shuffle(train_labels)"
   ]
  },
  {
   "cell_type": "code",
   "execution_count": 23,
   "metadata": {},
   "outputs": [],
   "source": [
    "#random_state = np.random.get_state()\n",
    "np.random.set_state(random_state)\n",
    "np.random.shuffle(test_pairs)"
   ]
  },
  {
   "cell_type": "code",
   "execution_count": 24,
   "metadata": {},
   "outputs": [
    {
     "data": {
      "text/plain": [
       "array([1., 1., 0., ..., 0., 0., 0.])"
      ]
     },
     "execution_count": 24,
     "metadata": {},
     "output_type": "execute_result"
    }
   ],
   "source": [
    "np.random.set_state(random_state)\n",
    "np.random.shuffle(test_labels)\n",
    "test_labels"
   ]
  },
  {
   "cell_type": "markdown",
   "metadata": {},
   "source": [
    "##### So now , our dataset is ready - we should now head to learning phase."
   ]
  },
  {
   "cell_type": "markdown",
   "metadata": {},
   "source": [
    "### Machine Learning Part"
   ]
  },
  {
   "cell_type": "markdown",
   "metadata": {},
   "source": [
    "#### Importing required libraries"
   ]
  },
  {
   "cell_type": "code",
   "execution_count": 25,
   "metadata": {},
   "outputs": [],
   "source": [
    "import keras\n",
    "import tensorflow as tf\n",
    "from keras.layers import Input, Dense , Flatten , Conv2D , AveragePooling2D , Activation ,merge ,Lambda , Subtract\n",
    "from keras.models import Model , Sequential\n",
    "from keras import backend as K\n",
    "from keras.optimizers import SGD,Adam\n",
    "from keras.losses import binary_crossentropy\n",
    "from keras.utils import plot_model\n",
    "from keras.regularizers import l2\n",
    "from sklearn.metrics import classification_report,confusion_matrix\n",
    "from sklearn.model_selection import KFold"
   ]
  },
  {
   "cell_type": "markdown",
   "metadata": {},
   "source": [
    "#### Defining the input shape of the image"
   ]
  },
  {
   "cell_type": "code",
   "execution_count": 26,
   "metadata": {},
   "outputs": [
    {
     "data": {
      "text/plain": [
       "(32, 32, 3)"
      ]
     },
     "execution_count": 26,
     "metadata": {},
     "output_type": "execute_result"
    }
   ],
   "source": [
    "input_shape = (32,32,3)\n",
    "input_shape"
   ]
  },
  {
   "cell_type": "markdown",
   "metadata": {},
   "source": [
    "#### Designing the CNN model"
   ]
  },
  {
   "cell_type": "code",
   "execution_count": 27,
   "metadata": {},
   "outputs": [],
   "source": [
    "def create_network():\n",
    "    W_init = keras.initializers.RandomNormal(mean = 0.5, stddev = 1e-2)\n",
    "    b_init = keras.initializers.RandomNormal(mean = 0.5, stddev = 1e-2)\n",
    "    model = Sequential()\n",
    "    model.add(Conv2D(32,(3,3),activation='relu',input_shape = (32, 32, 3),strides=1,padding='same',kernel_initializer=W_init, bias_initializer=b_init))\n",
    "    model.add(AveragePooling2D(2,2))\n",
    "    model.add(Conv2D(64,(3,3),activation='relu',strides=1,padding='same',kernel_initializer=W_init, bias_initializer=b_init))\n",
    "    model.add(AveragePooling2D(2,2))\n",
    "    model.add(Flatten())\n",
    "    model.add(Dense(16,activation='relu'))\n",
    "    return model"
   ]
  },
  {
   "cell_type": "markdown",
   "metadata": {},
   "source": [
    "#### Checking out the summary of the network"
   ]
  },
  {
   "cell_type": "code",
   "execution_count": 28,
   "metadata": {},
   "outputs": [
    {
     "name": "stdout",
     "output_type": "stream",
     "text": [
      "Model: \"sequential\"\n",
      "_________________________________________________________________\n",
      "Layer (type)                 Output Shape              Param #   \n",
      "=================================================================\n",
      "conv2d (Conv2D)              (None, 32, 32, 32)        896       \n",
      "_________________________________________________________________\n",
      "average_pooling2d (AveragePo (None, 16, 16, 32)        0         \n",
      "_________________________________________________________________\n",
      "conv2d_1 (Conv2D)            (None, 16, 16, 64)        18496     \n",
      "_________________________________________________________________\n",
      "average_pooling2d_1 (Average (None, 8, 8, 64)          0         \n",
      "_________________________________________________________________\n",
      "flatten (Flatten)            (None, 4096)              0         \n",
      "_________________________________________________________________\n",
      "dense (Dense)                (None, 16)                65552     \n",
      "=================================================================\n",
      "Total params: 84,944\n",
      "Trainable params: 84,944\n",
      "Non-trainable params: 0\n",
      "_________________________________________________________________\n"
     ]
    }
   ],
   "source": [
    "base_network = create_network()\n",
    "base_network.summary()"
   ]
  },
  {
   "cell_type": "markdown",
   "metadata": {},
   "source": [
    "#### Specifying that there will be two inputs "
   ]
  },
  {
   "cell_type": "code",
   "execution_count": 29,
   "metadata": {},
   "outputs": [],
   "source": [
    "# Create first half of the siamese system\n",
    "input_a = tf.keras.layers.Input(shape=(32,32,3))\n",
    "\n",
    "# Note how we reuse the base_network in both halfs\n",
    "encoder_a = base_network(input_a)\n",
    "\n",
    "# Create the second half of the siamese system\n",
    "input_b = tf.keras.layers.Input(shape=(32,32,3))\n",
    "encoder_b = base_network(input_b)"
   ]
  },
  {
   "cell_type": "markdown",
   "metadata": {},
   "source": [
    "#### Calulating the distance betweeen two input layers"
   ]
  },
  {
   "cell_type": "code",
   "execution_count": 30,
   "metadata": {},
   "outputs": [],
   "source": [
    "l1_dist = tf.keras.layers.Lambda(\n",
    "    lambda embeddings: tf.keras.backend.abs(embeddings[0] - embeddings[1])) \\\n",
    "    ([encoder_a, encoder_b])"
   ]
  },
  {
   "cell_type": "markdown",
   "metadata": {},
   "source": [
    "#### Flattening the weight using a Dense Sigmoid Layer"
   ]
  },
  {
   "cell_type": "code",
   "execution_count": 31,
   "metadata": {},
   "outputs": [],
   "source": [
    "flattened_weighted_distance = tf.keras.layers.Dense(1, activation='sigmoid') \\\n",
    "    (l1_dist)"
   ]
  },
  {
   "cell_type": "markdown",
   "metadata": {},
   "source": [
    "#### Builing the actual model"
   ]
  },
  {
   "cell_type": "code",
   "execution_count": 32,
   "metadata": {},
   "outputs": [],
   "source": [
    "# Build the model\n",
    "model = tf.keras.models.Model([input_a, input_b], flattened_weighted_distance)"
   ]
  },
  {
   "cell_type": "markdown",
   "metadata": {},
   "source": [
    "#### Compiling the model"
   ]
  },
  {
   "cell_type": "code",
   "execution_count": 33,
   "metadata": {},
   "outputs": [],
   "source": [
    "# Train\n",
    "model.compile(loss='binary_crossentropy',\n",
    "              optimizer=tf.keras.optimizers.Adam(learning_rate=0.001),\n",
    "              metrics=['accuracy'])"
   ]
  },
  {
   "cell_type": "markdown",
   "metadata": {},
   "source": [
    "#### Fitting the model along with 5 Fold validation on the just the training set."
   ]
  },
  {
   "cell_type": "code",
   "execution_count": 34,
   "metadata": {},
   "outputs": [],
   "source": [
    "kf5 = KFold(n_splits=5)"
   ]
  },
  {
   "cell_type": "code",
   "execution_count": 35,
   "metadata": {},
   "outputs": [
    {
     "name": "stdout",
     "output_type": "stream",
     "text": [
      "Epoch 1/20\n",
      "431/431 [==============================] - 12s 28ms/step - loss: 11.5413 - accuracy: 0.6051 - val_loss: 3.4486 - val_accuracy: 0.6194\n",
      "Epoch 2/20\n",
      "431/431 [==============================] - 12s 28ms/step - loss: 1.4941 - accuracy: 0.6544 - val_loss: 0.6695 - val_accuracy: 0.6658\n",
      "Epoch 3/20\n",
      "431/431 [==============================] - 13s 30ms/step - loss: 0.5553 - accuracy: 0.7147 - val_loss: 0.5433 - val_accuracy: 0.7114\n",
      "Epoch 4/20\n",
      "431/431 [==============================] - 13s 30ms/step - loss: 0.5252 - accuracy: 0.7387 - val_loss: 0.5302 - val_accuracy: 0.7352\n",
      "Epoch 5/20\n",
      "431/431 [==============================] - 15s 35ms/step - loss: 0.5117 - accuracy: 0.7533 - val_loss: 0.5323 - val_accuracy: 0.7417\n",
      "Epoch 6/20\n",
      "431/431 [==============================] - 19s 45ms/step - loss: 0.5007 - accuracy: 0.7656 - val_loss: 0.4998 - val_accuracy: 0.7649\n",
      "Epoch 7/20\n",
      "431/431 [==============================] - 14s 32ms/step - loss: 0.4820 - accuracy: 0.7790 - val_loss: 0.4791 - val_accuracy: 0.7804\n",
      "Epoch 8/20\n",
      "431/431 [==============================] - 14s 34ms/step - loss: 0.4632 - accuracy: 0.7910 - val_loss: 0.4593 - val_accuracy: 0.7984\n",
      "Epoch 9/20\n",
      "431/431 [==============================] - 14s 32ms/step - loss: 0.4417 - accuracy: 0.8043 - val_loss: 0.4346 - val_accuracy: 0.8136\n",
      "Epoch 10/20\n",
      "431/431 [==============================] - 15s 34ms/step - loss: 0.4260 - accuracy: 0.8170 - val_loss: 0.4123 - val_accuracy: 0.8188\n",
      "Epoch 11/20\n",
      "431/431 [==============================] - 14s 34ms/step - loss: 0.4096 - accuracy: 0.8282 - val_loss: 0.3861 - val_accuracy: 0.8417\n",
      "Epoch 12/20\n",
      "431/431 [==============================] - 14s 32ms/step - loss: 0.3771 - accuracy: 0.8441 - val_loss: 0.3604 - val_accuracy: 0.8572\n",
      "Epoch 13/20\n",
      "431/431 [==============================] - 14s 32ms/step - loss: 0.3575 - accuracy: 0.8548 - val_loss: 0.3547 - val_accuracy: 0.8535\n",
      "Epoch 14/20\n",
      "431/431 [==============================] - 14s 32ms/step - loss: 0.3426 - accuracy: 0.8606 - val_loss: 0.3471 - val_accuracy: 0.8656\n",
      "Epoch 15/20\n",
      "431/431 [==============================] - 14s 34ms/step - loss: 0.3178 - accuracy: 0.8718 - val_loss: 0.2926 - val_accuracy: 0.8910\n",
      "Epoch 16/20\n",
      "431/431 [==============================] - 14s 32ms/step - loss: 0.3052 - accuracy: 0.8772 - val_loss: 0.2850 - val_accuracy: 0.8879\n",
      "Epoch 17/20\n",
      "431/431 [==============================] - 14s 32ms/step - loss: 0.2739 - accuracy: 0.8914 - val_loss: 0.2623 - val_accuracy: 0.8981\n",
      "Epoch 18/20\n",
      "431/431 [==============================] - 14s 33ms/step - loss: 0.2593 - accuracy: 0.8992 - val_loss: 0.2589 - val_accuracy: 0.9062\n",
      "Epoch 19/20\n",
      "431/431 [==============================] - 14s 32ms/step - loss: 0.2350 - accuracy: 0.9102 - val_loss: 0.2238 - val_accuracy: 0.9179\n",
      "Epoch 20/20\n",
      "431/431 [==============================] - 14s 33ms/step - loss: 0.2361 - accuracy: 0.9111 - val_loss: 0.2484 - val_accuracy: 0.9028\n",
      "------------------------------------------------------------------------------------------------------------------------------------\n",
      "Epoch 1/20\n",
      "431/431 [==============================] - 14s 32ms/step - loss: 0.2469 - accuracy: 0.9051 - val_loss: 0.2583 - val_accuracy: 0.8922\n",
      "Epoch 2/20\n",
      "431/431 [==============================] - 15s 34ms/step - loss: 0.2490 - accuracy: 0.9006 - val_loss: 0.2568 - val_accuracy: 0.8897\n",
      "Epoch 3/20\n",
      "431/431 [==============================] - 15s 35ms/step - loss: 0.2399 - accuracy: 0.9057 - val_loss: 0.2379 - val_accuracy: 0.8990\n",
      "Epoch 4/20\n",
      "431/431 [==============================] - 15s 35ms/step - loss: 0.2145 - accuracy: 0.9176 - val_loss: 0.2163 - val_accuracy: 0.9117\n",
      "Epoch 5/20\n",
      "431/431 [==============================] - 16s 37ms/step - loss: 0.2049 - accuracy: 0.9213 - val_loss: 0.2137 - val_accuracy: 0.9151\n",
      "Epoch 6/20\n",
      "431/431 [==============================] - 16s 37ms/step - loss: 0.2600 - accuracy: 0.9004 - val_loss: 0.2601 - val_accuracy: 0.8919\n",
      "Epoch 7/20\n",
      "431/431 [==============================] - 16s 36ms/step - loss: 0.2253 - accuracy: 0.9065 - val_loss: 0.2272 - val_accuracy: 0.9037\n",
      "Epoch 8/20\n",
      "431/431 [==============================] - 15s 35ms/step - loss: 0.2370 - accuracy: 0.9020 - val_loss: 0.2313 - val_accuracy: 0.9043\n",
      "Epoch 9/20\n",
      "431/431 [==============================] - 14s 33ms/step - loss: 0.2180 - accuracy: 0.9122 - val_loss: 0.2207 - val_accuracy: 0.9077\n",
      "Epoch 10/20\n",
      "431/431 [==============================] - 15s 34ms/step - loss: 0.2067 - accuracy: 0.9169 - val_loss: 0.2281 - val_accuracy: 0.8966\n",
      "Epoch 11/20\n",
      "431/431 [==============================] - 14s 34ms/step - loss: 0.2072 - accuracy: 0.9191 - val_loss: 0.2081 - val_accuracy: 0.9148\n",
      "Epoch 12/20\n",
      "431/431 [==============================] - 15s 35ms/step - loss: 0.1929 - accuracy: 0.9243 - val_loss: 0.2334 - val_accuracy: 0.8978\n",
      "Epoch 13/20\n",
      "431/431 [==============================] - 15s 35ms/step - loss: 0.1729 - accuracy: 0.9326 - val_loss: 0.2015 - val_accuracy: 0.9182\n",
      "Epoch 14/20\n",
      "431/431 [==============================] - 16s 36ms/step - loss: 0.1655 - accuracy: 0.9371 - val_loss: 0.1796 - val_accuracy: 0.9337\n",
      "Epoch 15/20\n",
      "431/431 [==============================] - 15s 34ms/step - loss: 0.1592 - accuracy: 0.9391 - val_loss: 0.1734 - val_accuracy: 0.9331\n",
      "Epoch 16/20\n",
      "431/431 [==============================] - 15s 36ms/step - loss: 0.1522 - accuracy: 0.9423 - val_loss: 0.1896 - val_accuracy: 0.9251\n",
      "Epoch 17/20\n",
      "431/431 [==============================] - 15s 35ms/step - loss: 0.1458 - accuracy: 0.9449 - val_loss: 0.1652 - val_accuracy: 0.9312\n",
      "Epoch 18/20\n",
      "431/431 [==============================] - 15s 34ms/step - loss: 0.1440 - accuracy: 0.9445 - val_loss: 0.1659 - val_accuracy: 0.9288\n",
      "Epoch 19/20\n",
      "431/431 [==============================] - 16s 36ms/step - loss: 0.1321 - accuracy: 0.9512 - val_loss: 0.1535 - val_accuracy: 0.9393\n",
      "Epoch 20/20\n",
      "431/431 [==============================] - 16s 38ms/step - loss: 0.1409 - accuracy: 0.9484 - val_loss: 0.2034 - val_accuracy: 0.9161\n",
      "------------------------------------------------------------------------------------------------------------------------------------\n",
      "Epoch 1/20\n",
      "431/431 [==============================] - 19s 44ms/step - loss: 0.1417 - accuracy: 0.9452 - val_loss: 0.1281 - val_accuracy: 0.9526\n",
      "Epoch 2/20\n",
      "431/431 [==============================] - 14s 32ms/step - loss: 0.1157 - accuracy: 0.9586 - val_loss: 0.1107 - val_accuracy: 0.9607\n",
      "Epoch 3/20\n",
      "431/431 [==============================] - 15s 35ms/step - loss: 0.1149 - accuracy: 0.9604 - val_loss: 0.2434 - val_accuracy: 0.9083\n",
      "Epoch 4/20\n",
      "431/431 [==============================] - 16s 36ms/step - loss: 0.1088 - accuracy: 0.9616 - val_loss: 0.1095 - val_accuracy: 0.9619\n",
      "Epoch 5/20\n",
      "431/431 [==============================] - 16s 37ms/step - loss: 0.1043 - accuracy: 0.9634 - val_loss: 0.1651 - val_accuracy: 0.9328\n",
      "Epoch 6/20\n",
      "431/431 [==============================] - 16s 37ms/step - loss: 0.1057 - accuracy: 0.9626 - val_loss: 0.1170 - val_accuracy: 0.9563\n",
      "Epoch 7/20\n",
      "431/431 [==============================] - 13s 31ms/step - loss: 0.1000 - accuracy: 0.9643 - val_loss: 0.1041 - val_accuracy: 0.9650\n",
      "Epoch 8/20\n",
      "431/431 [==============================] - 14s 33ms/step - loss: 0.0893 - accuracy: 0.9700 - val_loss: 0.1132 - val_accuracy: 0.9563\n",
      "Epoch 9/20\n",
      "431/431 [==============================] - 16s 36ms/step - loss: 0.0873 - accuracy: 0.9717 - val_loss: 0.0976 - val_accuracy: 0.9659\n",
      "Epoch 10/20\n",
      "431/431 [==============================] - 15s 34ms/step - loss: 0.0806 - accuracy: 0.9744 - val_loss: 0.0992 - val_accuracy: 0.9650\n",
      "Epoch 11/20\n",
      "431/431 [==============================] - 14s 32ms/step - loss: 0.0799 - accuracy: 0.9746 - val_loss: 0.0965 - val_accuracy: 0.9641\n",
      "Epoch 12/20\n",
      "431/431 [==============================] - 15s 34ms/step - loss: 0.0719 - accuracy: 0.9771 - val_loss: 0.0983 - val_accuracy: 0.9653\n",
      "Epoch 13/20\n",
      "431/431 [==============================] - 15s 36ms/step - loss: 0.0692 - accuracy: 0.9792 - val_loss: 0.0983 - val_accuracy: 0.9653\n",
      "Epoch 14/20\n",
      "431/431 [==============================] - 14s 32ms/step - loss: 0.0679 - accuracy: 0.9790 - val_loss: 0.0956 - val_accuracy: 0.9656\n",
      "Epoch 15/20\n",
      "431/431 [==============================] - 15s 34ms/step - loss: 0.0670 - accuracy: 0.9792 - val_loss: 0.0998 - val_accuracy: 0.9631\n",
      "Epoch 16/20\n",
      "431/431 [==============================] - 15s 35ms/step - loss: 0.0701 - accuracy: 0.9789 - val_loss: 0.0876 - val_accuracy: 0.9697\n",
      "Epoch 17/20\n",
      "431/431 [==============================] - 15s 34ms/step - loss: 0.0583 - accuracy: 0.9830 - val_loss: 0.0923 - val_accuracy: 0.9684\n",
      "Epoch 18/20\n",
      "431/431 [==============================] - 13s 31ms/step - loss: 0.0562 - accuracy: 0.9826 - val_loss: 0.1242 - val_accuracy: 0.9539\n",
      "Epoch 19/20\n",
      "431/431 [==============================] - 14s 32ms/step - loss: 0.0770 - accuracy: 0.9752 - val_loss: 0.0835 - val_accuracy: 0.9712\n",
      "Epoch 20/20\n",
      "431/431 [==============================] - 16s 37ms/step - loss: 0.0497 - accuracy: 0.9867 - val_loss: 0.0852 - val_accuracy: 0.9706\n",
      "------------------------------------------------------------------------------------------------------------------------------------\n",
      "Epoch 1/20\n",
      "431/431 [==============================] - 14s 34ms/step - loss: 0.0582 - accuracy: 0.9817 - val_loss: 0.0482 - val_accuracy: 0.9854\n",
      "Epoch 2/20\n",
      "431/431 [==============================] - 14s 32ms/step - loss: 0.0551 - accuracy: 0.9835 - val_loss: 0.0466 - val_accuracy: 0.9879\n",
      "Epoch 3/20\n",
      "431/431 [==============================] - 15s 34ms/step - loss: 0.0537 - accuracy: 0.9842 - val_loss: 0.0544 - val_accuracy: 0.9836\n",
      "Epoch 4/20\n",
      "431/431 [==============================] - 14s 33ms/step - loss: 0.0469 - accuracy: 0.9870 - val_loss: 0.0476 - val_accuracy: 0.9861\n",
      "Epoch 5/20\n",
      "431/431 [==============================] - 14s 33ms/step - loss: 0.0480 - accuracy: 0.9867 - val_loss: 0.0844 - val_accuracy: 0.9687\n",
      "Epoch 6/20\n",
      "431/431 [==============================] - 14s 33ms/step - loss: 0.0421 - accuracy: 0.9886 - val_loss: 0.0502 - val_accuracy: 0.9861\n",
      "Epoch 7/20\n",
      "431/431 [==============================] - 15s 34ms/step - loss: 0.0519 - accuracy: 0.9852 - val_loss: 0.0512 - val_accuracy: 0.9823\n",
      "Epoch 8/20\n",
      "431/431 [==============================] - 15s 34ms/step - loss: 0.1074 - accuracy: 0.9617 - val_loss: 0.0873 - val_accuracy: 0.9696\n",
      "Epoch 9/20\n",
      "431/431 [==============================] - 13s 31ms/step - loss: 0.0773 - accuracy: 0.9742 - val_loss: 0.0847 - val_accuracy: 0.9700\n",
      "Epoch 10/20\n",
      "431/431 [==============================] - 14s 32ms/step - loss: 0.0737 - accuracy: 0.9775 - val_loss: 0.1151 - val_accuracy: 0.9585\n",
      "Epoch 11/20\n",
      "431/431 [==============================] - 14s 33ms/step - loss: 0.0674 - accuracy: 0.9788 - val_loss: 0.0819 - val_accuracy: 0.9706\n",
      "Epoch 12/20\n",
      "431/431 [==============================] - 13s 31ms/step - loss: 0.0583 - accuracy: 0.9834 - val_loss: 0.0751 - val_accuracy: 0.9746\n",
      "Epoch 13/20\n",
      "431/431 [==============================] - 14s 32ms/step - loss: 0.0592 - accuracy: 0.9836 - val_loss: 0.0872 - val_accuracy: 0.9684\n",
      "Epoch 14/20\n",
      "431/431 [==============================] - 15s 35ms/step - loss: 0.0590 - accuracy: 0.9826 - val_loss: 0.0684 - val_accuracy: 0.9749\n",
      "Epoch 15/20\n",
      "431/431 [==============================] - 14s 32ms/step - loss: 0.0521 - accuracy: 0.9863 - val_loss: 0.0673 - val_accuracy: 0.9780\n",
      "Epoch 16/20\n",
      "431/431 [==============================] - 14s 31ms/step - loss: 0.0602 - accuracy: 0.9828 - val_loss: 0.0693 - val_accuracy: 0.9774\n",
      "Epoch 17/20\n",
      "431/431 [==============================] - 16s 37ms/step - loss: 0.0549 - accuracy: 0.9842 - val_loss: 0.0704 - val_accuracy: 0.9746\n",
      "Epoch 18/20\n",
      "431/431 [==============================] - 13s 31ms/step - loss: 0.0602 - accuracy: 0.9826 - val_loss: 0.0606 - val_accuracy: 0.9814\n",
      "Epoch 19/20\n",
      "431/431 [==============================] - 13s 30ms/step - loss: 0.0423 - accuracy: 0.9899 - val_loss: 0.0599 - val_accuracy: 0.9802\n",
      "Epoch 20/20\n",
      "431/431 [==============================] - 14s 32ms/step - loss: 0.0432 - accuracy: 0.9891 - val_loss: 0.0504 - val_accuracy: 0.9864\n",
      "------------------------------------------------------------------------------------------------------------------------------------\n",
      "Epoch 1/20\n",
      "431/431 [==============================] - 13s 30ms/step - loss: 0.0515 - accuracy: 0.9852 - val_loss: 0.0389 - val_accuracy: 0.9907\n",
      "Epoch 2/20\n",
      "431/431 [==============================] - 13s 31ms/step - loss: 0.0389 - accuracy: 0.9908 - val_loss: 0.0390 - val_accuracy: 0.9923\n",
      "Epoch 3/20\n",
      "431/431 [==============================] - 13s 31ms/step - loss: 0.0432 - accuracy: 0.9885 - val_loss: 0.0751 - val_accuracy: 0.9734\n",
      "Epoch 4/20\n",
      "431/431 [==============================] - 13s 31ms/step - loss: 0.0367 - accuracy: 0.9923 - val_loss: 0.0387 - val_accuracy: 0.9892\n",
      "Epoch 5/20\n",
      "431/431 [==============================] - 14s 31ms/step - loss: 0.0376 - accuracy: 0.9915 - val_loss: 0.0480 - val_accuracy: 0.9854\n",
      "Epoch 6/20\n",
      "431/431 [==============================] - 14s 32ms/step - loss: 0.0451 - accuracy: 0.9882 - val_loss: 0.0374 - val_accuracy: 0.9935\n",
      "Epoch 7/20\n",
      "431/431 [==============================] - 14s 32ms/step - loss: 0.0275 - accuracy: 0.9954 - val_loss: 0.0346 - val_accuracy: 0.9926\n",
      "Epoch 8/20\n",
      "431/431 [==============================] - 15s 35ms/step - loss: 0.0476 - accuracy: 0.9882 - val_loss: 0.0742 - val_accuracy: 0.9706\n",
      "Epoch 9/20\n",
      "431/431 [==============================] - 16s 38ms/step - loss: 0.0326 - accuracy: 0.9919 - val_loss: 0.0397 - val_accuracy: 0.9895\n",
      "Epoch 10/20\n",
      "431/431 [==============================] - 13s 31ms/step - loss: 0.0281 - accuracy: 0.9944 - val_loss: 0.0330 - val_accuracy: 0.9926\n",
      "Epoch 11/20\n",
      "431/431 [==============================] - 13s 30ms/step - loss: 0.0226 - accuracy: 0.9970 - val_loss: 0.0329 - val_accuracy: 0.9938\n",
      "Epoch 12/20\n",
      "431/431 [==============================] - 14s 32ms/step - loss: 0.0527 - accuracy: 0.9884 - val_loss: 0.2627 - val_accuracy: 0.9244\n",
      "Epoch 13/20\n",
      "431/431 [==============================] - 13s 31ms/step - loss: 0.0626 - accuracy: 0.9782 - val_loss: 0.0450 - val_accuracy: 0.9861\n",
      "Epoch 14/20\n",
      "431/431 [==============================] - 13s 31ms/step - loss: 0.0243 - accuracy: 0.9957 - val_loss: 0.0344 - val_accuracy: 0.9898\n",
      "Epoch 15/20\n",
      "431/431 [==============================] - 14s 32ms/step - loss: 0.0271 - accuracy: 0.9949 - val_loss: 0.4427 - val_accuracy: 0.8848\n",
      "Epoch 16/20\n",
      "431/431 [==============================] - 13s 31ms/step - loss: 0.0561 - accuracy: 0.9854 - val_loss: 0.0355 - val_accuracy: 0.9898\n",
      "Epoch 17/20\n",
      "431/431 [==============================] - 14s 32ms/step - loss: 0.0203 - accuracy: 0.9978 - val_loss: 0.0343 - val_accuracy: 0.9907\n",
      "Epoch 18/20\n",
      "431/431 [==============================] - 15s 34ms/step - loss: 0.0173 - accuracy: 0.9989 - val_loss: 0.0279 - val_accuracy: 0.9944\n",
      "Epoch 19/20\n",
      "431/431 [==============================] - 16s 36ms/step - loss: 0.0232 - accuracy: 0.9957 - val_loss: 0.0324 - val_accuracy: 0.9916\n",
      "Epoch 20/20\n",
      "431/431 [==============================] - 13s 30ms/step - loss: 0.0160 - accuracy: 0.9990 - val_loss: 0.0261 - val_accuracy: 0.9941\n",
      "------------------------------------------------------------------------------------------------------------------------------------\n"
     ]
    }
   ],
   "source": [
    "metrics = []\n",
    "for train_index,test_index in kf5.split(train_pairs,train_labels):\n",
    "    \n",
    "    X_train = train_pairs[train_index]\n",
    "    X_test = train_pairs[test_index]\n",
    "    y_train = train_labels[train_index]\n",
    "    y_test = train_labels[test_index]\n",
    "    \n",
    "    history = model.fit([X_train[:, 0], X_train[:, 1]], y_train,\n",
    "                        batch_size=30,\n",
    "                        epochs=20,\n",
    "                        use_multiprocessing=True,\n",
    "                        workers=4,\n",
    "                        validation_data=([X_test[:, 0], X_test[:, 1]], y_test)\n",
    "          )\n",
    "    print('-------------------------------------------------------------------------------------------------------------------------------')\n",
    "    metrics.append({'acc':history.history['accuracy'],'val_acc':history.history['val_accuracy'],'loss':history.history['loss'],'val_loss':history.history['val_loss']})"
   ]
  },
  {
   "cell_type": "markdown",
   "metadata": {},
   "source": [
    "#### Visualizing the results"
   ]
  },
  {
   "cell_type": "code",
   "execution_count": null,
   "metadata": {},
   "outputs": [],
   "source": [
    "fold_n =[]\n",
    "mean = []\n",
    "median =[]\n",
    "std = []\n",
    "for fold in [0,1,2,3,4]:\n",
    "    fold_n.append(fold + 1)\n",
    "    mean.append(np.mean(metrics[fold]['val_acc'])*100)\n",
    "    median.append(np.median(metrics[fold]['val_acc'])*100)\n",
    "    std.append(np.std(metrics[fold]['val_acc'])*100)"
   ]
  },
  {
   "cell_type": "code",
   "execution_count": 77,
   "metadata": {},
   "outputs": [
    {
     "data": {
      "text/plain": [
       "<matplotlib.legend.Legend at 0x7fb36d3fba30>"
      ]
     },
     "execution_count": 77,
     "metadata": {},
     "output_type": "execute_result"
    },
    {
     "data": {
      "image/png": "[encoded data removed]",
      "text/plain": [
       "<Figure size 864x576 with 1 Axes>"
      ]
     },
     "metadata": {
      "needs_background": "light"
     },
     "output_type": "display_data"
    }
   ],
   "source": [
    "plt.plot(fold_n,mean)\n",
    "plt.plot(fold_n,median)\n",
    "plt.plot(fold_n,std)\n",
    "plt.xlabel('Number of Folds')\n",
    "plt.ylabel('Mean - Median - Std of Errors')\n",
    "plt.legend([\"Mean\", \"Median\",\"Standard Deviation\"], loc =\"center right\") "
   ]
  },
  {
   "cell_type": "code",
   "execution_count": 132,
   "metadata": {},
   "outputs": [],
   "source": [
    "accuracy = metrics[0]['acc'] + metrics[1]['acc'] + metrics[2]['acc'] + metrics[3]['acc'] + metrics[4]['acc']\n",
    "loss = metrics[0]['loss'] + metrics[1]['loss'] + metrics[2]['loss'] + metrics[3]['loss'] + metrics[4]['loss']"
   ]
  },
  {
   "cell_type": "code",
   "execution_count": 133,
   "metadata": {},
   "outputs": [],
   "source": [
    "accuracy = [element * 100 for element in accuracy]\n",
    "loss= [element * 100 for element in loss]"
   ]
  },
  {
   "cell_type": "code",
   "execution_count": 135,
   "metadata": {},
   "outputs": [
    {
     "data": {
      "text/plain": [
       "100"
      ]
     },
     "execution_count": 135,
     "metadata": {},
     "output_type": "execute_result"
    }
   ],
   "source": [
    "len(loss)"
   ]
  },
  {
   "cell_type": "code",
   "execution_count": 136,
   "metadata": {},
   "outputs": [
    {
     "data": {
      "text/plain": [
       "<matplotlib.legend.Legend at 0x7fb370e83ee0>"
      ]
     },
     "execution_count": 136,
     "metadata": {},
     "output_type": "execute_result"
    },
    {
     "data": {
      "image/png": "[encoded data removed]",
      "text/plain": [
       "<Figure size 864x576 with 1 Axes>"
      ]
     },
     "metadata": {
      "needs_background": "light"
     },
     "output_type": "display_data"
    }
   ],
   "source": [
    "plt.xlim(1, 5)\n",
    "plt.ylim(0, 100)\n",
    "\n",
    "plt.plot(accuracy)\n",
    "plt.plot(loss)\n",
    "plt.xlabel('Number of Folds')\n",
    "plt.ylabel('Accuracy vs Loss')\n",
    "plt.legend([\"Accuracy\", \"Loss\"], loc =\"center right\")"
   ]
  },
  {
   "cell_type": "markdown",
   "metadata": {},
   "source": [
    "#### Fitting the model to the training set as required to do."
   ]
  },
  {
   "cell_type": "code",
   "execution_count": 36,
   "metadata": {},
   "outputs": [
    {
     "name": "stdout",
     "output_type": "stream",
     "text": [
      "Epoch 1/20\n",
      "539/539 [==============================] - 14s 26ms/step - loss: 0.0310 - accuracy: 0.9918\n",
      "Epoch 2/20\n",
      "539/539 [==============================] - 14s 27ms/step - loss: 0.0219 - accuracy: 0.9954\n",
      "Epoch 3/20\n",
      "539/539 [==============================] - 15s 27ms/step - loss: 0.0154 - accuracy: 0.9985\n",
      "Epoch 4/20\n",
      "539/539 [==============================] - 14s 26ms/step - loss: 0.0170 - accuracy: 0.9975\n",
      "Epoch 5/20\n",
      "539/539 [==============================] - 14s 26ms/step - loss: 0.0144 - accuracy: 0.9985\n",
      "Epoch 6/20\n",
      "539/539 [==============================] - 14s 25ms/step - loss: 0.0383 - accuracy: 0.9893\n",
      "Epoch 7/20\n",
      "539/539 [==============================] - 14s 26ms/step - loss: 0.0140 - accuracy: 0.9988\n",
      "Epoch 8/20\n",
      "539/539 [==============================] - 15s 29ms/step - loss: 0.0170 - accuracy: 0.9972\n",
      "Epoch 9/20\n",
      "539/539 [==============================] - 14s 26ms/step - loss: 0.0204 - accuracy: 0.9965\n",
      "Epoch 10/20\n",
      "539/539 [==============================] - 14s 26ms/step - loss: 0.0356 - accuracy: 0.9892\n",
      "Epoch 11/20\n",
      "539/539 [==============================] - 14s 26ms/step - loss: 0.0105 - accuracy: 0.9994\n",
      "Epoch 12/20\n",
      "539/539 [==============================] - 14s 27ms/step - loss: 0.0103 - accuracy: 0.9992\n",
      "Epoch 13/20\n",
      "539/539 [==============================] - 14s 26ms/step - loss: 0.0237 - accuracy: 0.9943\n",
      "Epoch 14/20\n",
      "539/539 [==============================] - 14s 27ms/step - loss: 0.0216 - accuracy: 0.9949\n",
      "Epoch 15/20\n",
      "539/539 [==============================] - 16s 30ms/step - loss: 0.0080 - accuracy: 0.9999\n",
      "Epoch 16/20\n",
      "539/539 [==============================] - 14s 27ms/step - loss: 0.0124 - accuracy: 0.9981\n",
      "Epoch 17/20\n",
      "539/539 [==============================] - 14s 27ms/step - loss: 0.0370 - accuracy: 0.9916\n",
      "Epoch 18/20\n",
      "539/539 [==============================] - 14s 27ms/step - loss: 0.0083 - accuracy: 0.9994\n",
      "Epoch 19/20\n",
      "539/539 [==============================] - 16s 29ms/step - loss: 0.0066 - accuracy: 0.9999\n",
      "Epoch 20/20\n",
      "539/539 [==============================] - 15s 28ms/step - loss: 0.0219 - accuracy: 0.9954\n"
     ]
    },
    {
     "data": {
      "text/plain": [
       "<tensorflow.python.keras.callbacks.History at 0x7fb3d8576700>"
      ]
     },
     "execution_count": 36,
     "metadata": {},
     "output_type": "execute_result"
    }
   ],
   "source": [
    "model.fit([train_pairs[:, 0], train_pairs[:, 1]], train_labels,\n",
    "          batch_size=30,\n",
    "          epochs=20,\n",
    "          use_multiprocessing=True,\n",
    "          workers=8\n",
    "          )"
   ]
  },
  {
   "cell_type": "markdown",
   "metadata": {},
   "source": [
    "#### Predicting on the test set."
   ]
  },
  {
   "cell_type": "code",
   "execution_count": 37,
   "metadata": {},
   "outputs": [
    {
     "data": {
      "text/plain": [
       "array([[9.9995279e-01],\n",
       "       [9.9816054e-01],\n",
       "       [1.7902932e-01],\n",
       "       ...,\n",
       "       [2.7767110e-01],\n",
       "       [4.7187797e-05],\n",
       "       [5.2521817e-19]], dtype=float32)"
      ]
     },
     "execution_count": 37,
     "metadata": {},
     "output_type": "execute_result"
    }
   ],
   "source": [
    "pred = model.predict([test_pairs[:, 0], test_pairs[:, 1]])\n",
    "pred"
   ]
  },
  {
   "cell_type": "markdown",
   "metadata": {},
   "source": [
    "#### Plotting the histogra to see the ditribution of the predicted values"
   ]
  },
  {
   "cell_type": "code",
   "execution_count": 78,
   "metadata": {},
   "outputs": [
    {
     "data": {
      "text/plain": [
       "Text(0.5, 0, 'Labels')"
      ]
     },
     "execution_count": 78,
     "metadata": {},
     "output_type": "execute_result"
    },
    {
     "data": {
      "image/png": "[encoded data removed]",
      "text/plain": [
       "<Figure size 864x576 with 1 Axes>"
      ]
     },
     "metadata": {
      "needs_background": "light"
     },
     "output_type": "display_data"
    }
   ],
   "source": [
    "plt.hist(pred,color='orange')\n",
    "plt.ylabel('Count')\n",
    "plt.xlabel('Labels')"
   ]
  },
  {
   "cell_type": "markdown",
   "metadata": {},
   "source": [
    "#### As we can see here , most of the values are either near to 0 or 1 - which means our model is really good at predicting similar and dissimilar pairs"
   ]
  },
  {
   "cell_type": "code",
   "execution_count": 39,
   "metadata": {},
   "outputs": [
    {
     "name": "stdout",
     "output_type": "stream",
     "text": [
      "[[2693   35]\n",
      " [   4 1382]]\n",
      "              precision    recall  f1-score   support\n",
      "\n",
      "         0.0       1.00      0.99      0.99      2728\n",
      "         1.0       0.98      1.00      0.99      1386\n",
      "\n",
      "    accuracy                           0.99      4114\n",
      "   macro avg       0.99      0.99      0.99      4114\n",
      "weighted avg       0.99      0.99      0.99      4114\n",
      "\n"
     ]
    }
   ],
   "source": [
    "print(confusion_matrix(test_labels,pred.round()))\n",
    "print(classification_report(test_labels,pred.round()))"
   ]
  },
  {
   "cell_type": "markdown",
   "metadata": {},
   "source": [
    "#### As we can see here , the model is predicting with 99 % accurancy with recall and precision near to one."
   ]
  },
  {
   "cell_type": "markdown",
   "metadata": {},
   "source": [
    "##### Probably, our model is overfitted."
   ]
  }
 ],
 "metadata": {
  "kernelspec": {
   "display_name": "Python 3",
   "language": "python",
   "name": "python3"
  },
  "language_info": {
   "codemirror_mode": {
    "name": "ipython",
    "version": 3
   },
   "file_extension": ".py",
   "mimetype": "text/x-python",
   "name": "python",
   "nbconvert_exporter": "python",
   "pygments_lexer": "ipython3",
   "version": "3.8.2"
  }
 },
 "nbformat": 4,
 "nbformat_minor": 4
}
