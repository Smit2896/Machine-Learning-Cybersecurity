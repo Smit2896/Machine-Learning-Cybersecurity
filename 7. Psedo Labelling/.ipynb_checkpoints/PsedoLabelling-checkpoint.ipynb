{
 "cells": [
  {
   "cell_type": "markdown",
   "metadata": {},
   "source": [
    "## Pseudo Labelling using multiple supervised ML models"
   ]
  },
  {
   "cell_type": "code",
   "execution_count": 3,
   "metadata": {},
   "outputs": [],
   "source": [
    "# to handle datasets\n",
    "import pandas as pd\n",
    "import numpy as np\n",
    "\n",
    "# ignore warnings\n",
    "import warnings\n",
    "warnings.filterwarnings(\"ignore\")\n",
    "\n",
    "# for plotting\n",
    "import matplotlib.pyplot as plt\n",
    "\n",
    "# machine learning imports\n",
    "from sklearn.svm import LinearSVC, NuSVC \n",
    "from sklearn.linear_model import SGDClassifier\n",
    "from sklearn.neighbors import KNeighborsClassifier, NearestCentroid\n",
    "from sklearn.model_selection import train_test_split\n",
    "from sklearn.model_selection import cross_val_score\n",
    "from sklearn.preprocessing import LabelEncoder, StandardScaler\n",
    "from sklearn.metrics import mean_squared_error"
   ]
  },
  {
   "cell_type": "markdown",
   "metadata": {},
   "source": [
    "### Making list of all models"
   ]
  },
  {
   "cell_type": "code",
   "execution_count": 4,
   "metadata": {},
   "outputs": [],
   "source": [
    "models = [\n",
    "    NuSVC(),\n",
    "    LinearSVC(),\n",
    "    SGDClassifier(),\n",
    "    KNeighborsClassifier(),\n",
    "    NearestCentroid()\n",
    "]"
   ]
  },
  {
   "cell_type": "code",
   "execution_count": 5,
   "metadata": {},
   "outputs": [
    {
     "name": "stdout",
     "output_type": "stream",
     "text": [
      "(1500, 6)\n",
      "(41777, 5)\n"
     ]
    },
    {
     "data": {
      "text/html": [
       "<div>\n",
       "<style scoped>\n",
       "    .dataframe tbody tr th:only-of-type {\n",
       "        vertical-align: middle;\n",
       "    }\n",
       "\n",
       "    .dataframe tbody tr th {\n",
       "        vertical-align: top;\n",
       "    }\n",
       "\n",
       "    .dataframe thead th {\n",
       "        text-align: right;\n",
       "    }\n",
       "</style>\n",
       "<table border=\"1\" class=\"dataframe\">\n",
       "  <thead>\n",
       "    <tr style=\"text-align: right;\">\n",
       "      <th></th>\n",
       "      <th>hash</th>\n",
       "      <th>size_of_data</th>\n",
       "      <th>virtual_address</th>\n",
       "      <th>entropy</th>\n",
       "      <th>virtual_size</th>\n",
       "      <th>malware</th>\n",
       "    </tr>\n",
       "  </thead>\n",
       "  <tbody>\n",
       "    <tr>\n",
       "      <th>0</th>\n",
       "      <td>071e8c3f8922e186e57548cd4c703a5d</td>\n",
       "      <td>443392</td>\n",
       "      <td>4096</td>\n",
       "      <td>6.529624</td>\n",
       "      <td>442984</td>\n",
       "      <td>1</td>\n",
       "    </tr>\n",
       "    <tr>\n",
       "      <th>1</th>\n",
       "      <td>33f8e6d08a6aae939f25a8e0d63dd523</td>\n",
       "      <td>331264</td>\n",
       "      <td>4096</td>\n",
       "      <td>6.604314</td>\n",
       "      <td>330784</td>\n",
       "      <td>1</td>\n",
       "    </tr>\n",
       "    <tr>\n",
       "      <th>2</th>\n",
       "      <td>b68abd064e975e1c6d5f25e748663076</td>\n",
       "      <td>74240</td>\n",
       "      <td>4096</td>\n",
       "      <td>6.046789</td>\n",
       "      <td>73819</td>\n",
       "      <td>1</td>\n",
       "    </tr>\n",
       "    <tr>\n",
       "      <th>3</th>\n",
       "      <td>72049be7bd30ea61297ea624ae198067</td>\n",
       "      <td>219648</td>\n",
       "      <td>4096</td>\n",
       "      <td>6.497018</td>\n",
       "      <td>219524</td>\n",
       "      <td>1</td>\n",
       "    </tr>\n",
       "    <tr>\n",
       "      <th>4</th>\n",
       "      <td>c9b3700a77facf29172f32df6bc77f48</td>\n",
       "      <td>262144</td>\n",
       "      <td>4096</td>\n",
       "      <td>6.638142</td>\n",
       "      <td>261943</td>\n",
       "      <td>1</td>\n",
       "    </tr>\n",
       "  </tbody>\n",
       "</table>\n",
       "</div>"
      ],
      "text/plain": [
       "                               hash  size_of_data  virtual_address   entropy  \\\n",
       "0  071e8c3f8922e186e57548cd4c703a5d        443392             4096  6.529624   \n",
       "1  33f8e6d08a6aae939f25a8e0d63dd523        331264             4096  6.604314   \n",
       "2  b68abd064e975e1c6d5f25e748663076         74240             4096  6.046789   \n",
       "3  72049be7bd30ea61297ea624ae198067        219648             4096  6.497018   \n",
       "4  c9b3700a77facf29172f32df6bc77f48        262144             4096  6.638142   \n",
       "\n",
       "   virtual_size  malware  \n",
       "0        442984        1  \n",
       "1        330784        1  \n",
       "2         73819        1  \n",
       "3        219524        1  \n",
       "4        261943        1  "
      ]
     },
     "execution_count": 5,
     "metadata": {},
     "output_type": "execute_result"
    }
   ],
   "source": [
    "# load dataset\n",
    "labelled_data = pd.read_csv('dataset_labeled.csv')\n",
    "unlabelled_data = pd.read_csv('dataset_unlabeled.csv')\n",
    "\n",
    "# rows and columns of the data\n",
    "print(labelled_data.shape)\n",
    "print(unlabelled_data.shape)\n",
    "\n",
    "# visualise the dataset\n",
    "labelled_data.head()"
   ]
  },
  {
   "cell_type": "code",
   "execution_count": 6,
   "metadata": {},
   "outputs": [
    {
     "data": {
      "text/html": [
       "<div>\n",
       "<style scoped>\n",
       "    .dataframe tbody tr th:only-of-type {\n",
       "        vertical-align: middle;\n",
       "    }\n",
       "\n",
       "    .dataframe tbody tr th {\n",
       "        vertical-align: top;\n",
       "    }\n",
       "\n",
       "    .dataframe thead th {\n",
       "        text-align: right;\n",
       "    }\n",
       "</style>\n",
       "<table border=\"1\" class=\"dataframe\">\n",
       "  <thead>\n",
       "    <tr style=\"text-align: right;\">\n",
       "      <th></th>\n",
       "      <th>size_of_data</th>\n",
       "      <th>virtual_address</th>\n",
       "      <th>entropy</th>\n",
       "      <th>virtual_size</th>\n",
       "      <th>malware</th>\n",
       "    </tr>\n",
       "  </thead>\n",
       "  <tbody>\n",
       "    <tr>\n",
       "      <th>count</th>\n",
       "      <td>1.500000e+03</td>\n",
       "      <td>1.500000e+03</td>\n",
       "      <td>1500.000000</td>\n",
       "      <td>1.500000e+03</td>\n",
       "      <td>1500.000000</td>\n",
       "    </tr>\n",
       "    <tr>\n",
       "      <th>mean</th>\n",
       "      <td>7.132054e+05</td>\n",
       "      <td>5.543253e+03</td>\n",
       "      <td>6.353871</td>\n",
       "      <td>7.130720e+05</td>\n",
       "      <td>0.333333</td>\n",
       "    </tr>\n",
       "    <tr>\n",
       "      <th>std</th>\n",
       "      <td>2.568605e+06</td>\n",
       "      <td>3.117316e+04</td>\n",
       "      <td>0.546324</td>\n",
       "      <td>2.568588e+06</td>\n",
       "      <td>0.471562</td>\n",
       "    </tr>\n",
       "    <tr>\n",
       "      <th>min</th>\n",
       "      <td>1.024000e+03</td>\n",
       "      <td>4.096000e+03</td>\n",
       "      <td>0.650292</td>\n",
       "      <td>9.000000e+02</td>\n",
       "      <td>0.000000</td>\n",
       "    </tr>\n",
       "    <tr>\n",
       "      <th>25%</th>\n",
       "      <td>2.867200e+04</td>\n",
       "      <td>4.096000e+03</td>\n",
       "      <td>6.262846</td>\n",
       "      <td>2.843200e+04</td>\n",
       "      <td>0.000000</td>\n",
       "    </tr>\n",
       "    <tr>\n",
       "      <th>50%</th>\n",
       "      <td>1.031680e+05</td>\n",
       "      <td>4.096000e+03</td>\n",
       "      <td>6.497885</td>\n",
       "      <td>1.028400e+05</td>\n",
       "      <td>0.000000</td>\n",
       "    </tr>\n",
       "    <tr>\n",
       "      <th>75%</th>\n",
       "      <td>4.433920e+05</td>\n",
       "      <td>4.096000e+03</td>\n",
       "      <td>6.581666</td>\n",
       "      <td>4.429840e+05</td>\n",
       "      <td>1.000000</td>\n",
       "    </tr>\n",
       "    <tr>\n",
       "      <th>max</th>\n",
       "      <td>5.296282e+07</td>\n",
       "      <td>1.159168e+06</td>\n",
       "      <td>7.999813</td>\n",
       "      <td>5.296252e+07</td>\n",
       "      <td>1.000000</td>\n",
       "    </tr>\n",
       "  </tbody>\n",
       "</table>\n",
       "</div>"
      ],
      "text/plain": [
       "       size_of_data  virtual_address      entropy  virtual_size      malware\n",
       "count  1.500000e+03     1.500000e+03  1500.000000  1.500000e+03  1500.000000\n",
       "mean   7.132054e+05     5.543253e+03     6.353871  7.130720e+05     0.333333\n",
       "std    2.568605e+06     3.117316e+04     0.546324  2.568588e+06     0.471562\n",
       "min    1.024000e+03     4.096000e+03     0.650292  9.000000e+02     0.000000\n",
       "25%    2.867200e+04     4.096000e+03     6.262846  2.843200e+04     0.000000\n",
       "50%    1.031680e+05     4.096000e+03     6.497885  1.028400e+05     0.000000\n",
       "75%    4.433920e+05     4.096000e+03     6.581666  4.429840e+05     1.000000\n",
       "max    5.296282e+07     1.159168e+06     7.999813  5.296252e+07     1.000000"
      ]
     },
     "execution_count": 6,
     "metadata": {},
     "output_type": "execute_result"
    }
   ],
   "source": [
    "labelled_data.describe()"
   ]
  },
  {
   "cell_type": "code",
   "execution_count": 7,
   "metadata": {},
   "outputs": [
    {
     "name": "stdout",
     "output_type": "stream",
     "text": [
      "<class 'pandas.core.frame.DataFrame'>\n",
      "RangeIndex: 1500 entries, 0 to 1499\n",
      "Data columns (total 6 columns):\n",
      " #   Column           Non-Null Count  Dtype  \n",
      "---  ------           --------------  -----  \n",
      " 0   hash             1500 non-null   object \n",
      " 1   size_of_data     1500 non-null   int64  \n",
      " 2   virtual_address  1500 non-null   int64  \n",
      " 3   entropy          1500 non-null   float64\n",
      " 4   virtual_size     1500 non-null   int64  \n",
      " 5   malware          1500 non-null   int64  \n",
      "dtypes: float64(1), int64(4), object(1)\n",
      "memory usage: 70.4+ KB\n"
     ]
    }
   ],
   "source": [
    "labelled_data.info()"
   ]
  },
  {
   "cell_type": "code",
   "execution_count": 8,
   "metadata": {},
   "outputs": [
    {
     "name": "stdout",
     "output_type": "stream",
     "text": [
      "hash   1484\n",
      "size_of_data   661\n",
      "virtual_address   11\n",
      "entropy   1079\n",
      "virtual_size   1058\n",
      "malware   2\n"
     ]
    }
   ],
   "source": [
    "for column in labelled_data.columns:\n",
    "    print(column,\" \",labelled_data[column].nunique())"
   ]
  },
  {
   "cell_type": "markdown",
   "metadata": {},
   "source": [
    "### Encoding the Categorial data "
   ]
  },
  {
   "cell_type": "code",
   "execution_count": 9,
   "metadata": {},
   "outputs": [],
   "source": [
    "le = LabelEncoder()"
   ]
  },
  {
   "cell_type": "code",
   "execution_count": 10,
   "metadata": {},
   "outputs": [
    {
     "data": {
      "text/html": [
       "<div>\n",
       "<style scoped>\n",
       "    .dataframe tbody tr th:only-of-type {\n",
       "        vertical-align: middle;\n",
       "    }\n",
       "\n",
       "    .dataframe tbody tr th {\n",
       "        vertical-align: top;\n",
       "    }\n",
       "\n",
       "    .dataframe thead th {\n",
       "        text-align: right;\n",
       "    }\n",
       "</style>\n",
       "<table border=\"1\" class=\"dataframe\">\n",
       "  <thead>\n",
       "    <tr style=\"text-align: right;\">\n",
       "      <th></th>\n",
       "      <th>hash</th>\n",
       "      <th>size_of_data</th>\n",
       "      <th>virtual_address</th>\n",
       "      <th>entropy</th>\n",
       "      <th>virtual_size</th>\n",
       "      <th>malware</th>\n",
       "    </tr>\n",
       "  </thead>\n",
       "  <tbody>\n",
       "    <tr>\n",
       "      <th>0</th>\n",
       "      <td>34</td>\n",
       "      <td>443392</td>\n",
       "      <td>4096</td>\n",
       "      <td>6.529624</td>\n",
       "      <td>442984</td>\n",
       "      <td>1</td>\n",
       "    </tr>\n",
       "    <tr>\n",
       "      <th>1</th>\n",
       "      <td>293</td>\n",
       "      <td>331264</td>\n",
       "      <td>4096</td>\n",
       "      <td>6.604314</td>\n",
       "      <td>330784</td>\n",
       "      <td>1</td>\n",
       "    </tr>\n",
       "    <tr>\n",
       "      <th>2</th>\n",
       "      <td>1076</td>\n",
       "      <td>74240</td>\n",
       "      <td>4096</td>\n",
       "      <td>6.046789</td>\n",
       "      <td>73819</td>\n",
       "      <td>1</td>\n",
       "    </tr>\n",
       "    <tr>\n",
       "      <th>3</th>\n",
       "      <td>647</td>\n",
       "      <td>219648</td>\n",
       "      <td>4096</td>\n",
       "      <td>6.497018</td>\n",
       "      <td>219524</td>\n",
       "      <td>1</td>\n",
       "    </tr>\n",
       "    <tr>\n",
       "      <th>4</th>\n",
       "      <td>1179</td>\n",
       "      <td>262144</td>\n",
       "      <td>4096</td>\n",
       "      <td>6.638142</td>\n",
       "      <td>261943</td>\n",
       "      <td>1</td>\n",
       "    </tr>\n",
       "  </tbody>\n",
       "</table>\n",
       "</div>"
      ],
      "text/plain": [
       "   hash  size_of_data  virtual_address   entropy  virtual_size  malware\n",
       "0    34        443392             4096  6.529624        442984        1\n",
       "1   293        331264             4096  6.604314        330784        1\n",
       "2  1076         74240             4096  6.046789         73819        1\n",
       "3   647        219648             4096  6.497018        219524        1\n",
       "4  1179        262144             4096  6.638142        261943        1"
      ]
     },
     "execution_count": 10,
     "metadata": {},
     "output_type": "execute_result"
    }
   ],
   "source": [
    "le.fit(labelled_data['hash'])\n",
    "labelled_data['hash']= le.transform(labelled_data['hash'])\n",
    "\n",
    "\n",
    "le.fit(unlabelled_data['hash'])\n",
    "unlabelled_data['hash']= le.transform(unlabelled_data['hash'])\n",
    "\n",
    "labelled_data.head()"
   ]
  },
  {
   "cell_type": "code",
   "execution_count": 11,
   "metadata": {},
   "outputs": [
    {
     "data": {
      "text/html": [
       "<div>\n",
       "<style scoped>\n",
       "    .dataframe tbody tr th:only-of-type {\n",
       "        vertical-align: middle;\n",
       "    }\n",
       "\n",
       "    .dataframe tbody tr th {\n",
       "        vertical-align: top;\n",
       "    }\n",
       "\n",
       "    .dataframe thead th {\n",
       "        text-align: right;\n",
       "    }\n",
       "</style>\n",
       "<table border=\"1\" class=\"dataframe\">\n",
       "  <thead>\n",
       "    <tr style=\"text-align: right;\">\n",
       "      <th></th>\n",
       "      <th>hash</th>\n",
       "      <th>size_of_data</th>\n",
       "      <th>virtual_address</th>\n",
       "      <th>entropy</th>\n",
       "      <th>virtual_size</th>\n",
       "    </tr>\n",
       "  </thead>\n",
       "  <tbody>\n",
       "    <tr>\n",
       "      <th>0</th>\n",
       "      <td>25400</td>\n",
       "      <td>63488</td>\n",
       "      <td>4096</td>\n",
       "      <td>6.636500</td>\n",
       "      <td>63195</td>\n",
       "    </tr>\n",
       "    <tr>\n",
       "      <th>1</th>\n",
       "      <td>15547</td>\n",
       "      <td>87040</td>\n",
       "      <td>4096</td>\n",
       "      <td>6.584123</td>\n",
       "      <td>86944</td>\n",
       "    </tr>\n",
       "    <tr>\n",
       "      <th>2</th>\n",
       "      <td>36607</td>\n",
       "      <td>25600</td>\n",
       "      <td>4096</td>\n",
       "      <td>6.468836</td>\n",
       "      <td>25494</td>\n",
       "    </tr>\n",
       "    <tr>\n",
       "      <th>3</th>\n",
       "      <td>21334</td>\n",
       "      <td>733184</td>\n",
       "      <td>4096</td>\n",
       "      <td>6.665506</td>\n",
       "      <td>732799</td>\n",
       "    </tr>\n",
       "    <tr>\n",
       "      <th>4</th>\n",
       "      <td>32238</td>\n",
       "      <td>1196032</td>\n",
       "      <td>4096</td>\n",
       "      <td>6.655021</td>\n",
       "      <td>1195949</td>\n",
       "    </tr>\n",
       "  </tbody>\n",
       "</table>\n",
       "</div>"
      ],
      "text/plain": [
       "    hash  size_of_data  virtual_address   entropy  virtual_size\n",
       "0  25400         63488             4096  6.636500         63195\n",
       "1  15547         87040             4096  6.584123         86944\n",
       "2  36607         25600             4096  6.468836         25494\n",
       "3  21334        733184             4096  6.665506        732799\n",
       "4  32238       1196032             4096  6.655021       1195949"
      ]
     },
     "execution_count": 11,
     "metadata": {},
     "output_type": "execute_result"
    }
   ],
   "source": [
    "unlabelled_data.head()"
   ]
  },
  {
   "cell_type": "markdown",
   "metadata": {},
   "source": [
    "### Evaulating the Performance of all the Models"
   ]
  },
  {
   "cell_type": "markdown",
   "metadata": {},
   "source": [
    "Including 5-fold cross validation"
   ]
  },
  {
   "cell_type": "code",
   "execution_count": 12,
   "metadata": {},
   "outputs": [
    {
     "name": "stdout",
     "output_type": "stream",
     "text": [
      "NuSVC                     CV-5 RMSE:  0.603 (+/- 0.195)\n",
      "LinearSVC                 CV-5 RMSE:  0.610 (+/- 0.169)\n",
      "SGDClassifier             CV-5 RMSE:  0.777 (+/- 0.270)\n",
      "KNeighborsClassifier      CV-5 RMSE:  0.481 (+/- 0.025)\n",
      "NearestCentroid           CV-5 RMSE:  0.757 (+/- 0.221)\n",
      "CPU times: user 550 ms, sys: 86.6 ms, total: 637 ms\n",
      "Wall time: 1.69 s\n"
     ]
    }
   ],
   "source": [
    "%%time\n",
    "\n",
    "X_train, X_test, y_train, y_test = train_test_split(labelled_data.iloc[:,:-1],\n",
    "                                                    labelled_data.iloc[:,-1], test_size=0.20, random_state=42)\n",
    "    \n",
    "for model in models:\n",
    "    model.seed = 101\n",
    "    num_folds = 5\n",
    "    scores = cross_val_score(model, X_train, y_train, cv=num_folds, scoring='neg_mean_squared_error')\n",
    "    score_description = \" {:04.3f} (+/- {:04.3f})\".format((np.sqrt(scores.mean()*-1)), (scores.std() * 2))\n",
    "    \n",
    "    print('{model:25} CV-5 RMSE: {score}'.format(model=model.__class__.__name__, score=score_description))\n",
    "    "
   ]
  },
  {
   "cell_type": "markdown",
   "metadata": {},
   "source": [
    "### Pseudo Labelling "
   ]
  },
  {
   "cell_type": "code",
   "execution_count": 13,
   "metadata": {},
   "outputs": [
    {
     "name": "stdout",
     "output_type": "stream",
     "text": [
      "NuSVC                     CV-5 RMSE:  0.290 (+/- 0.006)\n",
      "LinearSVC                 CV-5 RMSE:  0.334 (+/- 0.153)\n",
      "SGDClassifier             CV-5 RMSE:  0.131 (+/- 0.005)\n",
      "KNeighborsClassifier      CV-5 RMSE:  0.155 (+/- 0.003)\n",
      "NearestCentroid           CV-5 RMSE:  0.243 (+/- 0.004)\n",
      "CPU times: user 2min 15s, sys: 2.33 s, total: 2min 17s\n",
      "Wall time: 2min 15s\n"
     ]
    }
   ],
   "source": [
    "%%time\n",
    "\n",
    "x_train = labelled_data.iloc[:,:-1]\n",
    "y_train = labelled_data.iloc[:,-1]\n",
    "x_unlabeled = unlabelled_data\n",
    "\n",
    "for model in models:\n",
    "    model.seed = 101\n",
    "    num_folds = 5\n",
    "    model.fit(x_train, y_train)\n",
    "    y_unlabeled = model.predict(x_unlabeled)\n",
    "    y_unlabeled = pd.DataFrame(y_unlabeled, columns = ['Type'])\n",
    "    seudo_labeled_data = unlabelled_data.join(y_unlabeled)\n",
    "    seudo_labeled_data = seudo_labeled_data.fillna(0)\n",
    "    x_merged = x_train.append(seudo_labeled_data.iloc[:,:-1])\n",
    "    y_merged = y_train.append(seudo_labeled_data.iloc[:,-1])\n",
    "    scores = cross_val_score(model, x_merged.sample(frac=1,random_state=101), y_merged.sample(frac=1,random_state=101), cv=num_folds, scoring='neg_mean_squared_error')\n",
    "    score_description = \" {:04.3f} (+/- {:04.3f})\".format((np.sqrt(scores.mean()*-1)), (scores.std() * 2))\n",
    "    print(\"{model:25} CV-5 RMSE: {score}\".format(model=model.__class__.__name__, score=score_description))"
   ]
  }
 ],
 "metadata": {
  "kernelspec": {
   "display_name": "Python 3",
   "language": "python",
   "name": "python3"
  },
  "language_info": {
   "codemirror_mode": {
    "name": "ipython",
    "version": 3
   },
   "file_extension": ".py",
   "mimetype": "text/x-python",
   "name": "python",
   "nbconvert_exporter": "python",
   "pygments_lexer": "ipython3",
   "version": "3.8.2"
  }
 },
 "nbformat": 4,
 "nbformat_minor": 4
}
