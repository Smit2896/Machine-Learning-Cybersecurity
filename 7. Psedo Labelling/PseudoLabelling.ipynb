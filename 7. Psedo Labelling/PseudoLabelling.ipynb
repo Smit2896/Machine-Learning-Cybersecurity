{
 "cells": [
  {
   "cell_type": "markdown",
   "metadata": {},
   "source": [
    "## Pseudo Labelling using multiple supervised ML models"
   ]
  },
  {
   "cell_type": "code",
   "execution_count": 2,
   "metadata": {},
   "outputs": [],
   "source": [
    "# to handle datasets\n",
    "import pandas as pd\n",
    "import numpy as np\n",
    "\n",
    "# ignore warnings\n",
    "import warnings\n",
    "warnings.filterwarnings(\"ignore\")\n",
    "\n",
    "# machine learning imports\n",
    "from sklearn.svm import LinearSVC, NuSVC \n",
    "from sklearn.linear_model import SGDClassifier\n",
    "from sklearn.neighbors import KNeighborsClassifier, NearestCentroid\n",
    "from sklearn.model_selection import train_test_split\n",
    "from sklearn.model_selection import cross_val_score\n",
    "from sklearn.preprocessing import LabelEncoder, StandardScaler\n",
    "from sklearn.metrics import mean_squared_error"
   ]
  },
  {
   "cell_type": "markdown",
   "metadata": {},
   "source": [
    "### Making list of all models"
   ]
  },
  {
   "cell_type": "code",
   "execution_count": 3,
   "metadata": {},
   "outputs": [],
   "source": [
    "models = [\n",
    "    NuSVC(),\n",
    "    LinearSVC(),\n",
    "    SGDClassifier(),\n",
    "    KNeighborsClassifier(),\n",
    "    NearestCentroid()\n",
    "]"
   ]
  },
  {
   "cell_type": "code",
   "execution_count": 4,
   "metadata": {},
   "outputs": [
    {
     "name": "stdout",
     "output_type": "stream",
     "text": [
      "(1500, 6)\n",
      "(41777, 5)\n"
     ]
    },
    {
     "data": {
      "text/html": [
       "<div>\n",
       "<style scoped>\n",
       "    .dataframe tbody tr th:only-of-type {\n",
       "        vertical-align: middle;\n",
       "    }\n",
       "\n",
       "    .dataframe tbody tr th {\n",
       "        vertical-align: top;\n",
       "    }\n",
       "\n",
       "    .dataframe thead th {\n",
       "        text-align: right;\n",
       "    }\n",
       "</style>\n",
       "<table border=\"1\" class=\"dataframe\">\n",
       "  <thead>\n",
       "    <tr style=\"text-align: right;\">\n",
       "      <th></th>\n",
       "      <th>hash</th>\n",
       "      <th>size_of_data</th>\n",
       "      <th>virtual_address</th>\n",
       "      <th>entropy</th>\n",
       "      <th>virtual_size</th>\n",
       "      <th>malware</th>\n",
       "    </tr>\n",
       "  </thead>\n",
       "  <tbody>\n",
       "    <tr>\n",
       "      <th>0</th>\n",
       "      <td>071e8c3f8922e186e57548cd4c703a5d</td>\n",
       "      <td>443392</td>\n",
       "      <td>4096</td>\n",
       "      <td>6.529624</td>\n",
       "      <td>442984</td>\n",
       "      <td>1</td>\n",
       "    </tr>\n",
       "    <tr>\n",
       "      <th>1</th>\n",
       "      <td>33f8e6d08a6aae939f25a8e0d63dd523</td>\n",
       "      <td>331264</td>\n",
       "      <td>4096</td>\n",
       "      <td>6.604314</td>\n",
       "      <td>330784</td>\n",
       "      <td>1</td>\n",
       "    </tr>\n",
       "    <tr>\n",
       "      <th>2</th>\n",
       "      <td>b68abd064e975e1c6d5f25e748663076</td>\n",
       "      <td>74240</td>\n",
       "      <td>4096</td>\n",
       "      <td>6.046789</td>\n",
       "      <td>73819</td>\n",
       "      <td>1</td>\n",
       "    </tr>\n",
       "    <tr>\n",
       "      <th>3</th>\n",
       "      <td>72049be7bd30ea61297ea624ae198067</td>\n",
       "      <td>219648</td>\n",
       "      <td>4096</td>\n",
       "      <td>6.497018</td>\n",
       "      <td>219524</td>\n",
       "      <td>1</td>\n",
       "    </tr>\n",
       "    <tr>\n",
       "      <th>4</th>\n",
       "      <td>c9b3700a77facf29172f32df6bc77f48</td>\n",
       "      <td>262144</td>\n",
       "      <td>4096</td>\n",
       "      <td>6.638142</td>\n",
       "      <td>261943</td>\n",
       "      <td>1</td>\n",
       "    </tr>\n",
       "  </tbody>\n",
       "</table>\n",
       "</div>"
      ],
      "text/plain": [
       "                               hash  size_of_data  virtual_address   entropy  \\\n",
       "0  071e8c3f8922e186e57548cd4c703a5d        443392             4096  6.529624   \n",
       "1  33f8e6d08a6aae939f25a8e0d63dd523        331264             4096  6.604314   \n",
       "2  b68abd064e975e1c6d5f25e748663076         74240             4096  6.046789   \n",
       "3  72049be7bd30ea61297ea624ae198067        219648             4096  6.497018   \n",
       "4  c9b3700a77facf29172f32df6bc77f48        262144             4096  6.638142   \n",
       "\n",
       "   virtual_size  malware  \n",
       "0        442984        1  \n",
       "1        330784        1  \n",
       "2         73819        1  \n",
       "3        219524        1  \n",
       "4        261943        1  "
      ]
     },
     "execution_count": 4,
     "metadata": {},
     "output_type": "execute_result"
    }
   ],
   "source": [
    "# load dataset\n",
    "labelled_data = pd.read_csv('dataset_labeled.csv')\n",
    "unlabelled_data = pd.read_csv('dataset_unlabeled.csv')\n",
    "\n",
    "# rows and columns of the data\n",
    "print(labelled_data.shape)\n",
    "print(unlabelled_data.shape)\n",
    "\n",
    "# visualise the dataset\n",
    "labelled_data.head()"
   ]
  },
  {
   "cell_type": "code",
   "execution_count": 7,
   "metadata": {},
   "outputs": [
    {
     "data": {
      "text/plain": [
       "hash               41660\n",
       "size_of_data        2506\n",
       "virtual_address      128\n",
       "entropy            16671\n",
       "virtual_size       10906\n",
       "dtype: int64"
      ]
     },
     "execution_count": 7,
     "metadata": {},
     "output_type": "execute_result"
    }
   ],
   "source": [
    "unlabelled_data.nunique()"
   ]
  },
  {
   "cell_type": "code",
   "execution_count": 4,
   "metadata": {},
   "outputs": [
    {
     "data": {
      "text/html": [
       "<div>\n",
       "<style scoped>\n",
       "    .dataframe tbody tr th:only-of-type {\n",
       "        vertical-align: middle;\n",
       "    }\n",
       "\n",
       "    .dataframe tbody tr th {\n",
       "        vertical-align: top;\n",
       "    }\n",
       "\n",
       "    .dataframe thead th {\n",
       "        text-align: right;\n",
       "    }\n",
       "</style>\n",
       "<table border=\"1\" class=\"dataframe\">\n",
       "  <thead>\n",
       "    <tr style=\"text-align: right;\">\n",
       "      <th></th>\n",
       "      <th>hash</th>\n",
       "      <th>size_of_data</th>\n",
       "      <th>virtual_address</th>\n",
       "      <th>entropy</th>\n",
       "      <th>virtual_size</th>\n",
       "    </tr>\n",
       "  </thead>\n",
       "  <tbody>\n",
       "    <tr>\n",
       "      <th>0</th>\n",
       "      <td>a4f7d238f59c6ea07159a83182f86538</td>\n",
       "      <td>63488</td>\n",
       "      <td>4096</td>\n",
       "      <td>6.636500</td>\n",
       "      <td>63195</td>\n",
       "    </tr>\n",
       "    <tr>\n",
       "      <th>1</th>\n",
       "      <td>64fe3cc06265bca6cc175cecfc16fc2e</td>\n",
       "      <td>87040</td>\n",
       "      <td>4096</td>\n",
       "      <td>6.584123</td>\n",
       "      <td>86944</td>\n",
       "    </tr>\n",
       "    <tr>\n",
       "      <th>2</th>\n",
       "      <td>e06686752e033aff3198ff10e47b3bd3</td>\n",
       "      <td>25600</td>\n",
       "      <td>4096</td>\n",
       "      <td>6.468836</td>\n",
       "      <td>25494</td>\n",
       "    </tr>\n",
       "    <tr>\n",
       "      <th>3</th>\n",
       "      <td>8be9ad3cbe9c0da179466393583c486e</td>\n",
       "      <td>733184</td>\n",
       "      <td>4096</td>\n",
       "      <td>6.665506</td>\n",
       "      <td>732799</td>\n",
       "    </tr>\n",
       "    <tr>\n",
       "      <th>4</th>\n",
       "      <td>c6830efb14d4f80e1ba6a9e56d05bce6</td>\n",
       "      <td>1196032</td>\n",
       "      <td>4096</td>\n",
       "      <td>6.655021</td>\n",
       "      <td>1195949</td>\n",
       "    </tr>\n",
       "    <tr>\n",
       "      <th>5</th>\n",
       "      <td>1325d315f2ddbc2acc79a95d07ef41f2</td>\n",
       "      <td>48128</td>\n",
       "      <td>4096</td>\n",
       "      <td>6.661043</td>\n",
       "      <td>47981</td>\n",
       "    </tr>\n",
       "    <tr>\n",
       "      <th>6</th>\n",
       "      <td>9522b650e9eed6134d72e1720d1d7724</td>\n",
       "      <td>244224</td>\n",
       "      <td>4096</td>\n",
       "      <td>6.564004</td>\n",
       "      <td>244109</td>\n",
       "    </tr>\n",
       "    <tr>\n",
       "      <th>7</th>\n",
       "      <td>38eba210348b73a609f891d67ab50557</td>\n",
       "      <td>262144</td>\n",
       "      <td>4096</td>\n",
       "      <td>6.638142</td>\n",
       "      <td>261943</td>\n",
       "    </tr>\n",
       "    <tr>\n",
       "      <th>8</th>\n",
       "      <td>c8408030aa41b72d7a466fabde262ebe</td>\n",
       "      <td>198144</td>\n",
       "      <td>4096</td>\n",
       "      <td>6.615477</td>\n",
       "      <td>197905</td>\n",
       "    </tr>\n",
       "    <tr>\n",
       "      <th>9</th>\n",
       "      <td>028e30f7b50fd2ab2cd9df91cd3fd66d</td>\n",
       "      <td>120320</td>\n",
       "      <td>4096</td>\n",
       "      <td>6.583415</td>\n",
       "      <td>120079</td>\n",
       "    </tr>\n",
       "  </tbody>\n",
       "</table>\n",
       "</div>"
      ],
      "text/plain": [
       "                               hash  size_of_data  virtual_address   entropy  \\\n",
       "0  a4f7d238f59c6ea07159a83182f86538         63488             4096  6.636500   \n",
       "1  64fe3cc06265bca6cc175cecfc16fc2e         87040             4096  6.584123   \n",
       "2  e06686752e033aff3198ff10e47b3bd3         25600             4096  6.468836   \n",
       "3  8be9ad3cbe9c0da179466393583c486e        733184             4096  6.665506   \n",
       "4  c6830efb14d4f80e1ba6a9e56d05bce6       1196032             4096  6.655021   \n",
       "5  1325d315f2ddbc2acc79a95d07ef41f2         48128             4096  6.661043   \n",
       "6  9522b650e9eed6134d72e1720d1d7724        244224             4096  6.564004   \n",
       "7  38eba210348b73a609f891d67ab50557        262144             4096  6.638142   \n",
       "8  c8408030aa41b72d7a466fabde262ebe        198144             4096  6.615477   \n",
       "9  028e30f7b50fd2ab2cd9df91cd3fd66d        120320             4096  6.583415   \n",
       "\n",
       "   virtual_size  \n",
       "0         63195  \n",
       "1         86944  \n",
       "2         25494  \n",
       "3        732799  \n",
       "4       1195949  \n",
       "5         47981  \n",
       "6        244109  \n",
       "7        261943  \n",
       "8        197905  \n",
       "9        120079  "
      ]
     },
     "execution_count": 4,
     "metadata": {},
     "output_type": "execute_result"
    }
   ],
   "source": [
    "unlabelled_data.head(10)"
   ]
  },
  {
   "cell_type": "code",
   "execution_count": 5,
   "metadata": {},
   "outputs": [
    {
     "data": {
      "text/html": [
       "<div>\n",
       "<style scoped>\n",
       "    .dataframe tbody tr th:only-of-type {\n",
       "        vertical-align: middle;\n",
       "    }\n",
       "\n",
       "    .dataframe tbody tr th {\n",
       "        vertical-align: top;\n",
       "    }\n",
       "\n",
       "    .dataframe thead th {\n",
       "        text-align: right;\n",
       "    }\n",
       "</style>\n",
       "<table border=\"1\" class=\"dataframe\">\n",
       "  <thead>\n",
       "    <tr style=\"text-align: right;\">\n",
       "      <th></th>\n",
       "      <th>size_of_data</th>\n",
       "      <th>virtual_address</th>\n",
       "      <th>entropy</th>\n",
       "      <th>virtual_size</th>\n",
       "      <th>malware</th>\n",
       "    </tr>\n",
       "  </thead>\n",
       "  <tbody>\n",
       "    <tr>\n",
       "      <th>count</th>\n",
       "      <td>1.500000e+03</td>\n",
       "      <td>1.500000e+03</td>\n",
       "      <td>1500.000000</td>\n",
       "      <td>1.500000e+03</td>\n",
       "      <td>1500.000000</td>\n",
       "    </tr>\n",
       "    <tr>\n",
       "      <th>mean</th>\n",
       "      <td>7.132054e+05</td>\n",
       "      <td>5.543253e+03</td>\n",
       "      <td>6.353871</td>\n",
       "      <td>7.130720e+05</td>\n",
       "      <td>0.333333</td>\n",
       "    </tr>\n",
       "    <tr>\n",
       "      <th>std</th>\n",
       "      <td>2.568605e+06</td>\n",
       "      <td>3.117316e+04</td>\n",
       "      <td>0.546324</td>\n",
       "      <td>2.568588e+06</td>\n",
       "      <td>0.471562</td>\n",
       "    </tr>\n",
       "    <tr>\n",
       "      <th>min</th>\n",
       "      <td>1.024000e+03</td>\n",
       "      <td>4.096000e+03</td>\n",
       "      <td>0.650292</td>\n",
       "      <td>9.000000e+02</td>\n",
       "      <td>0.000000</td>\n",
       "    </tr>\n",
       "    <tr>\n",
       "      <th>25%</th>\n",
       "      <td>2.867200e+04</td>\n",
       "      <td>4.096000e+03</td>\n",
       "      <td>6.262846</td>\n",
       "      <td>2.843200e+04</td>\n",
       "      <td>0.000000</td>\n",
       "    </tr>\n",
       "    <tr>\n",
       "      <th>50%</th>\n",
       "      <td>1.031680e+05</td>\n",
       "      <td>4.096000e+03</td>\n",
       "      <td>6.497885</td>\n",
       "      <td>1.028400e+05</td>\n",
       "      <td>0.000000</td>\n",
       "    </tr>\n",
       "    <tr>\n",
       "      <th>75%</th>\n",
       "      <td>4.433920e+05</td>\n",
       "      <td>4.096000e+03</td>\n",
       "      <td>6.581666</td>\n",
       "      <td>4.429840e+05</td>\n",
       "      <td>1.000000</td>\n",
       "    </tr>\n",
       "    <tr>\n",
       "      <th>max</th>\n",
       "      <td>5.296282e+07</td>\n",
       "      <td>1.159168e+06</td>\n",
       "      <td>7.999813</td>\n",
       "      <td>5.296252e+07</td>\n",
       "      <td>1.000000</td>\n",
       "    </tr>\n",
       "  </tbody>\n",
       "</table>\n",
       "</div>"
      ],
      "text/plain": [
       "       size_of_data  virtual_address      entropy  virtual_size      malware\n",
       "count  1.500000e+03     1.500000e+03  1500.000000  1.500000e+03  1500.000000\n",
       "mean   7.132054e+05     5.543253e+03     6.353871  7.130720e+05     0.333333\n",
       "std    2.568605e+06     3.117316e+04     0.546324  2.568588e+06     0.471562\n",
       "min    1.024000e+03     4.096000e+03     0.650292  9.000000e+02     0.000000\n",
       "25%    2.867200e+04     4.096000e+03     6.262846  2.843200e+04     0.000000\n",
       "50%    1.031680e+05     4.096000e+03     6.497885  1.028400e+05     0.000000\n",
       "75%    4.433920e+05     4.096000e+03     6.581666  4.429840e+05     1.000000\n",
       "max    5.296282e+07     1.159168e+06     7.999813  5.296252e+07     1.000000"
      ]
     },
     "execution_count": 5,
     "metadata": {},
     "output_type": "execute_result"
    }
   ],
   "source": [
    "labelled_data.describe()"
   ]
  },
  {
   "cell_type": "code",
   "execution_count": 6,
   "metadata": {},
   "outputs": [
    {
     "name": "stdout",
     "output_type": "stream",
     "text": [
      "<class 'pandas.core.frame.DataFrame'>\n",
      "RangeIndex: 1500 entries, 0 to 1499\n",
      "Data columns (total 6 columns):\n",
      " #   Column           Non-Null Count  Dtype  \n",
      "---  ------           --------------  -----  \n",
      " 0   hash             1500 non-null   object \n",
      " 1   size_of_data     1500 non-null   int64  \n",
      " 2   virtual_address  1500 non-null   int64  \n",
      " 3   entropy          1500 non-null   float64\n",
      " 4   virtual_size     1500 non-null   int64  \n",
      " 5   malware          1500 non-null   int64  \n",
      "dtypes: float64(1), int64(4), object(1)\n",
      "memory usage: 70.4+ KB\n"
     ]
    }
   ],
   "source": [
    "labelled_data.info()"
   ]
  },
  {
   "cell_type": "code",
   "execution_count": 7,
   "metadata": {},
   "outputs": [
    {
     "name": "stdout",
     "output_type": "stream",
     "text": [
      "hash   1484\n",
      "size_of_data   661\n",
      "virtual_address   11\n",
      "entropy   1079\n",
      "virtual_size   1058\n",
      "malware   2\n"
     ]
    }
   ],
   "source": [
    "for column in labelled_data.columns:\n",
    "    print(column,\" \",labelled_data[column].nunique())"
   ]
  },
  {
   "cell_type": "markdown",
   "metadata": {},
   "source": [
    "### Encoding the Categorial data "
   ]
  },
  {
   "cell_type": "code",
   "execution_count": 8,
   "metadata": {},
   "outputs": [],
   "source": [
    "le = LabelEncoder()"
   ]
  },
  {
   "cell_type": "code",
   "execution_count": 9,
   "metadata": {},
   "outputs": [
    {
     "data": {
      "text/html": [
       "<div>\n",
       "<style scoped>\n",
       "    .dataframe tbody tr th:only-of-type {\n",
       "        vertical-align: middle;\n",
       "    }\n",
       "\n",
       "    .dataframe tbody tr th {\n",
       "        vertical-align: top;\n",
       "    }\n",
       "\n",
       "    .dataframe thead th {\n",
       "        text-align: right;\n",
       "    }\n",
       "</style>\n",
       "<table border=\"1\" class=\"dataframe\">\n",
       "  <thead>\n",
       "    <tr style=\"text-align: right;\">\n",
       "      <th></th>\n",
       "      <th>hash</th>\n",
       "      <th>size_of_data</th>\n",
       "      <th>virtual_address</th>\n",
       "      <th>entropy</th>\n",
       "      <th>virtual_size</th>\n",
       "      <th>malware</th>\n",
       "    </tr>\n",
       "  </thead>\n",
       "  <tbody>\n",
       "    <tr>\n",
       "      <th>0</th>\n",
       "      <td>34</td>\n",
       "      <td>443392</td>\n",
       "      <td>4096</td>\n",
       "      <td>6.529624</td>\n",
       "      <td>442984</td>\n",
       "      <td>1</td>\n",
       "    </tr>\n",
       "    <tr>\n",
       "      <th>1</th>\n",
       "      <td>293</td>\n",
       "      <td>331264</td>\n",
       "      <td>4096</td>\n",
       "      <td>6.604314</td>\n",
       "      <td>330784</td>\n",
       "      <td>1</td>\n",
       "    </tr>\n",
       "    <tr>\n",
       "      <th>2</th>\n",
       "      <td>1076</td>\n",
       "      <td>74240</td>\n",
       "      <td>4096</td>\n",
       "      <td>6.046789</td>\n",
       "      <td>73819</td>\n",
       "      <td>1</td>\n",
       "    </tr>\n",
       "    <tr>\n",
       "      <th>3</th>\n",
       "      <td>647</td>\n",
       "      <td>219648</td>\n",
       "      <td>4096</td>\n",
       "      <td>6.497018</td>\n",
       "      <td>219524</td>\n",
       "      <td>1</td>\n",
       "    </tr>\n",
       "    <tr>\n",
       "      <th>4</th>\n",
       "      <td>1179</td>\n",
       "      <td>262144</td>\n",
       "      <td>4096</td>\n",
       "      <td>6.638142</td>\n",
       "      <td>261943</td>\n",
       "      <td>1</td>\n",
       "    </tr>\n",
       "  </tbody>\n",
       "</table>\n",
       "</div>"
      ],
      "text/plain": [
       "   hash  size_of_data  virtual_address   entropy  virtual_size  malware\n",
       "0    34        443392             4096  6.529624        442984        1\n",
       "1   293        331264             4096  6.604314        330784        1\n",
       "2  1076         74240             4096  6.046789         73819        1\n",
       "3   647        219648             4096  6.497018        219524        1\n",
       "4  1179        262144             4096  6.638142        261943        1"
      ]
     },
     "execution_count": 9,
     "metadata": {},
     "output_type": "execute_result"
    }
   ],
   "source": [
    "le.fit(labelled_data['hash'])\n",
    "labelled_data['hash']= le.transform(labelled_data['hash'])\n",
    "\n",
    "\n",
    "le.fit(unlabelled_data['hash'])\n",
    "unlabelled_data['hash']= le.transform(unlabelled_data['hash'])\n",
    "\n",
    "labelled_data.head()"
   ]
  },
  {
   "cell_type": "code",
   "execution_count": 10,
   "metadata": {},
   "outputs": [
    {
     "data": {
      "text/html": [
       "<div>\n",
       "<style scoped>\n",
       "    .dataframe tbody tr th:only-of-type {\n",
       "        vertical-align: middle;\n",
       "    }\n",
       "\n",
       "    .dataframe tbody tr th {\n",
       "        vertical-align: top;\n",
       "    }\n",
       "\n",
       "    .dataframe thead th {\n",
       "        text-align: right;\n",
       "    }\n",
       "</style>\n",
       "<table border=\"1\" class=\"dataframe\">\n",
       "  <thead>\n",
       "    <tr style=\"text-align: right;\">\n",
       "      <th></th>\n",
       "      <th>hash</th>\n",
       "      <th>size_of_data</th>\n",
       "      <th>virtual_address</th>\n",
       "      <th>entropy</th>\n",
       "      <th>virtual_size</th>\n",
       "    </tr>\n",
       "  </thead>\n",
       "  <tbody>\n",
       "    <tr>\n",
       "      <th>0</th>\n",
       "      <td>25400</td>\n",
       "      <td>63488</td>\n",
       "      <td>4096</td>\n",
       "      <td>6.636500</td>\n",
       "      <td>63195</td>\n",
       "    </tr>\n",
       "    <tr>\n",
       "      <th>1</th>\n",
       "      <td>15547</td>\n",
       "      <td>87040</td>\n",
       "      <td>4096</td>\n",
       "      <td>6.584123</td>\n",
       "      <td>86944</td>\n",
       "    </tr>\n",
       "    <tr>\n",
       "      <th>2</th>\n",
       "      <td>36607</td>\n",
       "      <td>25600</td>\n",
       "      <td>4096</td>\n",
       "      <td>6.468836</td>\n",
       "      <td>25494</td>\n",
       "    </tr>\n",
       "    <tr>\n",
       "      <th>3</th>\n",
       "      <td>21334</td>\n",
       "      <td>733184</td>\n",
       "      <td>4096</td>\n",
       "      <td>6.665506</td>\n",
       "      <td>732799</td>\n",
       "    </tr>\n",
       "    <tr>\n",
       "      <th>4</th>\n",
       "      <td>32238</td>\n",
       "      <td>1196032</td>\n",
       "      <td>4096</td>\n",
       "      <td>6.655021</td>\n",
       "      <td>1195949</td>\n",
       "    </tr>\n",
       "  </tbody>\n",
       "</table>\n",
       "</div>"
      ],
      "text/plain": [
       "    hash  size_of_data  virtual_address   entropy  virtual_size\n",
       "0  25400         63488             4096  6.636500         63195\n",
       "1  15547         87040             4096  6.584123         86944\n",
       "2  36607         25600             4096  6.468836         25494\n",
       "3  21334        733184             4096  6.665506        732799\n",
       "4  32238       1196032             4096  6.655021       1195949"
      ]
     },
     "execution_count": 10,
     "metadata": {},
     "output_type": "execute_result"
    }
   ],
   "source": [
    "unlabelled_data.head()"
   ]
  },
  {
   "cell_type": "markdown",
   "metadata": {},
   "source": [
    "### Evaulating the Performance of all the Models"
   ]
  },
  {
   "cell_type": "markdown",
   "metadata": {},
   "source": [
    "Including 5-fold cross validation"
   ]
  },
  {
   "cell_type": "code",
   "execution_count": 11,
   "metadata": {},
   "outputs": [
    {
     "name": "stdout",
     "output_type": "stream",
     "text": [
      "NuSVC                     CV-5 RMSE:  0.603 (+/- 0.195)\n",
      "LinearSVC                 CV-5 RMSE:  0.576 (+/- 0.042)\n",
      "SGDClassifier             CV-5 RMSE:  0.630 (+/- 0.262)\n",
      "KNeighborsClassifier      CV-5 RMSE:  0.481 (+/- 0.025)\n",
      "NearestCentroid           CV-5 RMSE:  0.757 (+/- 0.221)\n",
      "CPU times: user 488 ms, sys: 21.7 ms, total: 510 ms\n",
      "Wall time: 509 ms\n"
     ]
    }
   ],
   "source": [
    "%%time\n",
    "\n",
    "X_train, X_test, y_train, y_test = train_test_split(labelled_data.iloc[:,:-1],\n",
    "                                                    labelled_data.iloc[:,-1], test_size=0.20, random_state=42)\n",
    "    \n",
    "for model in models:\n",
    "    model.seed = 101\n",
    "    num_folds = 5\n",
    "    scores = cross_val_score(model, X_train, y_train, cv=num_folds, scoring='neg_mean_squared_error')\n",
    "    score_description = \" {:04.3f} (+/- {:04.3f})\".format((np.sqrt(scores.mean()*-1)), (scores.std() * 2))\n",
    "    \n",
    "    print('{model:25} CV-5 RMSE: {score}'.format(model=model.__class__.__name__, score=score_description))\n",
    "    "
   ]
  },
  {
   "cell_type": "markdown",
   "metadata": {},
   "source": [
    "### Pseudo Labelling "
   ]
  },
  {
   "cell_type": "code",
   "execution_count": 12,
   "metadata": {},
   "outputs": [
    {
     "name": "stdout",
     "output_type": "stream",
     "text": [
      "NuSVC                CV-5 RMSE:  0.290 (+/- 0.006)\n",
      "LinearSVC            CV-5 RMSE:  0.375 (+/- 0.096)\n",
      "SGDClassifier        CV-5 RMSE:  0.152 (+/- 0.023)\n",
      "KNeighborsClassifier CV-5 RMSE:  0.155 (+/- 0.003)\n",
      "NearestCentroid      CV-5 RMSE:  0.243 (+/- 0.004)\n",
      "CPU times: user 2min 22s, sys: 2.98 s, total: 2min 25s\n",
      "Wall time: 2min 23s\n"
     ]
    }
   ],
   "source": [
    "%%time\n",
    "\n",
    "x_train = labelled_data.iloc[:,:-1]\n",
    "y_train = labelled_data.iloc[:,-1]\n",
    "x_unlabeled = unlabelled_data\n",
    "\n",
    "for model in models:\n",
    "    model.seed = 101\n",
    "    num_folds = 5\n",
    "    model.fit(x_train, y_train)\n",
    "    y_unlabeled = model.predict(x_unlabeled)\n",
    "    y_unlabeled = pd.DataFrame(y_unlabeled, columns = ['malware'])\n",
    "    seudo_labeled_data = unlabelled_data.join(y_unlabeled)\n",
    "    seudo_labeled_data = seudo_labeled_data.fillna(0)\n",
    "    x_merged = x_train.append(seudo_labeled_data.iloc[:,:-1])\n",
    "    y_merged = y_train.append(seudo_labeled_data.iloc[:,-1])\n",
    "    scores = cross_val_score(model, x_merged.sample(frac=1,random_state=101), y_merged.sample(frac=1,random_state=101), cv=num_folds, scoring='neg_mean_squared_error')\n",
    "    score_description = \" {:04.3f} (+/- {:04.3f})\".format((np.sqrt(scores.mean()*-1)), (scores.std() * 2))\n",
    "    print(\"{model:20} CV-5 RMSE: {score}\".format(model=model.__class__.__name__, score=score_description))"
   ]
  },
  {
   "cell_type": "code",
   "execution_count": 13,
   "metadata": {},
   "outputs": [
    {
     "data": {
      "text/html": [
       "<div>\n",
       "<style scoped>\n",
       "    .dataframe tbody tr th:only-of-type {\n",
       "        vertical-align: middle;\n",
       "    }\n",
       "\n",
       "    .dataframe tbody tr th {\n",
       "        vertical-align: top;\n",
       "    }\n",
       "\n",
       "    .dataframe thead th {\n",
       "        text-align: right;\n",
       "    }\n",
       "</style>\n",
       "<table border=\"1\" class=\"dataframe\">\n",
       "  <thead>\n",
       "    <tr style=\"text-align: right;\">\n",
       "      <th></th>\n",
       "      <th>hash</th>\n",
       "      <th>size_of_data</th>\n",
       "      <th>virtual_address</th>\n",
       "      <th>entropy</th>\n",
       "      <th>virtual_size</th>\n",
       "      <th>malware</th>\n",
       "    </tr>\n",
       "  </thead>\n",
       "  <tbody>\n",
       "    <tr>\n",
       "      <th>0</th>\n",
       "      <td>25400</td>\n",
       "      <td>63488</td>\n",
       "      <td>4096</td>\n",
       "      <td>6.636500</td>\n",
       "      <td>63195</td>\n",
       "      <td>1</td>\n",
       "    </tr>\n",
       "    <tr>\n",
       "      <th>1</th>\n",
       "      <td>15547</td>\n",
       "      <td>87040</td>\n",
       "      <td>4096</td>\n",
       "      <td>6.584123</td>\n",
       "      <td>86944</td>\n",
       "      <td>1</td>\n",
       "    </tr>\n",
       "    <tr>\n",
       "      <th>2</th>\n",
       "      <td>36607</td>\n",
       "      <td>25600</td>\n",
       "      <td>4096</td>\n",
       "      <td>6.468836</td>\n",
       "      <td>25494</td>\n",
       "      <td>1</td>\n",
       "    </tr>\n",
       "    <tr>\n",
       "      <th>3</th>\n",
       "      <td>21334</td>\n",
       "      <td>733184</td>\n",
       "      <td>4096</td>\n",
       "      <td>6.665506</td>\n",
       "      <td>732799</td>\n",
       "      <td>0</td>\n",
       "    </tr>\n",
       "    <tr>\n",
       "      <th>4</th>\n",
       "      <td>32238</td>\n",
       "      <td>1196032</td>\n",
       "      <td>4096</td>\n",
       "      <td>6.655021</td>\n",
       "      <td>1195949</td>\n",
       "      <td>0</td>\n",
       "    </tr>\n",
       "  </tbody>\n",
       "</table>\n",
       "</div>"
      ],
      "text/plain": [
       "    hash  size_of_data  virtual_address   entropy  virtual_size  malware\n",
       "0  25400         63488             4096  6.636500         63195        1\n",
       "1  15547         87040             4096  6.584123         86944        1\n",
       "2  36607         25600             4096  6.468836         25494        1\n",
       "3  21334        733184             4096  6.665506        732799        0\n",
       "4  32238       1196032             4096  6.655021       1195949        0"
      ]
     },
     "execution_count": 13,
     "metadata": {},
     "output_type": "execute_result"
    }
   ],
   "source": [
    "seudo_labeled_data.head()"
   ]
  },
  {
   "cell_type": "code",
   "execution_count": 14,
   "metadata": {},
   "outputs": [
    {
     "data": {
      "text/plain": [
       "(41777, 6)"
      ]
     },
     "execution_count": 14,
     "metadata": {},
     "output_type": "execute_result"
    }
   ],
   "source": [
    "seudo_labeled_data.shape"
   ]
  },
  {
   "cell_type": "markdown",
   "metadata": {},
   "source": [
    "This Psedo-Labeled Dataset can be further used to train supervised models. But we must keep in mind that the new dataset has on an average 20% incorrectly labeled rows."
   ]
  }
 ],
 "metadata": {
  "kernelspec": {
   "display_name": "Python 3",
   "language": "python",
   "name": "python3"
  },
  "language_info": {
   "codemirror_mode": {
    "name": "ipython",
    "version": 3
   },
   "file_extension": ".py",
   "mimetype": "text/x-python",
   "name": "python",
   "nbconvert_exporter": "python",
   "pygments_lexer": "ipython3",
   "version": "3.8.8"
  }
 },
 "nbformat": 4,
 "nbformat_minor": 4
}
