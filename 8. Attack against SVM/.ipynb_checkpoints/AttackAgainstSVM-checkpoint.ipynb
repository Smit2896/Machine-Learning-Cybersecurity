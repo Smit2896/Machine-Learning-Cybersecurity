{
 "cells": [
  {
   "cell_type": "markdown",
   "metadata": {},
   "source": [
    "## Machine Learning in Cybersecurity and Privacy"
   ]
  },
  {
   "cell_type": "markdown",
   "metadata": {},
   "source": [
    "### Challenge 8 - Pseudo Labelling using multiple supervised ML models"
   ]
  },
  {
   "cell_type": "markdown",
   "metadata": {},
   "source": [
    "<div style=\"text-align: right\"> By Smit Doshi (001475186) </div>"
   ]
  },
  {
   "cell_type": "markdown",
   "metadata": {},
   "source": [
    "### Importing Required Libraries"
   ]
  },
  {
   "cell_type": "code",
   "execution_count": 1,
   "metadata": {},
   "outputs": [],
   "source": [
    "# to handle datasets\n",
    "import pandas as pd\n",
    "import numpy as np\n",
    "\n",
    "# machine learning imports\n",
    "from sklearn.svm import SVC\n",
    "from sklearn.model_selection import train_test_split\n",
    "from sklearn.metrics import classification_report,confusion_matrix"
   ]
  },
  {
   "cell_type": "code",
   "execution_count": 2,
   "metadata": {},
   "outputs": [
    {
     "data": {
      "text/html": [
       "<div>\n",
       "<style scoped>\n",
       "    .dataframe tbody tr th:only-of-type {\n",
       "        vertical-align: middle;\n",
       "    }\n",
       "\n",
       "    .dataframe tbody tr th {\n",
       "        vertical-align: top;\n",
       "    }\n",
       "\n",
       "    .dataframe thead th {\n",
       "        text-align: right;\n",
       "    }\n",
       "</style>\n",
       "<table border=\"1\" class=\"dataframe\">\n",
       "  <thead>\n",
       "    <tr style=\"text-align: right;\">\n",
       "      <th></th>\n",
       "      <th>tcp_packets</th>\n",
       "      <th>dist_port_tcp</th>\n",
       "      <th>external_ips</th>\n",
       "      <th>vulume_bytes</th>\n",
       "      <th>udp_packets</th>\n",
       "      <th>tcp_urg_packet</th>\n",
       "      <th>source_app_packets</th>\n",
       "      <th>remote_app_packets</th>\n",
       "      <th>source_app_bytes</th>\n",
       "      <th>remote_app_bytes</th>\n",
       "      <th>source_app_packets.1</th>\n",
       "      <th>dns_query_times</th>\n",
       "      <th>type</th>\n",
       "    </tr>\n",
       "  </thead>\n",
       "  <tbody>\n",
       "    <tr>\n",
       "      <th>0</th>\n",
       "      <td>36</td>\n",
       "      <td>6</td>\n",
       "      <td>3</td>\n",
       "      <td>3911</td>\n",
       "      <td>0</td>\n",
       "      <td>0</td>\n",
       "      <td>39</td>\n",
       "      <td>33</td>\n",
       "      <td>5100</td>\n",
       "      <td>4140</td>\n",
       "      <td>39</td>\n",
       "      <td>3</td>\n",
       "      <td>benign</td>\n",
       "    </tr>\n",
       "    <tr>\n",
       "      <th>1</th>\n",
       "      <td>117</td>\n",
       "      <td>0</td>\n",
       "      <td>9</td>\n",
       "      <td>23514</td>\n",
       "      <td>0</td>\n",
       "      <td>0</td>\n",
       "      <td>128</td>\n",
       "      <td>107</td>\n",
       "      <td>26248</td>\n",
       "      <td>24358</td>\n",
       "      <td>128</td>\n",
       "      <td>11</td>\n",
       "      <td>benign</td>\n",
       "    </tr>\n",
       "    <tr>\n",
       "      <th>2</th>\n",
       "      <td>196</td>\n",
       "      <td>0</td>\n",
       "      <td>6</td>\n",
       "      <td>24151</td>\n",
       "      <td>0</td>\n",
       "      <td>0</td>\n",
       "      <td>205</td>\n",
       "      <td>214</td>\n",
       "      <td>163887</td>\n",
       "      <td>24867</td>\n",
       "      <td>205</td>\n",
       "      <td>9</td>\n",
       "      <td>benign</td>\n",
       "    </tr>\n",
       "    <tr>\n",
       "      <th>3</th>\n",
       "      <td>6</td>\n",
       "      <td>0</td>\n",
       "      <td>1</td>\n",
       "      <td>889</td>\n",
       "      <td>0</td>\n",
       "      <td>0</td>\n",
       "      <td>7</td>\n",
       "      <td>6</td>\n",
       "      <td>819</td>\n",
       "      <td>975</td>\n",
       "      <td>7</td>\n",
       "      <td>1</td>\n",
       "      <td>benign</td>\n",
       "    </tr>\n",
       "    <tr>\n",
       "      <th>4</th>\n",
       "      <td>6</td>\n",
       "      <td>0</td>\n",
       "      <td>1</td>\n",
       "      <td>882</td>\n",
       "      <td>0</td>\n",
       "      <td>0</td>\n",
       "      <td>7</td>\n",
       "      <td>6</td>\n",
       "      <td>819</td>\n",
       "      <td>968</td>\n",
       "      <td>7</td>\n",
       "      <td>1</td>\n",
       "      <td>benign</td>\n",
       "    </tr>\n",
       "  </tbody>\n",
       "</table>\n",
       "</div>"
      ],
      "text/plain": [
       "   tcp_packets  dist_port_tcp  external_ips  vulume_bytes  udp_packets  \\\n",
       "0           36              6             3          3911            0   \n",
       "1          117              0             9         23514            0   \n",
       "2          196              0             6         24151            0   \n",
       "3            6              0             1           889            0   \n",
       "4            6              0             1           882            0   \n",
       "\n",
       "   tcp_urg_packet  source_app_packets  remote_app_packets  source_app_bytes  \\\n",
       "0               0                  39                  33              5100   \n",
       "1               0                 128                 107             26248   \n",
       "2               0                 205                 214            163887   \n",
       "3               0                   7                   6               819   \n",
       "4               0                   7                   6               819   \n",
       "\n",
       "   remote_app_bytes  source_app_packets.1  dns_query_times    type  \n",
       "0              4140                    39                3  benign  \n",
       "1             24358                   128               11  benign  \n",
       "2             24867                   205                9  benign  \n",
       "3               975                     7                1  benign  \n",
       "4               968                     7                1  benign  "
      ]
     },
     "execution_count": 2,
     "metadata": {},
     "output_type": "execute_result"
    }
   ],
   "source": [
    "data = pd.read_csv('android_traffic.csv')\n",
    "data.head()"
   ]
  },
  {
   "cell_type": "code",
   "execution_count": 3,
   "metadata": {},
   "outputs": [
    {
     "name": "stdout",
     "output_type": "stream",
     "text": [
      "<class 'pandas.core.frame.DataFrame'>\n",
      "RangeIndex: 7845 entries, 0 to 7844\n",
      "Data columns (total 13 columns):\n",
      " #   Column                Non-Null Count  Dtype \n",
      "---  ------                --------------  ----- \n",
      " 0   tcp_packets           7845 non-null   int64 \n",
      " 1   dist_port_tcp         7845 non-null   int64 \n",
      " 2   external_ips          7845 non-null   int64 \n",
      " 3   vulume_bytes          7845 non-null   int64 \n",
      " 4   udp_packets           7845 non-null   int64 \n",
      " 5   tcp_urg_packet        7845 non-null   int64 \n",
      " 6   source_app_packets    7845 non-null   int64 \n",
      " 7   remote_app_packets    7845 non-null   int64 \n",
      " 8   source_app_bytes      7845 non-null   int64 \n",
      " 9   remote_app_bytes      7845 non-null   int64 \n",
      " 10  source_app_packets.1  7845 non-null   int64 \n",
      " 11  dns_query_times       7845 non-null   int64 \n",
      " 12  type                  7845 non-null   object\n",
      "dtypes: int64(12), object(1)\n",
      "memory usage: 796.9+ KB\n"
     ]
    }
   ],
   "source": [
    "data.info()"
   ]
  },
  {
   "cell_type": "code",
   "execution_count": 4,
   "metadata": {},
   "outputs": [],
   "source": [
    "from sklearn.preprocessing import StandardScaler"
   ]
  },
  {
   "cell_type": "code",
   "execution_count": 5,
   "metadata": {},
   "outputs": [
    {
     "data": {
      "text/plain": [
       "StandardScaler()"
      ]
     },
     "execution_count": 5,
     "metadata": {},
     "output_type": "execute_result"
    }
   ],
   "source": [
    "scaler = StandardScaler()\n",
    "scaler.fit(data.drop('type',axis=1))"
   ]
  },
  {
   "cell_type": "code",
   "execution_count": 6,
   "metadata": {},
   "outputs": [],
   "source": [
    "scaled_features = scaler.transform(data.drop('type',axis=1))"
   ]
  },
  {
   "cell_type": "code",
   "execution_count": 7,
   "metadata": {},
   "outputs": [
    {
     "data": {
      "text/plain": [
       "Index(['tcp_packets', 'dist_port_tcp', 'external_ips', 'vulume_bytes',\n",
       "       'udp_packets', 'tcp_urg_packet', 'source_app_packets',\n",
       "       'remote_app_packets', 'source_app_bytes', 'remote_app_bytes',\n",
       "       'source_app_packets.1', 'dns_query_times'],\n",
       "      dtype='object')"
      ]
     },
     "execution_count": 7,
     "metadata": {},
     "output_type": "execute_result"
    }
   ],
   "source": [
    "data.columns[:-1]"
   ]
  },
  {
   "cell_type": "code",
   "execution_count": 8,
   "metadata": {},
   "outputs": [],
   "source": [
    "df_feat = pd.DataFrame(scaled_features,columns=data.columns[:-1])"
   ]
  },
  {
   "cell_type": "code",
   "execution_count": 9,
   "metadata": {},
   "outputs": [
    {
     "data": {
      "text/html": [
       "<div>\n",
       "<style scoped>\n",
       "    .dataframe tbody tr th:only-of-type {\n",
       "        vertical-align: middle;\n",
       "    }\n",
       "\n",
       "    .dataframe tbody tr th {\n",
       "        vertical-align: top;\n",
       "    }\n",
       "\n",
       "    .dataframe thead th {\n",
       "        text-align: right;\n",
       "    }\n",
       "</style>\n",
       "<table border=\"1\" class=\"dataframe\">\n",
       "  <thead>\n",
       "    <tr style=\"text-align: right;\">\n",
       "      <th></th>\n",
       "      <th>tcp_packets</th>\n",
       "      <th>dist_port_tcp</th>\n",
       "      <th>external_ips</th>\n",
       "      <th>vulume_bytes</th>\n",
       "      <th>udp_packets</th>\n",
       "      <th>tcp_urg_packet</th>\n",
       "      <th>source_app_packets</th>\n",
       "      <th>remote_app_packets</th>\n",
       "      <th>source_app_bytes</th>\n",
       "      <th>remote_app_bytes</th>\n",
       "      <th>source_app_packets.1</th>\n",
       "      <th>dns_query_times</th>\n",
       "    </tr>\n",
       "  </thead>\n",
       "  <tbody>\n",
       "    <tr>\n",
       "      <th>0</th>\n",
       "      <td>-0.143441</td>\n",
       "      <td>-0.033652</td>\n",
       "      <td>0.086046</td>\n",
       "      <td>-0.153587</td>\n",
       "      <td>-0.040693</td>\n",
       "      <td>-0.015969</td>\n",
       "      <td>-0.146231</td>\n",
       "      <td>-0.151404</td>\n",
       "      <td>-0.140898</td>\n",
       "      <td>-0.155173</td>\n",
       "      <td>-0.146231</td>\n",
       "      <td>-0.100476</td>\n",
       "    </tr>\n",
       "    <tr>\n",
       "      <th>1</th>\n",
       "      <td>-0.039311</td>\n",
       "      <td>-0.149817</td>\n",
       "      <td>2.138859</td>\n",
       "      <td>0.084743</td>\n",
       "      <td>-0.040693</td>\n",
       "      <td>-0.015969</td>\n",
       "      <td>-0.031980</td>\n",
       "      <td>-0.082119</td>\n",
       "      <td>-0.125803</td>\n",
       "      <td>0.090261</td>\n",
       "      <td>-0.031980</td>\n",
       "      <td>0.322821</td>\n",
       "    </tr>\n",
       "    <tr>\n",
       "      <th>2</th>\n",
       "      <td>0.062249</td>\n",
       "      <td>-0.149817</td>\n",
       "      <td>1.112453</td>\n",
       "      <td>0.092488</td>\n",
       "      <td>-0.040693</td>\n",
       "      <td>-0.015969</td>\n",
       "      <td>0.066867</td>\n",
       "      <td>0.018064</td>\n",
       "      <td>-0.027559</td>\n",
       "      <td>0.096440</td>\n",
       "      <td>0.066867</td>\n",
       "      <td>0.216997</td>\n",
       "    </tr>\n",
       "    <tr>\n",
       "      <th>3</th>\n",
       "      <td>-0.182008</td>\n",
       "      <td>-0.149817</td>\n",
       "      <td>-0.598225</td>\n",
       "      <td>-0.190328</td>\n",
       "      <td>-0.040693</td>\n",
       "      <td>-0.015969</td>\n",
       "      <td>-0.187310</td>\n",
       "      <td>-0.176684</td>\n",
       "      <td>-0.143954</td>\n",
       "      <td>-0.193594</td>\n",
       "      <td>-0.187310</td>\n",
       "      <td>-0.206300</td>\n",
       "    </tr>\n",
       "    <tr>\n",
       "      <th>4</th>\n",
       "      <td>-0.182008</td>\n",
       "      <td>-0.149817</td>\n",
       "      <td>-0.598225</td>\n",
       "      <td>-0.190414</td>\n",
       "      <td>-0.040693</td>\n",
       "      <td>-0.015969</td>\n",
       "      <td>-0.187310</td>\n",
       "      <td>-0.176684</td>\n",
       "      <td>-0.143954</td>\n",
       "      <td>-0.193679</td>\n",
       "      <td>-0.187310</td>\n",
       "      <td>-0.206300</td>\n",
       "    </tr>\n",
       "    <tr>\n",
       "      <th>...</th>\n",
       "      <td>...</td>\n",
       "      <td>...</td>\n",
       "      <td>...</td>\n",
       "      <td>...</td>\n",
       "      <td>...</td>\n",
       "      <td>...</td>\n",
       "      <td>...</td>\n",
       "      <td>...</td>\n",
       "      <td>...</td>\n",
       "      <td>...</td>\n",
       "      <td>...</td>\n",
       "      <td>...</td>\n",
       "    </tr>\n",
       "    <tr>\n",
       "      <th>7840</th>\n",
       "      <td>-0.189721</td>\n",
       "      <td>-0.149817</td>\n",
       "      <td>-0.940360</td>\n",
       "      <td>-0.201137</td>\n",
       "      <td>-0.040693</td>\n",
       "      <td>-0.015969</td>\n",
       "      <td>-0.193729</td>\n",
       "      <td>-0.180429</td>\n",
       "      <td>-0.144355</td>\n",
       "      <td>-0.203694</td>\n",
       "      <td>-0.193729</td>\n",
       "      <td>-0.153388</td>\n",
       "    </tr>\n",
       "    <tr>\n",
       "      <th>7841</th>\n",
       "      <td>-0.184579</td>\n",
       "      <td>-0.072374</td>\n",
       "      <td>-0.598225</td>\n",
       "      <td>-0.197538</td>\n",
       "      <td>-0.040693</td>\n",
       "      <td>-0.015969</td>\n",
       "      <td>-0.189878</td>\n",
       "      <td>-0.181365</td>\n",
       "      <td>-0.144477</td>\n",
       "      <td>-0.200793</td>\n",
       "      <td>-0.189878</td>\n",
       "      <td>-0.206300</td>\n",
       "    </tr>\n",
       "    <tr>\n",
       "      <th>7842</th>\n",
       "      <td>-0.189721</td>\n",
       "      <td>-0.149817</td>\n",
       "      <td>-0.940360</td>\n",
       "      <td>-0.201137</td>\n",
       "      <td>-0.040693</td>\n",
       "      <td>-0.015969</td>\n",
       "      <td>-0.193729</td>\n",
       "      <td>-0.180429</td>\n",
       "      <td>-0.144355</td>\n",
       "      <td>-0.203694</td>\n",
       "      <td>-0.193729</td>\n",
       "      <td>-0.153388</td>\n",
       "    </tr>\n",
       "    <tr>\n",
       "      <th>7843</th>\n",
       "      <td>-0.189721</td>\n",
       "      <td>-0.149817</td>\n",
       "      <td>-0.940360</td>\n",
       "      <td>-0.201137</td>\n",
       "      <td>-0.040693</td>\n",
       "      <td>-0.015969</td>\n",
       "      <td>-0.193729</td>\n",
       "      <td>-0.180429</td>\n",
       "      <td>-0.144355</td>\n",
       "      <td>-0.203694</td>\n",
       "      <td>-0.193729</td>\n",
       "      <td>-0.153388</td>\n",
       "    </tr>\n",
       "    <tr>\n",
       "      <th>7844</th>\n",
       "      <td>-0.189721</td>\n",
       "      <td>-0.149817</td>\n",
       "      <td>-0.940360</td>\n",
       "      <td>-0.201137</td>\n",
       "      <td>-0.040693</td>\n",
       "      <td>-0.015969</td>\n",
       "      <td>-0.193729</td>\n",
       "      <td>-0.180429</td>\n",
       "      <td>-0.144355</td>\n",
       "      <td>-0.203694</td>\n",
       "      <td>-0.193729</td>\n",
       "      <td>-0.153388</td>\n",
       "    </tr>\n",
       "  </tbody>\n",
       "</table>\n",
       "<p>7845 rows × 12 columns</p>\n",
       "</div>"
      ],
      "text/plain": [
       "      tcp_packets  dist_port_tcp  external_ips  vulume_bytes  udp_packets  \\\n",
       "0       -0.143441      -0.033652      0.086046     -0.153587    -0.040693   \n",
       "1       -0.039311      -0.149817      2.138859      0.084743    -0.040693   \n",
       "2        0.062249      -0.149817      1.112453      0.092488    -0.040693   \n",
       "3       -0.182008      -0.149817     -0.598225     -0.190328    -0.040693   \n",
       "4       -0.182008      -0.149817     -0.598225     -0.190414    -0.040693   \n",
       "...           ...            ...           ...           ...          ...   \n",
       "7840    -0.189721      -0.149817     -0.940360     -0.201137    -0.040693   \n",
       "7841    -0.184579      -0.072374     -0.598225     -0.197538    -0.040693   \n",
       "7842    -0.189721      -0.149817     -0.940360     -0.201137    -0.040693   \n",
       "7843    -0.189721      -0.149817     -0.940360     -0.201137    -0.040693   \n",
       "7844    -0.189721      -0.149817     -0.940360     -0.201137    -0.040693   \n",
       "\n",
       "      tcp_urg_packet  source_app_packets  remote_app_packets  \\\n",
       "0          -0.015969           -0.146231           -0.151404   \n",
       "1          -0.015969           -0.031980           -0.082119   \n",
       "2          -0.015969            0.066867            0.018064   \n",
       "3          -0.015969           -0.187310           -0.176684   \n",
       "4          -0.015969           -0.187310           -0.176684   \n",
       "...              ...                 ...                 ...   \n",
       "7840       -0.015969           -0.193729           -0.180429   \n",
       "7841       -0.015969           -0.189878           -0.181365   \n",
       "7842       -0.015969           -0.193729           -0.180429   \n",
       "7843       -0.015969           -0.193729           -0.180429   \n",
       "7844       -0.015969           -0.193729           -0.180429   \n",
       "\n",
       "      source_app_bytes  remote_app_bytes  source_app_packets.1  \\\n",
       "0            -0.140898         -0.155173             -0.146231   \n",
       "1            -0.125803          0.090261             -0.031980   \n",
       "2            -0.027559          0.096440              0.066867   \n",
       "3            -0.143954         -0.193594             -0.187310   \n",
       "4            -0.143954         -0.193679             -0.187310   \n",
       "...                ...               ...                   ...   \n",
       "7840         -0.144355         -0.203694             -0.193729   \n",
       "7841         -0.144477         -0.200793             -0.189878   \n",
       "7842         -0.144355         -0.203694             -0.193729   \n",
       "7843         -0.144355         -0.203694             -0.193729   \n",
       "7844         -0.144355         -0.203694             -0.193729   \n",
       "\n",
       "      dns_query_times  \n",
       "0           -0.100476  \n",
       "1            0.322821  \n",
       "2            0.216997  \n",
       "3           -0.206300  \n",
       "4           -0.206300  \n",
       "...               ...  \n",
       "7840        -0.153388  \n",
       "7841        -0.206300  \n",
       "7842        -0.153388  \n",
       "7843        -0.153388  \n",
       "7844        -0.153388  \n",
       "\n",
       "[7845 rows x 12 columns]"
      ]
     },
     "execution_count": 9,
     "metadata": {},
     "output_type": "execute_result"
    }
   ],
   "source": [
    "df_feat"
   ]
  },
  {
   "cell_type": "code",
   "execution_count": 10,
   "metadata": {},
   "outputs": [
    {
     "name": "stdout",
     "output_type": "stream",
     "text": [
      "unique values in tcp_packets column = 760\n",
      "unique values in dist_port_tcp column = 169\n",
      "unique values in external_ips column = 31\n",
      "unique values in vulume_bytes column = 4639\n",
      "unique values in udp_packets column = 14\n",
      "unique values in tcp_urg_packet column = 2\n",
      "unique values in source_app_packets column = 776\n",
      "unique values in remote_app_packets column = 851\n",
      "unique values in source_app_bytes column = 4815\n",
      "unique values in remote_app_bytes column = 4874\n",
      "unique values in source_app_packets.1 column = 776\n",
      "unique values in dns_query_times column = 63\n",
      "unique values in type column = 2\n"
     ]
    }
   ],
   "source": [
    "for column in data.columns:\n",
    "    print('unique values in {} column = {}'.format(column,data[column].nunique()))"
   ]
  },
  {
   "cell_type": "code",
   "execution_count": 11,
   "metadata": {},
   "outputs": [],
   "source": [
    "X = df_feat\n",
    "#X = data.drop('type',axis=1)\n",
    "y = data['type']\n",
    "X_train, X_test, y_train, y_test = train_test_split(X,\n",
    "                                                    y, test_size=0.20, random_state=42)"
   ]
  },
  {
   "cell_type": "code",
   "execution_count": 12,
   "metadata": {},
   "outputs": [],
   "source": [
    "from sklearn.model_selection import GridSearchCV"
   ]
  },
  {
   "cell_type": "code",
   "execution_count": 25,
   "metadata": {},
   "outputs": [],
   "source": [
    "param_grid ={'C':[10,100,1000,10000,100000],'gamma':[10,1,0.1,0.01,0.001,0.0001]}"
   ]
  },
  {
   "cell_type": "code",
   "execution_count": 26,
   "metadata": {},
   "outputs": [],
   "source": [
    "grid = GridSearchCV(SVC(),param_grid,verbose=1,cv=5,n_jobs=-1)"
   ]
  },
  {
   "cell_type": "code",
   "execution_count": 27,
   "metadata": {},
   "outputs": [
    {
     "name": "stdout",
     "output_type": "stream",
     "text": [
      "Fitting 5 folds for each of 30 candidates, totalling 150 fits\n"
     ]
    },
    {
     "name": "stderr",
     "output_type": "stream",
     "text": [
      "[Parallel(n_jobs=-1)]: Using backend LokyBackend with 8 concurrent workers.\n",
      "[Parallel(n_jobs=-1)]: Done  34 tasks      | elapsed:    6.8s\n",
      "[Parallel(n_jobs=-1)]: Done 150 out of 150 | elapsed:  4.4min finished\n"
     ]
    },
    {
     "name": "stdout",
     "output_type": "stream",
     "text": [
      "CPU times: user 44.8 s, sys: 723 ms, total: 45.5 s\n",
      "Wall time: 5min 7s\n"
     ]
    },
    {
     "data": {
      "text/plain": [
       "GridSearchCV(cv=5, estimator=SVC(), n_jobs=-1,\n",
       "             param_grid={'C': [10, 100, 1000, 10000, 100000],\n",
       "                         'gamma': [10, 1, 0.1, 0.01, 0.001, 0.0001]},\n",
       "             verbose=1)"
      ]
     },
     "execution_count": 27,
     "metadata": {},
     "output_type": "execute_result"
    }
   ],
   "source": [
    "%%time\n",
    "grid.fit(X_train,y_train)"
   ]
  },
  {
   "cell_type": "code",
   "execution_count": 28,
   "metadata": {},
   "outputs": [
    {
     "data": {
      "text/plain": [
       "{'C': 100000, 'gamma': 10}"
      ]
     },
     "execution_count": 28,
     "metadata": {},
     "output_type": "execute_result"
    }
   ],
   "source": [
    "# GridSearchCV will tell us which are the best parameters\n",
    "grid.best_params_"
   ]
  },
  {
   "cell_type": "code",
   "execution_count": 29,
   "metadata": {},
   "outputs": [],
   "source": [
    "# Predicting Using Best Parameters\n",
    "g_pred = grid.predict(X_test)"
   ]
  },
  {
   "cell_type": "code",
   "execution_count": 30,
   "metadata": {},
   "outputs": [
    {
     "name": "stdout",
     "output_type": "stream",
     "text": [
      "[[822 116]\n",
      " [111 520]]\n",
      "\n",
      "              precision    recall  f1-score   support\n",
      "\n",
      "      benign       0.88      0.88      0.88       938\n",
      "   malicious       0.82      0.82      0.82       631\n",
      "\n",
      "    accuracy                           0.86      1569\n",
      "   macro avg       0.85      0.85      0.85      1569\n",
      "weighted avg       0.86      0.86      0.86      1569\n",
      "\n"
     ]
    }
   ],
   "source": [
    "print(confusion_matrix(y_test,g_pred))\n",
    "print()\n",
    "print(classification_report(y_test,g_pred))"
   ]
  },
  {
   "cell_type": "code",
   "execution_count": null,
   "metadata": {},
   "outputs": [],
   "source": []
  }
 ],
 "metadata": {
  "kernelspec": {
   "display_name": "Python 3",
   "language": "python",
   "name": "python3"
  },
  "language_info": {
   "codemirror_mode": {
    "name": "ipython",
    "version": 3
   },
   "file_extension": ".py",
   "mimetype": "text/x-python",
   "name": "python",
   "nbconvert_exporter": "python",
   "pygments_lexer": "ipython3",
   "version": "3.8.2"
  }
 },
 "nbformat": 4,
 "nbformat_minor": 4
}
